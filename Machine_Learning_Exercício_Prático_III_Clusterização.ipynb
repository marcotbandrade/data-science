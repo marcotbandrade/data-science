{
  "nbformat": 4,
  "nbformat_minor": 0,
  "metadata": {
    "colab": {
      "provenance": [],
      "collapsed_sections": []
    },
    "kernelspec": {
      "name": "python3",
      "display_name": "Python 3"
    },
    "language_info": {
      "name": "python"
    }
  },
  "cells": [
    {
      "cell_type": "markdown",
      "source": [
        "<div align='center'>\n",
        "  Pontifícia Universidade Católica de Minas Gerais</br>\n",
        "  Programa de Pós-Graduação em Ciência de Dados e Big Data</br>\n",
        "  Machine Learning\n",
        "</div>\n",
        "</br>\n",
        "\n",
        "<div align='center'>\n",
        "  <h1><b>Exercício Prático III - Clusterização</b></h1>\n",
        "</div>\n",
        "</br>\n",
        "\n",
        "<div align='right'>\n",
        "  Aluno: Marco Túlio Barbosa Andrade</br>\n",
        "  Professor: Cristiano Rodrigues de Carvalho\n",
        "</div>\n",
        "</br>\n",
        "\n",
        "<div align='center'>\n",
        "  Belo Horizonte</br>\n",
        "  2022\n",
        "</div>"
      ],
      "metadata": {
        "id": "20UF6buGxMkl"
      }
    },
    {
      "cell_type": "markdown",
      "source": [
        "## Instalação e importação das bibliotecas"
      ],
      "metadata": {
        "id": "s8HKh5-CyDZb"
      }
    },
    {
      "cell_type": "code",
      "execution_count": 3,
      "metadata": {
        "id": "1LvqjQoIw2EA",
        "colab": {
          "base_uri": "https://localhost:8080/"
        },
        "outputId": "d1420257-4d9e-4a7a-d8e2-cd134d3d09a3"
      },
      "outputs": [
        {
          "output_type": "stream",
          "name": "stdout",
          "text": [
            "Looking in indexes: https://pypi.org/simple, https://us-python.pkg.dev/colab-wheels/public/simple/\n",
            "Requirement already satisfied: kaleido in /usr/local/lib/python3.7/dist-packages (0.2.1)\n"
          ]
        }
      ],
      "source": [
        "!pip install -U kaleido\n",
        "\n",
        "import numpy as np\n",
        "import pandas as pd\n",
        "import plotly.express as px\n",
        "import plotly.io as pio\n",
        "from sklearn.cluster import KMeans\n",
        "\n",
        "pio.renderers.default = \"png\""
      ]
    },
    {
      "cell_type": "markdown",
      "source": [
        "## Importação dos dados"
      ],
      "metadata": {
        "id": "cpSoPKkvywcg"
      }
    },
    {
      "cell_type": "markdown",
      "source": [
        "**Resumo dos dados:**\n",
        "- Peso: numérico;\n",
        "- Colesterol: numérico\n",
        "- Genero: 0 - feminino, 1 - masculino"
      ],
      "metadata": {
        "id": "TQQZKqX65RBS"
      }
    },
    {
      "cell_type": "code",
      "source": [
        "df = pd.read_excel('saude.xlsx', index_col=None, header=0)"
      ],
      "metadata": {
        "id": "IAN8AmTdyLaK"
      },
      "execution_count": 4,
      "outputs": []
    },
    {
      "cell_type": "markdown",
      "source": [
        "## Definição da semente"
      ],
      "metadata": {
        "id": "vzatv2ZWZYEz"
      }
    },
    {
      "cell_type": "code",
      "source": [
        "seed = 17"
      ],
      "metadata": {
        "id": "tUyZKiQRZaIL"
      },
      "execution_count": 5,
      "outputs": []
    },
    {
      "cell_type": "markdown",
      "source": [
        "## Análise inicial"
      ],
      "metadata": {
        "id": "1qCURYzu15w3"
      }
    },
    {
      "cell_type": "code",
      "source": [
        "# Cabeçalho\n",
        "df.head(5)"
      ],
      "metadata": {
        "colab": {
          "base_uri": "https://localhost:8080/",
          "height": 206
        },
        "id": "iMnZL1Az1suH",
        "outputId": "ce8fe1ff-1edd-43f2-c0c3-0004116b1257"
      },
      "execution_count": 6,
      "outputs": [
        {
          "output_type": "execute_result",
          "data": {
            "text/plain": [
              "   Peso  Colesterol  Genero\n",
              "0   102         111       1\n",
              "1   115         135       1\n",
              "2   115         136       1\n",
              "3   140         167       0\n",
              "4   130         158       1"
            ],
            "text/html": [
              "\n",
              "  <div id=\"df-b6925dc0-5976-419a-b8fd-32b5feda5870\">\n",
              "    <div class=\"colab-df-container\">\n",
              "      <div>\n",
              "<style scoped>\n",
              "    .dataframe tbody tr th:only-of-type {\n",
              "        vertical-align: middle;\n",
              "    }\n",
              "\n",
              "    .dataframe tbody tr th {\n",
              "        vertical-align: top;\n",
              "    }\n",
              "\n",
              "    .dataframe thead th {\n",
              "        text-align: right;\n",
              "    }\n",
              "</style>\n",
              "<table border=\"1\" class=\"dataframe\">\n",
              "  <thead>\n",
              "    <tr style=\"text-align: right;\">\n",
              "      <th></th>\n",
              "      <th>Peso</th>\n",
              "      <th>Colesterol</th>\n",
              "      <th>Genero</th>\n",
              "    </tr>\n",
              "  </thead>\n",
              "  <tbody>\n",
              "    <tr>\n",
              "      <th>0</th>\n",
              "      <td>102</td>\n",
              "      <td>111</td>\n",
              "      <td>1</td>\n",
              "    </tr>\n",
              "    <tr>\n",
              "      <th>1</th>\n",
              "      <td>115</td>\n",
              "      <td>135</td>\n",
              "      <td>1</td>\n",
              "    </tr>\n",
              "    <tr>\n",
              "      <th>2</th>\n",
              "      <td>115</td>\n",
              "      <td>136</td>\n",
              "      <td>1</td>\n",
              "    </tr>\n",
              "    <tr>\n",
              "      <th>3</th>\n",
              "      <td>140</td>\n",
              "      <td>167</td>\n",
              "      <td>0</td>\n",
              "    </tr>\n",
              "    <tr>\n",
              "      <th>4</th>\n",
              "      <td>130</td>\n",
              "      <td>158</td>\n",
              "      <td>1</td>\n",
              "    </tr>\n",
              "  </tbody>\n",
              "</table>\n",
              "</div>\n",
              "      <button class=\"colab-df-convert\" onclick=\"convertToInteractive('df-b6925dc0-5976-419a-b8fd-32b5feda5870')\"\n",
              "              title=\"Convert this dataframe to an interactive table.\"\n",
              "              style=\"display:none;\">\n",
              "        \n",
              "  <svg xmlns=\"http://www.w3.org/2000/svg\" height=\"24px\"viewBox=\"0 0 24 24\"\n",
              "       width=\"24px\">\n",
              "    <path d=\"M0 0h24v24H0V0z\" fill=\"none\"/>\n",
              "    <path d=\"M18.56 5.44l.94 2.06.94-2.06 2.06-.94-2.06-.94-.94-2.06-.94 2.06-2.06.94zm-11 1L8.5 8.5l.94-2.06 2.06-.94-2.06-.94L8.5 2.5l-.94 2.06-2.06.94zm10 10l.94 2.06.94-2.06 2.06-.94-2.06-.94-.94-2.06-.94 2.06-2.06.94z\"/><path d=\"M17.41 7.96l-1.37-1.37c-.4-.4-.92-.59-1.43-.59-.52 0-1.04.2-1.43.59L10.3 9.45l-7.72 7.72c-.78.78-.78 2.05 0 2.83L4 21.41c.39.39.9.59 1.41.59.51 0 1.02-.2 1.41-.59l7.78-7.78 2.81-2.81c.8-.78.8-2.07 0-2.86zM5.41 20L4 18.59l7.72-7.72 1.47 1.35L5.41 20z\"/>\n",
              "  </svg>\n",
              "      </button>\n",
              "      \n",
              "  <style>\n",
              "    .colab-df-container {\n",
              "      display:flex;\n",
              "      flex-wrap:wrap;\n",
              "      gap: 12px;\n",
              "    }\n",
              "\n",
              "    .colab-df-convert {\n",
              "      background-color: #E8F0FE;\n",
              "      border: none;\n",
              "      border-radius: 50%;\n",
              "      cursor: pointer;\n",
              "      display: none;\n",
              "      fill: #1967D2;\n",
              "      height: 32px;\n",
              "      padding: 0 0 0 0;\n",
              "      width: 32px;\n",
              "    }\n",
              "\n",
              "    .colab-df-convert:hover {\n",
              "      background-color: #E2EBFA;\n",
              "      box-shadow: 0px 1px 2px rgba(60, 64, 67, 0.3), 0px 1px 3px 1px rgba(60, 64, 67, 0.15);\n",
              "      fill: #174EA6;\n",
              "    }\n",
              "\n",
              "    [theme=dark] .colab-df-convert {\n",
              "      background-color: #3B4455;\n",
              "      fill: #D2E3FC;\n",
              "    }\n",
              "\n",
              "    [theme=dark] .colab-df-convert:hover {\n",
              "      background-color: #434B5C;\n",
              "      box-shadow: 0px 1px 3px 1px rgba(0, 0, 0, 0.15);\n",
              "      filter: drop-shadow(0px 1px 2px rgba(0, 0, 0, 0.3));\n",
              "      fill: #FFFFFF;\n",
              "    }\n",
              "  </style>\n",
              "\n",
              "      <script>\n",
              "        const buttonEl =\n",
              "          document.querySelector('#df-b6925dc0-5976-419a-b8fd-32b5feda5870 button.colab-df-convert');\n",
              "        buttonEl.style.display =\n",
              "          google.colab.kernel.accessAllowed ? 'block' : 'none';\n",
              "\n",
              "        async function convertToInteractive(key) {\n",
              "          const element = document.querySelector('#df-b6925dc0-5976-419a-b8fd-32b5feda5870');\n",
              "          const dataTable =\n",
              "            await google.colab.kernel.invokeFunction('convertToInteractive',\n",
              "                                                     [key], {});\n",
              "          if (!dataTable) return;\n",
              "\n",
              "          const docLinkHtml = 'Like what you see? Visit the ' +\n",
              "            '<a target=\"_blank\" href=https://colab.research.google.com/notebooks/data_table.ipynb>data table notebook</a>'\n",
              "            + ' to learn more about interactive tables.';\n",
              "          element.innerHTML = '';\n",
              "          dataTable['output_type'] = 'display_data';\n",
              "          await google.colab.output.renderOutput(dataTable, element);\n",
              "          const docLink = document.createElement('div');\n",
              "          docLink.innerHTML = docLinkHtml;\n",
              "          element.appendChild(docLink);\n",
              "        }\n",
              "      </script>\n",
              "    </div>\n",
              "  </div>\n",
              "  "
            ]
          },
          "metadata": {},
          "execution_count": 6
        }
      ]
    },
    {
      "cell_type": "code",
      "source": [
        "# Rodapé\n",
        "df.tail(5)"
      ],
      "metadata": {
        "colab": {
          "base_uri": "https://localhost:8080/",
          "height": 206
        },
        "id": "0e8M9vgU2CK0",
        "outputId": "1bd6e9f0-a752-43cc-8b5e-9703279849a6"
      },
      "execution_count": 7,
      "outputs": [
        {
          "output_type": "execute_result",
          "data": {
            "text/plain": [
              "     Peso  Colesterol  Genero\n",
              "542   172         207       1\n",
              "543   129         157       1\n",
              "544   107         115       1\n",
              "545   117         147       1\n",
              "546   148         176       1"
            ],
            "text/html": [
              "\n",
              "  <div id=\"df-3247c733-708c-4fb3-9d7b-78eabadceb0c\">\n",
              "    <div class=\"colab-df-container\">\n",
              "      <div>\n",
              "<style scoped>\n",
              "    .dataframe tbody tr th:only-of-type {\n",
              "        vertical-align: middle;\n",
              "    }\n",
              "\n",
              "    .dataframe tbody tr th {\n",
              "        vertical-align: top;\n",
              "    }\n",
              "\n",
              "    .dataframe thead th {\n",
              "        text-align: right;\n",
              "    }\n",
              "</style>\n",
              "<table border=\"1\" class=\"dataframe\">\n",
              "  <thead>\n",
              "    <tr style=\"text-align: right;\">\n",
              "      <th></th>\n",
              "      <th>Peso</th>\n",
              "      <th>Colesterol</th>\n",
              "      <th>Genero</th>\n",
              "    </tr>\n",
              "  </thead>\n",
              "  <tbody>\n",
              "    <tr>\n",
              "      <th>542</th>\n",
              "      <td>172</td>\n",
              "      <td>207</td>\n",
              "      <td>1</td>\n",
              "    </tr>\n",
              "    <tr>\n",
              "      <th>543</th>\n",
              "      <td>129</td>\n",
              "      <td>157</td>\n",
              "      <td>1</td>\n",
              "    </tr>\n",
              "    <tr>\n",
              "      <th>544</th>\n",
              "      <td>107</td>\n",
              "      <td>115</td>\n",
              "      <td>1</td>\n",
              "    </tr>\n",
              "    <tr>\n",
              "      <th>545</th>\n",
              "      <td>117</td>\n",
              "      <td>147</td>\n",
              "      <td>1</td>\n",
              "    </tr>\n",
              "    <tr>\n",
              "      <th>546</th>\n",
              "      <td>148</td>\n",
              "      <td>176</td>\n",
              "      <td>1</td>\n",
              "    </tr>\n",
              "  </tbody>\n",
              "</table>\n",
              "</div>\n",
              "      <button class=\"colab-df-convert\" onclick=\"convertToInteractive('df-3247c733-708c-4fb3-9d7b-78eabadceb0c')\"\n",
              "              title=\"Convert this dataframe to an interactive table.\"\n",
              "              style=\"display:none;\">\n",
              "        \n",
              "  <svg xmlns=\"http://www.w3.org/2000/svg\" height=\"24px\"viewBox=\"0 0 24 24\"\n",
              "       width=\"24px\">\n",
              "    <path d=\"M0 0h24v24H0V0z\" fill=\"none\"/>\n",
              "    <path d=\"M18.56 5.44l.94 2.06.94-2.06 2.06-.94-2.06-.94-.94-2.06-.94 2.06-2.06.94zm-11 1L8.5 8.5l.94-2.06 2.06-.94-2.06-.94L8.5 2.5l-.94 2.06-2.06.94zm10 10l.94 2.06.94-2.06 2.06-.94-2.06-.94-.94-2.06-.94 2.06-2.06.94z\"/><path d=\"M17.41 7.96l-1.37-1.37c-.4-.4-.92-.59-1.43-.59-.52 0-1.04.2-1.43.59L10.3 9.45l-7.72 7.72c-.78.78-.78 2.05 0 2.83L4 21.41c.39.39.9.59 1.41.59.51 0 1.02-.2 1.41-.59l7.78-7.78 2.81-2.81c.8-.78.8-2.07 0-2.86zM5.41 20L4 18.59l7.72-7.72 1.47 1.35L5.41 20z\"/>\n",
              "  </svg>\n",
              "      </button>\n",
              "      \n",
              "  <style>\n",
              "    .colab-df-container {\n",
              "      display:flex;\n",
              "      flex-wrap:wrap;\n",
              "      gap: 12px;\n",
              "    }\n",
              "\n",
              "    .colab-df-convert {\n",
              "      background-color: #E8F0FE;\n",
              "      border: none;\n",
              "      border-radius: 50%;\n",
              "      cursor: pointer;\n",
              "      display: none;\n",
              "      fill: #1967D2;\n",
              "      height: 32px;\n",
              "      padding: 0 0 0 0;\n",
              "      width: 32px;\n",
              "    }\n",
              "\n",
              "    .colab-df-convert:hover {\n",
              "      background-color: #E2EBFA;\n",
              "      box-shadow: 0px 1px 2px rgba(60, 64, 67, 0.3), 0px 1px 3px 1px rgba(60, 64, 67, 0.15);\n",
              "      fill: #174EA6;\n",
              "    }\n",
              "\n",
              "    [theme=dark] .colab-df-convert {\n",
              "      background-color: #3B4455;\n",
              "      fill: #D2E3FC;\n",
              "    }\n",
              "\n",
              "    [theme=dark] .colab-df-convert:hover {\n",
              "      background-color: #434B5C;\n",
              "      box-shadow: 0px 1px 3px 1px rgba(0, 0, 0, 0.15);\n",
              "      filter: drop-shadow(0px 1px 2px rgba(0, 0, 0, 0.3));\n",
              "      fill: #FFFFFF;\n",
              "    }\n",
              "  </style>\n",
              "\n",
              "      <script>\n",
              "        const buttonEl =\n",
              "          document.querySelector('#df-3247c733-708c-4fb3-9d7b-78eabadceb0c button.colab-df-convert');\n",
              "        buttonEl.style.display =\n",
              "          google.colab.kernel.accessAllowed ? 'block' : 'none';\n",
              "\n",
              "        async function convertToInteractive(key) {\n",
              "          const element = document.querySelector('#df-3247c733-708c-4fb3-9d7b-78eabadceb0c');\n",
              "          const dataTable =\n",
              "            await google.colab.kernel.invokeFunction('convertToInteractive',\n",
              "                                                     [key], {});\n",
              "          if (!dataTable) return;\n",
              "\n",
              "          const docLinkHtml = 'Like what you see? Visit the ' +\n",
              "            '<a target=\"_blank\" href=https://colab.research.google.com/notebooks/data_table.ipynb>data table notebook</a>'\n",
              "            + ' to learn more about interactive tables.';\n",
              "          element.innerHTML = '';\n",
              "          dataTable['output_type'] = 'display_data';\n",
              "          await google.colab.output.renderOutput(dataTable, element);\n",
              "          const docLink = document.createElement('div');\n",
              "          docLink.innerHTML = docLinkHtml;\n",
              "          element.appendChild(docLink);\n",
              "        }\n",
              "      </script>\n",
              "    </div>\n",
              "  </div>\n",
              "  "
            ]
          },
          "metadata": {},
          "execution_count": 7
        }
      ]
    },
    {
      "cell_type": "code",
      "source": [
        "# Número de linhas e colunas\n",
        "df.shape"
      ],
      "metadata": {
        "colab": {
          "base_uri": "https://localhost:8080/"
        },
        "id": "GdtsWHdU2BIz",
        "outputId": "c68f172a-c2a7-449f-c379-564735d7a76f"
      },
      "execution_count": 8,
      "outputs": [
        {
          "output_type": "execute_result",
          "data": {
            "text/plain": [
              "(547, 3)"
            ]
          },
          "metadata": {},
          "execution_count": 8
        }
      ]
    },
    {
      "cell_type": "code",
      "source": [
        "# Informações\n",
        "df.info()"
      ],
      "metadata": {
        "colab": {
          "base_uri": "https://localhost:8080/"
        },
        "id": "H7AqB1HW2KXv",
        "outputId": "9af6d8fa-3ce0-4a9d-8d04-8313c7c1f608"
      },
      "execution_count": 9,
      "outputs": [
        {
          "output_type": "stream",
          "name": "stdout",
          "text": [
            "<class 'pandas.core.frame.DataFrame'>\n",
            "RangeIndex: 547 entries, 0 to 546\n",
            "Data columns (total 3 columns):\n",
            " #   Column      Non-Null Count  Dtype\n",
            "---  ------      --------------  -----\n",
            " 0   Peso        547 non-null    int64\n",
            " 1   Colesterol  547 non-null    int64\n",
            " 2   Genero      547 non-null    int64\n",
            "dtypes: int64(3)\n",
            "memory usage: 12.9 KB\n"
          ]
        }
      ]
    },
    {
      "cell_type": "code",
      "source": [
        "# Dados faltantes\n",
        "df.isnull().sum()"
      ],
      "metadata": {
        "colab": {
          "base_uri": "https://localhost:8080/"
        },
        "id": "oWOFPXgG2e3P",
        "outputId": "d4ab9623-7021-43a2-c98c-756ad95bbd7e"
      },
      "execution_count": 10,
      "outputs": [
        {
          "output_type": "execute_result",
          "data": {
            "text/plain": [
              "Peso          0\n",
              "Colesterol    0\n",
              "Genero        0\n",
              "dtype: int64"
            ]
          },
          "metadata": {},
          "execution_count": 10
        }
      ]
    },
    {
      "cell_type": "code",
      "source": [
        "# Scatter plot\n",
        "fig = px.scatter(df, x='Peso', y=\"Colesterol\", width=400, height=400)\n",
        "fig.show()"
      ],
      "metadata": {
        "colab": {
          "base_uri": "https://localhost:8080/",
          "height": 417
        },
        "id": "FeIsj2vI0NPe",
        "outputId": "f6d527f6-5bdd-485e-ab43-391261653252"
      },
      "execution_count": 11,
      "outputs": [
        {
          "output_type": "display_data",
          "data": {
            "image/png": "[encoded data removed]"
          },
          "metadata": {}
        }
      ]
    },
    {
      "cell_type": "markdown",
      "source": [
        "## Estatística descritiva"
      ],
      "metadata": {
        "id": "q-seG8_k2xcB"
      }
    },
    {
      "cell_type": "code",
      "source": [
        "# Campos numéricos\n",
        "df.describe()"
      ],
      "metadata": {
        "colab": {
          "base_uri": "https://localhost:8080/",
          "height": 300
        },
        "id": "rcGQCDYx20Jn",
        "outputId": "2a6f86e9-f140-468f-80fb-dd8af605ff1b"
      },
      "execution_count": 12,
      "outputs": [
        {
          "output_type": "execute_result",
          "data": {
            "text/plain": [
              "             Peso  Colesterol      Genero\n",
              "count  547.000000  547.000000  547.000000\n",
              "mean   143.572212  170.433272    0.513711\n",
              "std     30.837275   39.147189    0.500269\n",
              "min     95.000000  102.000000    0.000000\n",
              "25%    116.000000  136.000000    0.000000\n",
              "50%    140.000000  169.000000    1.000000\n",
              "75%    171.000000  208.000000    1.000000\n",
              "max    203.000000  235.000000    1.000000"
            ],
            "text/html": [
              "\n",
              "  <div id=\"df-68369b92-fd31-456c-a66c-45dfa285b07e\">\n",
              "    <div class=\"colab-df-container\">\n",
              "      <div>\n",
              "<style scoped>\n",
              "    .dataframe tbody tr th:only-of-type {\n",
              "        vertical-align: middle;\n",
              "    }\n",
              "\n",
              "    .dataframe tbody tr th {\n",
              "        vertical-align: top;\n",
              "    }\n",
              "\n",
              "    .dataframe thead th {\n",
              "        text-align: right;\n",
              "    }\n",
              "</style>\n",
              "<table border=\"1\" class=\"dataframe\">\n",
              "  <thead>\n",
              "    <tr style=\"text-align: right;\">\n",
              "      <th></th>\n",
              "      <th>Peso</th>\n",
              "      <th>Colesterol</th>\n",
              "      <th>Genero</th>\n",
              "    </tr>\n",
              "  </thead>\n",
              "  <tbody>\n",
              "    <tr>\n",
              "      <th>count</th>\n",
              "      <td>547.000000</td>\n",
              "      <td>547.000000</td>\n",
              "      <td>547.000000</td>\n",
              "    </tr>\n",
              "    <tr>\n",
              "      <th>mean</th>\n",
              "      <td>143.572212</td>\n",
              "      <td>170.433272</td>\n",
              "      <td>0.513711</td>\n",
              "    </tr>\n",
              "    <tr>\n",
              "      <th>std</th>\n",
              "      <td>30.837275</td>\n",
              "      <td>39.147189</td>\n",
              "      <td>0.500269</td>\n",
              "    </tr>\n",
              "    <tr>\n",
              "      <th>min</th>\n",
              "      <td>95.000000</td>\n",
              "      <td>102.000000</td>\n",
              "      <td>0.000000</td>\n",
              "    </tr>\n",
              "    <tr>\n",
              "      <th>25%</th>\n",
              "      <td>116.000000</td>\n",
              "      <td>136.000000</td>\n",
              "      <td>0.000000</td>\n",
              "    </tr>\n",
              "    <tr>\n",
              "      <th>50%</th>\n",
              "      <td>140.000000</td>\n",
              "      <td>169.000000</td>\n",
              "      <td>1.000000</td>\n",
              "    </tr>\n",
              "    <tr>\n",
              "      <th>75%</th>\n",
              "      <td>171.000000</td>\n",
              "      <td>208.000000</td>\n",
              "      <td>1.000000</td>\n",
              "    </tr>\n",
              "    <tr>\n",
              "      <th>max</th>\n",
              "      <td>203.000000</td>\n",
              "      <td>235.000000</td>\n",
              "      <td>1.000000</td>\n",
              "    </tr>\n",
              "  </tbody>\n",
              "</table>\n",
              "</div>\n",
              "      <button class=\"colab-df-convert\" onclick=\"convertToInteractive('df-68369b92-fd31-456c-a66c-45dfa285b07e')\"\n",
              "              title=\"Convert this dataframe to an interactive table.\"\n",
              "              style=\"display:none;\">\n",
              "        \n",
              "  <svg xmlns=\"http://www.w3.org/2000/svg\" height=\"24px\"viewBox=\"0 0 24 24\"\n",
              "       width=\"24px\">\n",
              "    <path d=\"M0 0h24v24H0V0z\" fill=\"none\"/>\n",
              "    <path d=\"M18.56 5.44l.94 2.06.94-2.06 2.06-.94-2.06-.94-.94-2.06-.94 2.06-2.06.94zm-11 1L8.5 8.5l.94-2.06 2.06-.94-2.06-.94L8.5 2.5l-.94 2.06-2.06.94zm10 10l.94 2.06.94-2.06 2.06-.94-2.06-.94-.94-2.06-.94 2.06-2.06.94z\"/><path d=\"M17.41 7.96l-1.37-1.37c-.4-.4-.92-.59-1.43-.59-.52 0-1.04.2-1.43.59L10.3 9.45l-7.72 7.72c-.78.78-.78 2.05 0 2.83L4 21.41c.39.39.9.59 1.41.59.51 0 1.02-.2 1.41-.59l7.78-7.78 2.81-2.81c.8-.78.8-2.07 0-2.86zM5.41 20L4 18.59l7.72-7.72 1.47 1.35L5.41 20z\"/>\n",
              "  </svg>\n",
              "      </button>\n",
              "      \n",
              "  <style>\n",
              "    .colab-df-container {\n",
              "      display:flex;\n",
              "      flex-wrap:wrap;\n",
              "      gap: 12px;\n",
              "    }\n",
              "\n",
              "    .colab-df-convert {\n",
              "      background-color: #E8F0FE;\n",
              "      border: none;\n",
              "      border-radius: 50%;\n",
              "      cursor: pointer;\n",
              "      display: none;\n",
              "      fill: #1967D2;\n",
              "      height: 32px;\n",
              "      padding: 0 0 0 0;\n",
              "      width: 32px;\n",
              "    }\n",
              "\n",
              "    .colab-df-convert:hover {\n",
              "      background-color: #E2EBFA;\n",
              "      box-shadow: 0px 1px 2px rgba(60, 64, 67, 0.3), 0px 1px 3px 1px rgba(60, 64, 67, 0.15);\n",
              "      fill: #174EA6;\n",
              "    }\n",
              "\n",
              "    [theme=dark] .colab-df-convert {\n",
              "      background-color: #3B4455;\n",
              "      fill: #D2E3FC;\n",
              "    }\n",
              "\n",
              "    [theme=dark] .colab-df-convert:hover {\n",
              "      background-color: #434B5C;\n",
              "      box-shadow: 0px 1px 3px 1px rgba(0, 0, 0, 0.15);\n",
              "      filter: drop-shadow(0px 1px 2px rgba(0, 0, 0, 0.3));\n",
              "      fill: #FFFFFF;\n",
              "    }\n",
              "  </style>\n",
              "\n",
              "      <script>\n",
              "        const buttonEl =\n",
              "          document.querySelector('#df-68369b92-fd31-456c-a66c-45dfa285b07e button.colab-df-convert');\n",
              "        buttonEl.style.display =\n",
              "          google.colab.kernel.accessAllowed ? 'block' : 'none';\n",
              "\n",
              "        async function convertToInteractive(key) {\n",
              "          const element = document.querySelector('#df-68369b92-fd31-456c-a66c-45dfa285b07e');\n",
              "          const dataTable =\n",
              "            await google.colab.kernel.invokeFunction('convertToInteractive',\n",
              "                                                     [key], {});\n",
              "          if (!dataTable) return;\n",
              "\n",
              "          const docLinkHtml = 'Like what you see? Visit the ' +\n",
              "            '<a target=\"_blank\" href=https://colab.research.google.com/notebooks/data_table.ipynb>data table notebook</a>'\n",
              "            + ' to learn more about interactive tables.';\n",
              "          element.innerHTML = '';\n",
              "          dataTable['output_type'] = 'display_data';\n",
              "          await google.colab.output.renderOutput(dataTable, element);\n",
              "          const docLink = document.createElement('div');\n",
              "          docLink.innerHTML = docLinkHtml;\n",
              "          element.appendChild(docLink);\n",
              "        }\n",
              "      </script>\n",
              "    </div>\n",
              "  </div>\n",
              "  "
            ]
          },
          "metadata": {},
          "execution_count": 12
        }
      ]
    },
    {
      "cell_type": "markdown",
      "source": [
        "## Preparação dos dados"
      ],
      "metadata": {
        "id": "IGGra_oVCZsK"
      }
    },
    {
      "cell_type": "markdown",
      "source": [
        "Como a base de dados possui informações de indivíduos de dois gêneros, obtou-se por dividi-la em duas para que a análise seja mais específica. A princípio, valores referenciais desejáveis de colesterol independem de gênero, porém os pesos médios, em geral, são diferentes."
      ],
      "metadata": {
        "id": "ggCGhA9sn-Eu"
      }
    },
    {
      "cell_type": "code",
      "source": [
        "# Criação do dataset masculino\n",
        "df_masc = df[df['Genero']==1][['Peso', 'Colesterol']]\n",
        "df_masc.describe()"
      ],
      "metadata": {
        "colab": {
          "base_uri": "https://localhost:8080/",
          "height": 300
        },
        "id": "TV8W5GjJogE_",
        "outputId": "f75e04a2-f436-43c2-f0d8-791b779e23bb"
      },
      "execution_count": 13,
      "outputs": [
        {
          "output_type": "execute_result",
          "data": {
            "text/plain": [
              "             Peso  Colesterol\n",
              "count  281.000000  281.000000\n",
              "mean   143.765125  170.032028\n",
              "std     32.283371   41.152882\n",
              "min     95.000000  102.000000\n",
              "25%    115.000000  133.000000\n",
              "50%    142.000000  172.000000\n",
              "75%    173.000000  209.000000\n",
              "max    203.000000  235.000000"
            ],
            "text/html": [
              "\n",
              "  <div id=\"df-e10d0eb9-0ec5-43ca-b6d2-3de998f52c09\">\n",
              "    <div class=\"colab-df-container\">\n",
              "      <div>\n",
              "<style scoped>\n",
              "    .dataframe tbody tr th:only-of-type {\n",
              "        vertical-align: middle;\n",
              "    }\n",
              "\n",
              "    .dataframe tbody tr th {\n",
              "        vertical-align: top;\n",
              "    }\n",
              "\n",
              "    .dataframe thead th {\n",
              "        text-align: right;\n",
              "    }\n",
              "</style>\n",
              "<table border=\"1\" class=\"dataframe\">\n",
              "  <thead>\n",
              "    <tr style=\"text-align: right;\">\n",
              "      <th></th>\n",
              "      <th>Peso</th>\n",
              "      <th>Colesterol</th>\n",
              "    </tr>\n",
              "  </thead>\n",
              "  <tbody>\n",
              "    <tr>\n",
              "      <th>count</th>\n",
              "      <td>281.000000</td>\n",
              "      <td>281.000000</td>\n",
              "    </tr>\n",
              "    <tr>\n",
              "      <th>mean</th>\n",
              "      <td>143.765125</td>\n",
              "      <td>170.032028</td>\n",
              "    </tr>\n",
              "    <tr>\n",
              "      <th>std</th>\n",
              "      <td>32.283371</td>\n",
              "      <td>41.152882</td>\n",
              "    </tr>\n",
              "    <tr>\n",
              "      <th>min</th>\n",
              "      <td>95.000000</td>\n",
              "      <td>102.000000</td>\n",
              "    </tr>\n",
              "    <tr>\n",
              "      <th>25%</th>\n",
              "      <td>115.000000</td>\n",
              "      <td>133.000000</td>\n",
              "    </tr>\n",
              "    <tr>\n",
              "      <th>50%</th>\n",
              "      <td>142.000000</td>\n",
              "      <td>172.000000</td>\n",
              "    </tr>\n",
              "    <tr>\n",
              "      <th>75%</th>\n",
              "      <td>173.000000</td>\n",
              "      <td>209.000000</td>\n",
              "    </tr>\n",
              "    <tr>\n",
              "      <th>max</th>\n",
              "      <td>203.000000</td>\n",
              "      <td>235.000000</td>\n",
              "    </tr>\n",
              "  </tbody>\n",
              "</table>\n",
              "</div>\n",
              "      <button class=\"colab-df-convert\" onclick=\"convertToInteractive('df-e10d0eb9-0ec5-43ca-b6d2-3de998f52c09')\"\n",
              "              title=\"Convert this dataframe to an interactive table.\"\n",
              "              style=\"display:none;\">\n",
              "        \n",
              "  <svg xmlns=\"http://www.w3.org/2000/svg\" height=\"24px\"viewBox=\"0 0 24 24\"\n",
              "       width=\"24px\">\n",
              "    <path d=\"M0 0h24v24H0V0z\" fill=\"none\"/>\n",
              "    <path d=\"M18.56 5.44l.94 2.06.94-2.06 2.06-.94-2.06-.94-.94-2.06-.94 2.06-2.06.94zm-11 1L8.5 8.5l.94-2.06 2.06-.94-2.06-.94L8.5 2.5l-.94 2.06-2.06.94zm10 10l.94 2.06.94-2.06 2.06-.94-2.06-.94-.94-2.06-.94 2.06-2.06.94z\"/><path d=\"M17.41 7.96l-1.37-1.37c-.4-.4-.92-.59-1.43-.59-.52 0-1.04.2-1.43.59L10.3 9.45l-7.72 7.72c-.78.78-.78 2.05 0 2.83L4 21.41c.39.39.9.59 1.41.59.51 0 1.02-.2 1.41-.59l7.78-7.78 2.81-2.81c.8-.78.8-2.07 0-2.86zM5.41 20L4 18.59l7.72-7.72 1.47 1.35L5.41 20z\"/>\n",
              "  </svg>\n",
              "      </button>\n",
              "      \n",
              "  <style>\n",
              "    .colab-df-container {\n",
              "      display:flex;\n",
              "      flex-wrap:wrap;\n",
              "      gap: 12px;\n",
              "    }\n",
              "\n",
              "    .colab-df-convert {\n",
              "      background-color: #E8F0FE;\n",
              "      border: none;\n",
              "      border-radius: 50%;\n",
              "      cursor: pointer;\n",
              "      display: none;\n",
              "      fill: #1967D2;\n",
              "      height: 32px;\n",
              "      padding: 0 0 0 0;\n",
              "      width: 32px;\n",
              "    }\n",
              "\n",
              "    .colab-df-convert:hover {\n",
              "      background-color: #E2EBFA;\n",
              "      box-shadow: 0px 1px 2px rgba(60, 64, 67, 0.3), 0px 1px 3px 1px rgba(60, 64, 67, 0.15);\n",
              "      fill: #174EA6;\n",
              "    }\n",
              "\n",
              "    [theme=dark] .colab-df-convert {\n",
              "      background-color: #3B4455;\n",
              "      fill: #D2E3FC;\n",
              "    }\n",
              "\n",
              "    [theme=dark] .colab-df-convert:hover {\n",
              "      background-color: #434B5C;\n",
              "      box-shadow: 0px 1px 3px 1px rgba(0, 0, 0, 0.15);\n",
              "      filter: drop-shadow(0px 1px 2px rgba(0, 0, 0, 0.3));\n",
              "      fill: #FFFFFF;\n",
              "    }\n",
              "  </style>\n",
              "\n",
              "      <script>\n",
              "        const buttonEl =\n",
              "          document.querySelector('#df-e10d0eb9-0ec5-43ca-b6d2-3de998f52c09 button.colab-df-convert');\n",
              "        buttonEl.style.display =\n",
              "          google.colab.kernel.accessAllowed ? 'block' : 'none';\n",
              "\n",
              "        async function convertToInteractive(key) {\n",
              "          const element = document.querySelector('#df-e10d0eb9-0ec5-43ca-b6d2-3de998f52c09');\n",
              "          const dataTable =\n",
              "            await google.colab.kernel.invokeFunction('convertToInteractive',\n",
              "                                                     [key], {});\n",
              "          if (!dataTable) return;\n",
              "\n",
              "          const docLinkHtml = 'Like what you see? Visit the ' +\n",
              "            '<a target=\"_blank\" href=https://colab.research.google.com/notebooks/data_table.ipynb>data table notebook</a>'\n",
              "            + ' to learn more about interactive tables.';\n",
              "          element.innerHTML = '';\n",
              "          dataTable['output_type'] = 'display_data';\n",
              "          await google.colab.output.renderOutput(dataTable, element);\n",
              "          const docLink = document.createElement('div');\n",
              "          docLink.innerHTML = docLinkHtml;\n",
              "          element.appendChild(docLink);\n",
              "        }\n",
              "      </script>\n",
              "    </div>\n",
              "  </div>\n",
              "  "
            ]
          },
          "metadata": {},
          "execution_count": 13
        }
      ]
    },
    {
      "cell_type": "code",
      "source": [
        "# Criação do dataset feminino\n",
        "df_fem = df[df['Genero']==0][['Peso', 'Colesterol']]\n",
        "df_fem.describe()"
      ],
      "metadata": {
        "colab": {
          "base_uri": "https://localhost:8080/",
          "height": 300
        },
        "id": "CLGkKk3frU3l",
        "outputId": "693c8a55-cd5e-4d8f-f650-62847a59e212"
      },
      "execution_count": 14,
      "outputs": [
        {
          "output_type": "execute_result",
          "data": {
            "text/plain": [
              "             Peso  Colesterol\n",
              "count  266.000000  266.000000\n",
              "mean   143.368421  170.857143\n",
              "std     29.291630   36.983248\n",
              "min     96.000000  102.000000\n",
              "25%    118.000000  140.250000\n",
              "50%    140.000000  169.000000\n",
              "75%    163.250000  199.750000\n",
              "max    203.000000  235.000000"
            ],
            "text/html": [
              "\n",
              "  <div id=\"df-656b965a-567f-45e2-acca-ee57edfc61ce\">\n",
              "    <div class=\"colab-df-container\">\n",
              "      <div>\n",
              "<style scoped>\n",
              "    .dataframe tbody tr th:only-of-type {\n",
              "        vertical-align: middle;\n",
              "    }\n",
              "\n",
              "    .dataframe tbody tr th {\n",
              "        vertical-align: top;\n",
              "    }\n",
              "\n",
              "    .dataframe thead th {\n",
              "        text-align: right;\n",
              "    }\n",
              "</style>\n",
              "<table border=\"1\" class=\"dataframe\">\n",
              "  <thead>\n",
              "    <tr style=\"text-align: right;\">\n",
              "      <th></th>\n",
              "      <th>Peso</th>\n",
              "      <th>Colesterol</th>\n",
              "    </tr>\n",
              "  </thead>\n",
              "  <tbody>\n",
              "    <tr>\n",
              "      <th>count</th>\n",
              "      <td>266.000000</td>\n",
              "      <td>266.000000</td>\n",
              "    </tr>\n",
              "    <tr>\n",
              "      <th>mean</th>\n",
              "      <td>143.368421</td>\n",
              "      <td>170.857143</td>\n",
              "    </tr>\n",
              "    <tr>\n",
              "      <th>std</th>\n",
              "      <td>29.291630</td>\n",
              "      <td>36.983248</td>\n",
              "    </tr>\n",
              "    <tr>\n",
              "      <th>min</th>\n",
              "      <td>96.000000</td>\n",
              "      <td>102.000000</td>\n",
              "    </tr>\n",
              "    <tr>\n",
              "      <th>25%</th>\n",
              "      <td>118.000000</td>\n",
              "      <td>140.250000</td>\n",
              "    </tr>\n",
              "    <tr>\n",
              "      <th>50%</th>\n",
              "      <td>140.000000</td>\n",
              "      <td>169.000000</td>\n",
              "    </tr>\n",
              "    <tr>\n",
              "      <th>75%</th>\n",
              "      <td>163.250000</td>\n",
              "      <td>199.750000</td>\n",
              "    </tr>\n",
              "    <tr>\n",
              "      <th>max</th>\n",
              "      <td>203.000000</td>\n",
              "      <td>235.000000</td>\n",
              "    </tr>\n",
              "  </tbody>\n",
              "</table>\n",
              "</div>\n",
              "      <button class=\"colab-df-convert\" onclick=\"convertToInteractive('df-656b965a-567f-45e2-acca-ee57edfc61ce')\"\n",
              "              title=\"Convert this dataframe to an interactive table.\"\n",
              "              style=\"display:none;\">\n",
              "        \n",
              "  <svg xmlns=\"http://www.w3.org/2000/svg\" height=\"24px\"viewBox=\"0 0 24 24\"\n",
              "       width=\"24px\">\n",
              "    <path d=\"M0 0h24v24H0V0z\" fill=\"none\"/>\n",
              "    <path d=\"M18.56 5.44l.94 2.06.94-2.06 2.06-.94-2.06-.94-.94-2.06-.94 2.06-2.06.94zm-11 1L8.5 8.5l.94-2.06 2.06-.94-2.06-.94L8.5 2.5l-.94 2.06-2.06.94zm10 10l.94 2.06.94-2.06 2.06-.94-2.06-.94-.94-2.06-.94 2.06-2.06.94z\"/><path d=\"M17.41 7.96l-1.37-1.37c-.4-.4-.92-.59-1.43-.59-.52 0-1.04.2-1.43.59L10.3 9.45l-7.72 7.72c-.78.78-.78 2.05 0 2.83L4 21.41c.39.39.9.59 1.41.59.51 0 1.02-.2 1.41-.59l7.78-7.78 2.81-2.81c.8-.78.8-2.07 0-2.86zM5.41 20L4 18.59l7.72-7.72 1.47 1.35L5.41 20z\"/>\n",
              "  </svg>\n",
              "      </button>\n",
              "      \n",
              "  <style>\n",
              "    .colab-df-container {\n",
              "      display:flex;\n",
              "      flex-wrap:wrap;\n",
              "      gap: 12px;\n",
              "    }\n",
              "\n",
              "    .colab-df-convert {\n",
              "      background-color: #E8F0FE;\n",
              "      border: none;\n",
              "      border-radius: 50%;\n",
              "      cursor: pointer;\n",
              "      display: none;\n",
              "      fill: #1967D2;\n",
              "      height: 32px;\n",
              "      padding: 0 0 0 0;\n",
              "      width: 32px;\n",
              "    }\n",
              "\n",
              "    .colab-df-convert:hover {\n",
              "      background-color: #E2EBFA;\n",
              "      box-shadow: 0px 1px 2px rgba(60, 64, 67, 0.3), 0px 1px 3px 1px rgba(60, 64, 67, 0.15);\n",
              "      fill: #174EA6;\n",
              "    }\n",
              "\n",
              "    [theme=dark] .colab-df-convert {\n",
              "      background-color: #3B4455;\n",
              "      fill: #D2E3FC;\n",
              "    }\n",
              "\n",
              "    [theme=dark] .colab-df-convert:hover {\n",
              "      background-color: #434B5C;\n",
              "      box-shadow: 0px 1px 3px 1px rgba(0, 0, 0, 0.15);\n",
              "      filter: drop-shadow(0px 1px 2px rgba(0, 0, 0, 0.3));\n",
              "      fill: #FFFFFF;\n",
              "    }\n",
              "  </style>\n",
              "\n",
              "      <script>\n",
              "        const buttonEl =\n",
              "          document.querySelector('#df-656b965a-567f-45e2-acca-ee57edfc61ce button.colab-df-convert');\n",
              "        buttonEl.style.display =\n",
              "          google.colab.kernel.accessAllowed ? 'block' : 'none';\n",
              "\n",
              "        async function convertToInteractive(key) {\n",
              "          const element = document.querySelector('#df-656b965a-567f-45e2-acca-ee57edfc61ce');\n",
              "          const dataTable =\n",
              "            await google.colab.kernel.invokeFunction('convertToInteractive',\n",
              "                                                     [key], {});\n",
              "          if (!dataTable) return;\n",
              "\n",
              "          const docLinkHtml = 'Like what you see? Visit the ' +\n",
              "            '<a target=\"_blank\" href=https://colab.research.google.com/notebooks/data_table.ipynb>data table notebook</a>'\n",
              "            + ' to learn more about interactive tables.';\n",
              "          element.innerHTML = '';\n",
              "          dataTable['output_type'] = 'display_data';\n",
              "          await google.colab.output.renderOutput(dataTable, element);\n",
              "          const docLink = document.createElement('div');\n",
              "          docLink.innerHTML = docLinkHtml;\n",
              "          element.appendChild(docLink);\n",
              "        }\n",
              "      </script>\n",
              "    </div>\n",
              "  </div>\n",
              "  "
            ]
          },
          "metadata": {},
          "execution_count": 14
        }
      ]
    },
    {
      "cell_type": "code",
      "source": [
        "# Boxplot comparativo - Peso\n",
        "fig = px.box(df, y=\"Peso\", color=\"Genero\", width=400, height=400)\n",
        "fig.show()"
      ],
      "metadata": {
        "colab": {
          "base_uri": "https://localhost:8080/",
          "height": 417
        },
        "id": "83FRrbuXrvEr",
        "outputId": "a9321ee8-847c-40f6-fc6e-c7ad4b5ad577"
      },
      "execution_count": 15,
      "outputs": [
        {
          "output_type": "display_data",
          "data": {
            "image/png": "[encoded data removed]"
          },
          "metadata": {}
        }
      ]
    },
    {
      "cell_type": "code",
      "source": [
        "# Boxplot comparativo - Colesterol\n",
        "fig = px.box(df, y=\"Colesterol\", color=\"Genero\", width=400, height=400)\n",
        "fig.show()"
      ],
      "metadata": {
        "colab": {
          "base_uri": "https://localhost:8080/",
          "height": 417
        },
        "id": "HzWJfYx8r3O7",
        "outputId": "e786c4f8-a60b-4357-924c-1ce075c05820"
      },
      "execution_count": 16,
      "outputs": [
        {
          "output_type": "display_data",
          "data": {
            "image/png": "[encoded data removed]"
          },
          "metadata": {}
        }
      ]
    },
    {
      "cell_type": "markdown",
      "source": [
        "## Clusterização - K-means (k=2)"
      ],
      "metadata": {
        "id": "lL3d4z5m5aQU"
      }
    },
    {
      "cell_type": "code",
      "source": [
        "# Clusterização - Masculino\n",
        "k_masc_k2 = KMeans(n_clusters=2, max_iter=500, random_state=seed)\n",
        "y_masc_k2 = k_masc_k2.fit_predict(df_masc)\n",
        "y_masc_k2"
      ],
      "metadata": {
        "colab": {
          "base_uri": "https://localhost:8080/"
        },
        "id": "4Tuttbw57X3E",
        "outputId": "087a978f-1fad-40c0-bf08-c96e53f67eb4"
      },
      "execution_count": 17,
      "outputs": [
        {
          "output_type": "execute_result",
          "data": {
            "text/plain": [
              "array([1, 1, 1, 1, 0, 1, 0, 0, 0, 0, 1, 0, 0, 0, 1, 0, 1, 1, 0, 1, 0, 0,\n",
              "       0, 1, 0, 0, 0, 0, 0, 1, 0, 1, 0, 0, 1, 0, 1, 1, 1, 1, 0, 1, 1, 1,\n",
              "       0, 1, 1, 1, 1, 1, 0, 0, 0, 1, 0, 1, 0, 1, 1, 1, 1, 1, 1, 0, 1, 0,\n",
              "       0, 0, 0, 1, 0, 0, 0, 1, 0, 1, 1, 0, 1, 0, 0, 0, 1, 0, 0, 0, 0, 0,\n",
              "       1, 0, 1, 0, 0, 1, 0, 1, 1, 1, 1, 0, 1, 1, 1, 0, 1, 1, 1, 1, 1, 0,\n",
              "       0, 0, 1, 0, 1, 0, 1, 1, 1, 1, 1, 1, 0, 1, 0, 0, 0, 0, 1, 0, 0, 0,\n",
              "       0, 0, 1, 1, 0, 1, 0, 0, 0, 1, 0, 0, 0, 0, 0, 1, 0, 1, 0, 0, 1, 0,\n",
              "       1, 1, 1, 1, 0, 1, 1, 1, 0, 1, 1, 1, 1, 1, 0, 0, 0, 1, 0, 1, 0, 1,\n",
              "       1, 1, 1, 1, 1, 0, 1, 0, 0, 0, 0, 1, 0, 0, 0, 1, 0, 1, 1, 0, 1, 0,\n",
              "       0, 0, 1, 0, 0, 0, 0, 0, 1, 0, 1, 0, 0, 1, 0, 1, 1, 1, 1, 0, 1, 1,\n",
              "       1, 0, 1, 1, 1, 1, 1, 0, 0, 0, 1, 0, 1, 0, 1, 1, 1, 1, 1, 1, 0, 1,\n",
              "       0, 0, 0, 0, 1, 0, 0, 0, 0, 0, 1, 1, 0, 1, 0, 0, 0, 1, 0, 0, 0, 0,\n",
              "       0, 1, 0, 1, 0, 0, 1, 0, 1, 1, 1, 1, 0, 1, 1, 1, 0], dtype=int32)"
            ]
          },
          "metadata": {},
          "execution_count": 17
        }
      ]
    },
    {
      "cell_type": "code",
      "source": [
        "# Clusterização - Feminino\n",
        "k_fem_k2 = KMeans(n_clusters=2, max_iter=500, random_state=seed)\n",
        "y_fem_k2 = k_fem_k2.fit_predict(df_fem)\n",
        "y_fem_k2"
      ],
      "metadata": {
        "colab": {
          "base_uri": "https://localhost:8080/"
        },
        "id": "Uw6eN1Xx8bWT",
        "outputId": "d6e2777d-3a9e-42b7-8d0c-18d0dde72a4d"
      },
      "execution_count": 18,
      "outputs": [
        {
          "output_type": "execute_result",
          "data": {
            "text/plain": [
              "array([1, 1, 0, 1, 1, 0, 1, 0, 1, 0, 1, 0, 1, 1, 0, 1, 0, 0, 1, 0, 1, 1,\n",
              "       1, 1, 1, 1, 0, 0, 0, 1, 0, 1, 0, 1, 1, 0, 0, 1, 0, 1, 1, 1, 1, 1,\n",
              "       1, 0, 0, 1, 0, 1, 0, 1, 1, 1, 1, 0, 1, 0, 0, 1, 1, 0, 1, 0, 1, 0,\n",
              "       1, 0, 1, 1, 0, 1, 0, 0, 1, 0, 1, 1, 1, 1, 1, 1, 0, 0, 0, 1, 0, 1,\n",
              "       0, 1, 1, 0, 0, 1, 0, 1, 1, 1, 1, 1, 1, 0, 0, 1, 0, 1, 0, 1, 1, 1,\n",
              "       1, 0, 1, 0, 0, 1, 1, 0, 1, 0, 1, 0, 1, 0, 1, 1, 0, 1, 0, 0, 1, 0,\n",
              "       1, 1, 1, 1, 1, 1, 0, 0, 0, 1, 0, 1, 0, 1, 1, 0, 0, 1, 0, 1, 1, 1,\n",
              "       1, 1, 1, 0, 0, 1, 0, 1, 0, 1, 1, 1, 1, 0, 1, 0, 0, 1, 1, 0, 1, 0,\n",
              "       1, 0, 1, 0, 1, 1, 0, 1, 0, 0, 1, 0, 1, 1, 1, 1, 1, 1, 0, 0, 0, 1,\n",
              "       0, 1, 0, 1, 1, 0, 0, 1, 0, 1, 1, 1, 1, 1, 1, 0, 0, 1, 0, 1, 0, 1,\n",
              "       1, 1, 1, 0, 1, 0, 0, 1, 1, 0, 1, 0, 1, 0, 1, 0, 1, 1, 0, 1, 0, 0,\n",
              "       1, 0, 1, 1, 1, 1, 1, 1, 0, 0, 0, 1, 0, 1, 0, 1, 1, 0, 0, 1, 0, 1,\n",
              "       1, 1], dtype=int32)"
            ]
          },
          "metadata": {},
          "execution_count": 18
        }
      ]
    },
    {
      "cell_type": "code",
      "source": [
        "# Scatter Plot clusterizado -  Masculino\n",
        "fig = px.scatter(df_masc, x='Peso', y=\"Colesterol\", color=y_masc_k2.astype('object'), width=400, height=400)\n",
        "fig.show()"
      ],
      "metadata": {
        "colab": {
          "base_uri": "https://localhost:8080/",
          "height": 417
        },
        "id": "Rzf8dXP67lf8",
        "outputId": "d807b9fc-be34-4817-cb31-1184f7b43d08"
      },
      "execution_count": 19,
      "outputs": [
        {
          "output_type": "display_data",
          "data": {
            "image/png": "[encoded data removed]"
          },
          "metadata": {}
        }
      ]
    },
    {
      "cell_type": "code",
      "source": [
        "# Scatter Plot clusterizado -  Feminino\n",
        "fig = px.scatter(df_fem, x='Peso', y=\"Colesterol\", color=y_fem_k2.astype('object'), width=400, height=400)\n",
        "fig.show()"
      ],
      "metadata": {
        "colab": {
          "base_uri": "https://localhost:8080/",
          "height": 417
        },
        "id": "gjq_rs0V8kgi",
        "outputId": "7db34467-3a5d-4b1e-f0ac-d8b13ef439a2"
      },
      "execution_count": 20,
      "outputs": [
        {
          "output_type": "display_data",
          "data": {
            "image/png": "[encoded data removed]"
          },
          "metadata": {}
        }
      ]
    },
    {
      "cell_type": "code",
      "source": [
        "# Inércia\n",
        "print('Inércia para k=2 - Masculino: ', k_masc_k2.inertia_)\n",
        "print('Inércia para k=2 - Feminino: ', k_fem_k2.inertia_)"
      ],
      "metadata": {
        "colab": {
          "base_uri": "https://localhost:8080/"
        },
        "id": "sP56ihWI8tdT",
        "outputId": "5b4c43a2-3bd5-4935-d1c1-9f92a8bb0a27"
      },
      "execution_count": 21,
      "outputs": [
        {
          "output_type": "stream",
          "name": "stdout",
          "text": [
            "Inércia para k=2 - Masculino:  160699.6318775966\n",
            "Inércia para k=2 - Feminino:  157592.7614094548\n"
          ]
        }
      ]
    },
    {
      "cell_type": "markdown",
      "source": [
        "## Clusterização - K-means (k=3)"
      ],
      "metadata": {
        "id": "Pe0ABq-N9hCl"
      }
    },
    {
      "cell_type": "code",
      "source": [
        "# Clusterização - Masculino\n",
        "k_masc_k3 = KMeans(n_clusters=3, max_iter=500, random_state=seed)\n",
        "y_masc_k3 = k_masc_k3.fit_predict(df_masc)\n",
        "y_masc_k3"
      ],
      "metadata": {
        "colab": {
          "base_uri": "https://localhost:8080/"
        },
        "outputId": "9f74e015-e9ac-480a-8ef3-85967cd42efe",
        "id": "Z7S94tHh9hCs"
      },
      "execution_count": 22,
      "outputs": [
        {
          "output_type": "execute_result",
          "data": {
            "text/plain": [
              "array([1, 1, 1, 2, 0, 1, 0, 0, 0, 0, 1, 0, 2, 0, 2, 2, 1, 1, 0, 1, 0, 0,\n",
              "       2, 1, 0, 0, 0, 0, 2, 2, 2, 1, 0, 2, 1, 2, 1, 2, 1, 1, 0, 2, 1, 1,\n",
              "       2, 1, 1, 2, 2, 1, 2, 0, 0, 1, 0, 2, 0, 1, 1, 1, 1, 1, 2, 0, 1, 0,\n",
              "       0, 0, 0, 1, 0, 2, 0, 2, 2, 1, 1, 0, 1, 0, 0, 2, 1, 0, 0, 0, 0, 2,\n",
              "       2, 2, 1, 0, 2, 1, 0, 1, 2, 1, 1, 0, 2, 1, 1, 2, 1, 1, 2, 2, 1, 2,\n",
              "       0, 0, 1, 0, 2, 0, 2, 1, 1, 1, 1, 2, 0, 1, 0, 0, 0, 0, 1, 0, 2, 0,\n",
              "       2, 2, 1, 1, 0, 1, 0, 0, 2, 1, 0, 0, 0, 0, 2, 2, 2, 1, 0, 2, 1, 0,\n",
              "       2, 2, 1, 1, 0, 2, 1, 1, 2, 1, 1, 2, 2, 1, 2, 0, 0, 1, 0, 2, 0, 1,\n",
              "       1, 1, 1, 1, 2, 0, 1, 0, 0, 0, 0, 1, 0, 2, 0, 2, 2, 1, 1, 0, 1, 0,\n",
              "       0, 2, 1, 0, 0, 0, 0, 2, 2, 2, 1, 0, 2, 1, 0, 1, 2, 1, 1, 0, 2, 1,\n",
              "       1, 2, 1, 1, 2, 2, 1, 2, 0, 0, 1, 0, 2, 0, 2, 1, 1, 1, 1, 2, 0, 1,\n",
              "       0, 0, 0, 0, 1, 0, 2, 0, 2, 2, 1, 1, 0, 1, 0, 0, 2, 1, 0, 0, 0, 0,\n",
              "       2, 2, 2, 1, 0, 2, 1, 0, 1, 2, 1, 1, 0, 2, 1, 1, 2], dtype=int32)"
            ]
          },
          "metadata": {},
          "execution_count": 22
        }
      ]
    },
    {
      "cell_type": "code",
      "source": [
        "# Clusterização - Feminino\n",
        "k_fem_k3 = KMeans(n_clusters=3, max_iter=500, random_state=seed)\n",
        "y_fem_k3 = k_fem_k3.fit_predict(df_fem)\n",
        "y_fem_k3"
      ],
      "metadata": {
        "colab": {
          "base_uri": "https://localhost:8080/"
        },
        "outputId": "d83182ca-b7cf-4a79-f5ce-b609bf01364e",
        "id": "5d7tZuk29hCs"
      },
      "execution_count": 23,
      "outputs": [
        {
          "output_type": "execute_result",
          "data": {
            "text/plain": [
              "array([1, 1, 2, 0, 0, 1, 0, 2, 0, 1, 1, 1, 0, 1, 2, 0, 2, 2, 1, 2, 1, 1,\n",
              "       1, 0, 0, 0, 1, 1, 2, 0, 1, 1, 2, 1, 1, 1, 2, 0, 2, 0, 0, 0, 1, 0,\n",
              "       0, 1, 2, 0, 1, 0, 2, 0, 0, 0, 1, 2, 1, 1, 2, 0, 0, 1, 1, 2, 0, 1,\n",
              "       1, 1, 0, 1, 2, 0, 2, 2, 1, 2, 1, 1, 1, 0, 0, 0, 2, 1, 2, 0, 1, 1,\n",
              "       2, 1, 1, 1, 2, 0, 2, 0, 0, 0, 1, 0, 0, 1, 2, 0, 1, 0, 2, 0, 0, 0,\n",
              "       1, 2, 1, 1, 2, 0, 0, 1, 1, 2, 0, 1, 1, 1, 0, 1, 2, 0, 2, 2, 1, 2,\n",
              "       1, 1, 1, 0, 0, 0, 2, 1, 2, 0, 1, 1, 2, 1, 1, 1, 2, 0, 2, 0, 0, 0,\n",
              "       1, 0, 0, 1, 2, 0, 1, 0, 2, 0, 0, 0, 1, 2, 1, 1, 2, 0, 0, 1, 1, 2,\n",
              "       0, 1, 1, 1, 0, 1, 2, 0, 2, 2, 1, 2, 1, 1, 1, 0, 0, 0, 2, 2, 2, 0,\n",
              "       1, 1, 2, 1, 1, 1, 2, 0, 2, 0, 0, 0, 1, 1, 0, 1, 2, 0, 1, 0, 2, 0,\n",
              "       0, 0, 1, 2, 1, 1, 2, 0, 0, 1, 1, 2, 0, 1, 1, 1, 0, 1, 2, 0, 2, 2,\n",
              "       1, 2, 1, 1, 1, 0, 0, 0, 2, 1, 2, 0, 1, 1, 2, 1, 1, 1, 2, 0, 2, 0,\n",
              "       0, 0], dtype=int32)"
            ]
          },
          "metadata": {},
          "execution_count": 23
        }
      ]
    },
    {
      "cell_type": "code",
      "source": [
        "# Scatter Plot clusterizado -  Masculino\n",
        "fig = px.scatter(df_masc, x='Peso', y=\"Colesterol\", color=y_masc_k3.astype('object'), width=400, height=400)\n",
        "fig.show()"
      ],
      "metadata": {
        "colab": {
          "base_uri": "https://localhost:8080/",
          "height": 417
        },
        "outputId": "7a60d182-2b14-4581-829f-45c6f8bfc44f",
        "id": "SuRlRyIM9hCs"
      },
      "execution_count": 24,
      "outputs": [
        {
          "output_type": "display_data",
          "data": {
            "image/png": "[encoded data removed]"
          },
          "metadata": {}
        }
      ]
    },
    {
      "cell_type": "code",
      "source": [
        "# Scatter Plot clusterizado -  Feminino\n",
        "fig = px.scatter(df_fem, x='Peso', y=\"Colesterol\", color=y_fem_k3.astype('object'), width=400, height=400)\n",
        "fig.show()"
      ],
      "metadata": {
        "colab": {
          "base_uri": "https://localhost:8080/",
          "height": 417
        },
        "outputId": "e1ff964a-0e87-4f48-f0c5-1ae04ccb7679",
        "id": "WLhCpSFH9hCs"
      },
      "execution_count": 25,
      "outputs": [
        {
          "output_type": "display_data",
          "data": {
            "image/png": "[encoded data removed]"
          },
          "metadata": {}
        }
      ]
    },
    {
      "cell_type": "code",
      "source": [
        "# Inércia\n",
        "print('Inércia para k=3 - Masculino: ', k_masc_k3.inertia_)\n",
        "print('Inércia para k=3 - Feminino: ', k_fem_k3.inertia_)"
      ],
      "metadata": {
        "colab": {
          "base_uri": "https://localhost:8080/"
        },
        "outputId": "d2298858-4471-46f6-e35d-a90dfca068fc",
        "id": "pckGFy1R9hCt"
      },
      "execution_count": 26,
      "outputs": [
        {
          "output_type": "stream",
          "name": "stdout",
          "text": [
            "Inércia para k=3 - Masculino:  71933.62542079209\n",
            "Inércia para k=3 - Feminino:  65426.516000339136\n"
          ]
        }
      ]
    },
    {
      "cell_type": "markdown",
      "source": [
        "## Clusterização - K-means (k=4)"
      ],
      "metadata": {
        "id": "K8-2ROzD97gt"
      }
    },
    {
      "cell_type": "code",
      "source": [
        "# Clusterização - Masculino\n",
        "k_masc_k4 = KMeans(n_clusters=4, max_iter=500, random_state=seed)\n",
        "y_masc_k4 = k_masc_k4.fit_predict(df_masc)\n",
        "y_masc_k4"
      ],
      "metadata": {
        "colab": {
          "base_uri": "https://localhost:8080/"
        },
        "outputId": "7bf11016-8b08-43c1-eb8f-6599235b994b",
        "id": "g_bhZEsX97gu"
      },
      "execution_count": 27,
      "outputs": [
        {
          "output_type": "execute_result",
          "data": {
            "text/plain": [
              "array([3, 1, 1, 1, 0, 3, 0, 0, 0, 0, 3, 0, 2, 0, 2, 2, 3, 3, 0, 3, 0, 0,\n",
              "       2, 1, 0, 0, 2, 0, 2, 1, 2, 3, 0, 2, 3, 2, 1, 1, 3, 3, 0, 1, 3, 1,\n",
              "       2, 3, 3, 1, 1, 3, 2, 0, 0, 3, 0, 1, 0, 1, 3, 3, 1, 1, 1, 0, 1, 0,\n",
              "       0, 0, 0, 3, 0, 2, 0, 2, 2, 3, 3, 0, 3, 0, 0, 2, 1, 0, 0, 0, 0, 2,\n",
              "       1, 2, 3, 0, 2, 3, 2, 1, 1, 3, 1, 0, 1, 3, 1, 2, 3, 3, 1, 1, 3, 2,\n",
              "       0, 0, 3, 0, 1, 0, 1, 3, 3, 1, 1, 1, 0, 1, 0, 0, 0, 0, 3, 0, 2, 0,\n",
              "       2, 2, 3, 3, 0, 3, 0, 0, 2, 1, 0, 0, 0, 0, 2, 1, 2, 3, 0, 2, 3, 2,\n",
              "       1, 1, 3, 1, 0, 1, 3, 1, 2, 3, 3, 1, 1, 3, 2, 0, 0, 3, 0, 1, 0, 1,\n",
              "       3, 3, 1, 1, 1, 0, 3, 0, 0, 0, 0, 3, 0, 2, 0, 2, 2, 3, 3, 0, 3, 0,\n",
              "       0, 2, 1, 0, 0, 2, 0, 2, 1, 2, 3, 0, 2, 3, 2, 1, 1, 3, 1, 0, 1, 3,\n",
              "       1, 2, 3, 3, 1, 1, 3, 2, 0, 0, 3, 0, 1, 0, 1, 3, 3, 1, 1, 1, 0, 1,\n",
              "       0, 0, 0, 0, 3, 0, 2, 0, 2, 2, 3, 3, 0, 3, 0, 0, 2, 1, 0, 0, 2, 0,\n",
              "       2, 1, 2, 3, 0, 2, 3, 2, 1, 1, 3, 3, 0, 1, 3, 1, 2], dtype=int32)"
            ]
          },
          "metadata": {},
          "execution_count": 27
        }
      ]
    },
    {
      "cell_type": "code",
      "source": [
        "# Clusterização - Feminino\n",
        "k_fem_k4 = KMeans(n_clusters=4, max_iter=500, random_state=seed)\n",
        "y_fem_k4 = k_fem_k4.fit_predict(df_fem)\n",
        "y_fem_k4"
      ],
      "metadata": {
        "colab": {
          "base_uri": "https://localhost:8080/"
        },
        "outputId": "fe48fec1-f8ac-4efe-97d4-fcfb8e359a41",
        "id": "PF3Loprb97gu"
      },
      "execution_count": 28,
      "outputs": [
        {
          "output_type": "execute_result",
          "data": {
            "text/plain": [
              "array([0, 0, 2, 1, 1, 3, 0, 2, 1, 3, 0, 3, 1, 0, 2, 1, 2, 2, 0, 2, 0, 0,\n",
              "       0, 1, 1, 1, 3, 3, 3, 1, 3, 0, 2, 0, 0, 3, 2, 0, 2, 1, 0, 1, 0, 0,\n",
              "       1, 3, 2, 1, 3, 1, 2, 1, 1, 1, 0, 2, 0, 3, 2, 1, 1, 3, 0, 2, 1, 3,\n",
              "       0, 3, 1, 0, 2, 1, 2, 2, 0, 2, 0, 0, 0, 1, 1, 1, 3, 3, 2, 1, 3, 0,\n",
              "       2, 0, 0, 3, 2, 0, 2, 1, 0, 1, 0, 0, 1, 3, 2, 1, 3, 1, 2, 1, 1, 1,\n",
              "       0, 2, 0, 3, 2, 1, 1, 3, 0, 2, 1, 3, 0, 3, 1, 0, 2, 1, 2, 2, 0, 2,\n",
              "       0, 0, 0, 1, 1, 1, 3, 3, 2, 1, 3, 0, 2, 0, 0, 3, 2, 0, 2, 1, 0, 1,\n",
              "       0, 0, 1, 3, 2, 1, 3, 1, 2, 1, 1, 1, 0, 2, 0, 3, 2, 1, 1, 3, 0, 2,\n",
              "       1, 3, 0, 3, 1, 0, 2, 1, 2, 2, 0, 2, 0, 0, 0, 1, 1, 1, 3, 3, 2, 1,\n",
              "       3, 0, 2, 0, 0, 3, 2, 0, 2, 1, 0, 0, 0, 0, 1, 3, 2, 1, 3, 1, 2, 1,\n",
              "       1, 1, 0, 2, 0, 3, 2, 1, 1, 3, 0, 2, 1, 3, 0, 3, 1, 0, 2, 1, 2, 2,\n",
              "       0, 2, 0, 0, 0, 1, 1, 1, 3, 3, 2, 1, 3, 0, 2, 0, 0, 3, 2, 0, 2, 1,\n",
              "       0, 0], dtype=int32)"
            ]
          },
          "metadata": {},
          "execution_count": 28
        }
      ]
    },
    {
      "cell_type": "code",
      "source": [
        "# Scatter Plot clusterizado -  Masculino\n",
        "fig = px.scatter(df_masc, x='Peso', y=\"Colesterol\", color=y_masc_k4.astype('object'), width=400, height=400)\n",
        "fig.show()"
      ],
      "metadata": {
        "colab": {
          "base_uri": "https://localhost:8080/",
          "height": 417
        },
        "outputId": "c5561d9f-d275-45e0-8c38-890e5255c323",
        "id": "QPj7JgsF97gu"
      },
      "execution_count": 29,
      "outputs": [
        {
          "output_type": "display_data",
          "data": {
            "image/png": "[encoded data removed]"
          },
          "metadata": {}
        }
      ]
    },
    {
      "cell_type": "code",
      "source": [
        "# Scatter Plot clusterizado -  Feminino\n",
        "fig = px.scatter(df_fem, x='Peso', y=\"Colesterol\", color=y_fem_k4.astype('object'), width=400, height=400)\n",
        "fig.show()"
      ],
      "metadata": {
        "colab": {
          "base_uri": "https://localhost:8080/",
          "height": 417
        },
        "outputId": "8ca764be-2d61-4b1a-9765-88d1ea74d5fe",
        "id": "yH608xeq97gu"
      },
      "execution_count": 30,
      "outputs": [
        {
          "output_type": "display_data",
          "data": {
            "image/png": "[encoded data removed]"
          },
          "metadata": {}
        }
      ]
    },
    {
      "cell_type": "code",
      "source": [
        "# Inércia\n",
        "print('Inércia para k=2 - Masculino: ', k_masc_k4.inertia_)\n",
        "print('Inércia para k=2 - Feminino: ', k_fem_k4.inertia_)"
      ],
      "metadata": {
        "colab": {
          "base_uri": "https://localhost:8080/"
        },
        "outputId": "b1d239d3-e468-4cbc-e6b7-4bdb73f9b8ed",
        "id": "1ml486t_97gu"
      },
      "execution_count": 31,
      "outputs": [
        {
          "output_type": "stream",
          "name": "stdout",
          "text": [
            "Inércia para k=2 - Masculino:  40620.29378930679\n",
            "Inércia para k=2 - Feminino:  32765.30789333617\n"
          ]
        }
      ]
    },
    {
      "cell_type": "markdown",
      "source": [
        "## Análise dos resultados"
      ],
      "metadata": {
        "id": "hcIbD3lK_8uG"
      }
    },
    {
      "cell_type": "markdown",
      "source": [
        "A partir da análise inicial dos dados, percebe-se que o colesterol e o peso dos indivíduos são variáveis com considerável correlação positiva, sendo difícil a separação de grupos de indivíduos com apenas o peso ou apenas o colesterol alto.\n",
        "\n",
        "Ao aplicar o algoritmo K-means com k=2, obteve-se um limiar entre os grupos de maior e menor risco de aproximadamente 140 (peso)/ 170 (colesterol) para o gênero masculino, e de aproximadamente 145 (peso) / 180 (colesterol) para o gênero feminino. Além disso, verificou-se que é possível realizar um agrupamento mais consiso, já que é visualmente perceptível a existência de subgrupos dentro do grupo de maior risco principalmente.\n",
        "\n",
        "Ao aplicar o algoritmo K-means com k=4, notou-se uma melhor separação do terceiro grupo em relação ao segundo e ao quarto, uma vez que há maiores distâncias entre tais pontos para os demais. Além disso, a inércia do modelo foi reduzida consideravelmente. Entretanto, a diferenciação entre o primeiro e o segundo grupo não é tão clara. Os limites aproximados de separação entre os grupos para cada gênero são apresentados a seguir:\n",
        "\n",
        "- Masculino:\n",
        " - Primeiro grupo: Peso < 115 / Colesterol < 130\n",
        " - Segundo grupo: 115 < Peso < 135 / 130 < Colesterol < 170\n",
        " - Terceiro grupo: 135 < Peso < 165 / 170 < Colesterol < 200\n",
        " - Quarto grupo: Peso > 165 / Colesterol > 200\n",
        "\n",
        "- Feminino:\n",
        " - Primeiro grupo: Peso < 125 / Colesterol < 145\n",
        " - Segundo grupo: 125 < Peso < 145 / 145 < Colesterol < 175\n",
        " - Terceiro grupo: 145 < Peso < 170 / 175 < Colesterol < 210\n",
        " - Quarto grupo: Peso > 170 / Colesterol > 210\n",
        "\n",
        "Observação: A relação dos grupos foi descrita considerando ordenação ascendente de risco cardíaco."
      ],
      "metadata": {
        "id": "sJoxNBB9AA6l"
      }
    }
  ]
}