{
  "nbformat": 4,
  "nbformat_minor": 0,
  "metadata": {
    "colab": {
      "provenance": []
    },
    "kernelspec": {
      "name": "python3",
      "display_name": "Python 3"
    },
    "language_info": {
      "name": "python"
    }
  },
  "cells": [
    {
      "cell_type": "markdown",
      "source": [
        "<div align='center'>\n",
        "  Pontifícia Universidade Católica de Minas Gerais</br>\n",
        "  Programa de Pós-Graduação em Ciência de Dados e Big Data</br>\n",
        "  Machine Learning\n",
        "</div>\n",
        "</br>\n",
        "\n",
        "<div align='center'>\n",
        "  <h1><b>Exercício Prático I - Preparação de Dados</b></h1>\n",
        "</div>\n",
        "</br>\n",
        "\n",
        "<div align='right'>\n",
        "  Aluno: Marco Túlio Barbosa Andrade</br>\n",
        "  Professor: Cristiano Rodrigues de Carvalho\n",
        "</div>\n",
        "</br>\n",
        "\n",
        "<div align='center'>\n",
        "  Belo Horizonte</br>\n",
        "  2022\n",
        "</div>"
      ],
      "metadata": {
        "id": "20UF6buGxMkl"
      }
    },
    {
      "cell_type": "markdown",
      "source": [
        "## Importação das bibliotecas"
      ],
      "metadata": {
        "id": "s8HKh5-CyDZb"
      }
    },
    {
      "cell_type": "code",
      "execution_count": 3,
      "metadata": {
        "id": "1LvqjQoIw2EA"
      },
      "outputs": [],
      "source": [
        "import numpy as np\n",
        "import pandas as pd\n",
        "import matplotlib.pyplot as plt"
      ]
    },
    {
      "cell_type": "markdown",
      "source": [
        "## Importação dos dados"
      ],
      "metadata": {
        "id": "cpSoPKkvywcg"
      }
    },
    {
      "cell_type": "code",
      "source": [
        "df = pd.read_excel('automoveis.xlsx', index_col=None, header=0)"
      ],
      "metadata": {
        "id": "IAN8AmTdyLaK"
      },
      "execution_count": 4,
      "outputs": []
    },
    {
      "cell_type": "markdown",
      "source": [
        "## Análise inicial"
      ],
      "metadata": {
        "id": "1qCURYzu15w3"
      }
    },
    {
      "cell_type": "code",
      "source": [
        "# Cabeçalho\n",
        "df.head(5)"
      ],
      "metadata": {
        "colab": {
          "base_uri": "https://localhost:8080/",
          "height": 268
        },
        "id": "iMnZL1Az1suH",
        "outputId": "2953e28f-6263-45a7-d568-05c1af6ef3c2"
      },
      "execution_count": 5,
      "outputs": [
        {
          "output_type": "execute_result",
          "data": {
            "text/plain": [
              "   Fabricante Combustível  Portas Estilo Chassis     Tração Comprimento  \\\n",
              "0  alfa-romeo         gas     2.0    conversível   traseira      168,80   \n",
              "1  alfa-romeo         gas     2.0    conversível   traseira      168,80   \n",
              "2  alfa-romeo         gas     2.0          hatch   traseira      171,20   \n",
              "3        audi         gas     4.0          sedan  dianteira      176,60   \n",
              "4        audi         gas     4.0          sedan        4x4      176,60   \n",
              "\n",
              "  Largura Altura Tipo de motor Número de cilindros Tamanho do motor  \\\n",
              "0   64,10  48,80          dohc                   4           130,00   \n",
              "1   64,10  48,80          dohc                   4           130,00   \n",
              "2   65,50  52,40          ohcv                   6           152,00   \n",
              "3   66,20  54,30           ohc                   4           109,00   \n",
              "4   66,40  54,30           ohc                   5           136,00   \n",
              "\n",
              "  Tipo de injeção Potência (HP) Pico RPM     Preço  \n",
              "0            mpfi        111,00  5000,00  13495,00  \n",
              "1            mpfi        111,00  5000,00  16500,00  \n",
              "2            mpfi        154,00  5000,00  16500,00  \n",
              "3            mpfi        102,00  5500,00  13950,00  \n",
              "4            mpfi        115,00  5500,00  17450,00  "
            ],
            "text/html": [
              "\n",
              "  <div id=\"df-6668d54c-3643-4ab9-8070-ffb659483034\">\n",
              "    <div class=\"colab-df-container\">\n",
              "      <div>\n",
              "<style scoped>\n",
              "    .dataframe tbody tr th:only-of-type {\n",
              "        vertical-align: middle;\n",
              "    }\n",
              "\n",
              "    .dataframe tbody tr th {\n",
              "        vertical-align: top;\n",
              "    }\n",
              "\n",
              "    .dataframe thead th {\n",
              "        text-align: right;\n",
              "    }\n",
              "</style>\n",
              "<table border=\"1\" class=\"dataframe\">\n",
              "  <thead>\n",
              "    <tr style=\"text-align: right;\">\n",
              "      <th></th>\n",
              "      <th>Fabricante</th>\n",
              "      <th>Combustível</th>\n",
              "      <th>Portas</th>\n",
              "      <th>Estilo Chassis</th>\n",
              "      <th>Tração</th>\n",
              "      <th>Comprimento</th>\n",
              "      <th>Largura</th>\n",
              "      <th>Altura</th>\n",
              "      <th>Tipo de motor</th>\n",
              "      <th>Número de cilindros</th>\n",
              "      <th>Tamanho do motor</th>\n",
              "      <th>Tipo de injeção</th>\n",
              "      <th>Potência (HP)</th>\n",
              "      <th>Pico RPM</th>\n",
              "      <th>Preço</th>\n",
              "    </tr>\n",
              "  </thead>\n",
              "  <tbody>\n",
              "    <tr>\n",
              "      <th>0</th>\n",
              "      <td>alfa-romeo</td>\n",
              "      <td>gas</td>\n",
              "      <td>2.0</td>\n",
              "      <td>conversível</td>\n",
              "      <td>traseira</td>\n",
              "      <td>168,80</td>\n",
              "      <td>64,10</td>\n",
              "      <td>48,80</td>\n",
              "      <td>dohc</td>\n",
              "      <td>4</td>\n",
              "      <td>130,00</td>\n",
              "      <td>mpfi</td>\n",
              "      <td>111,00</td>\n",
              "      <td>5000,00</td>\n",
              "      <td>13495,00</td>\n",
              "    </tr>\n",
              "    <tr>\n",
              "      <th>1</th>\n",
              "      <td>alfa-romeo</td>\n",
              "      <td>gas</td>\n",
              "      <td>2.0</td>\n",
              "      <td>conversível</td>\n",
              "      <td>traseira</td>\n",
              "      <td>168,80</td>\n",
              "      <td>64,10</td>\n",
              "      <td>48,80</td>\n",
              "      <td>dohc</td>\n",
              "      <td>4</td>\n",
              "      <td>130,00</td>\n",
              "      <td>mpfi</td>\n",
              "      <td>111,00</td>\n",
              "      <td>5000,00</td>\n",
              "      <td>16500,00</td>\n",
              "    </tr>\n",
              "    <tr>\n",
              "      <th>2</th>\n",
              "      <td>alfa-romeo</td>\n",
              "      <td>gas</td>\n",
              "      <td>2.0</td>\n",
              "      <td>hatch</td>\n",
              "      <td>traseira</td>\n",
              "      <td>171,20</td>\n",
              "      <td>65,50</td>\n",
              "      <td>52,40</td>\n",
              "      <td>ohcv</td>\n",
              "      <td>6</td>\n",
              "      <td>152,00</td>\n",
              "      <td>mpfi</td>\n",
              "      <td>154,00</td>\n",
              "      <td>5000,00</td>\n",
              "      <td>16500,00</td>\n",
              "    </tr>\n",
              "    <tr>\n",
              "      <th>3</th>\n",
              "      <td>audi</td>\n",
              "      <td>gas</td>\n",
              "      <td>4.0</td>\n",
              "      <td>sedan</td>\n",
              "      <td>dianteira</td>\n",
              "      <td>176,60</td>\n",
              "      <td>66,20</td>\n",
              "      <td>54,30</td>\n",
              "      <td>ohc</td>\n",
              "      <td>4</td>\n",
              "      <td>109,00</td>\n",
              "      <td>mpfi</td>\n",
              "      <td>102,00</td>\n",
              "      <td>5500,00</td>\n",
              "      <td>13950,00</td>\n",
              "    </tr>\n",
              "    <tr>\n",
              "      <th>4</th>\n",
              "      <td>audi</td>\n",
              "      <td>gas</td>\n",
              "      <td>4.0</td>\n",
              "      <td>sedan</td>\n",
              "      <td>4x4</td>\n",
              "      <td>176,60</td>\n",
              "      <td>66,40</td>\n",
              "      <td>54,30</td>\n",
              "      <td>ohc</td>\n",
              "      <td>5</td>\n",
              "      <td>136,00</td>\n",
              "      <td>mpfi</td>\n",
              "      <td>115,00</td>\n",
              "      <td>5500,00</td>\n",
              "      <td>17450,00</td>\n",
              "    </tr>\n",
              "  </tbody>\n",
              "</table>\n",
              "</div>\n",
              "      <button class=\"colab-df-convert\" onclick=\"convertToInteractive('df-6668d54c-3643-4ab9-8070-ffb659483034')\"\n",
              "              title=\"Convert this dataframe to an interactive table.\"\n",
              "              style=\"display:none;\">\n",
              "        \n",
              "  <svg xmlns=\"http://www.w3.org/2000/svg\" height=\"24px\"viewBox=\"0 0 24 24\"\n",
              "       width=\"24px\">\n",
              "    <path d=\"M0 0h24v24H0V0z\" fill=\"none\"/>\n",
              "    <path d=\"M18.56 5.44l.94 2.06.94-2.06 2.06-.94-2.06-.94-.94-2.06-.94 2.06-2.06.94zm-11 1L8.5 8.5l.94-2.06 2.06-.94-2.06-.94L8.5 2.5l-.94 2.06-2.06.94zm10 10l.94 2.06.94-2.06 2.06-.94-2.06-.94-.94-2.06-.94 2.06-2.06.94z\"/><path d=\"M17.41 7.96l-1.37-1.37c-.4-.4-.92-.59-1.43-.59-.52 0-1.04.2-1.43.59L10.3 9.45l-7.72 7.72c-.78.78-.78 2.05 0 2.83L4 21.41c.39.39.9.59 1.41.59.51 0 1.02-.2 1.41-.59l7.78-7.78 2.81-2.81c.8-.78.8-2.07 0-2.86zM5.41 20L4 18.59l7.72-7.72 1.47 1.35L5.41 20z\"/>\n",
              "  </svg>\n",
              "      </button>\n",
              "      \n",
              "  <style>\n",
              "    .colab-df-container {\n",
              "      display:flex;\n",
              "      flex-wrap:wrap;\n",
              "      gap: 12px;\n",
              "    }\n",
              "\n",
              "    .colab-df-convert {\n",
              "      background-color: #E8F0FE;\n",
              "      border: none;\n",
              "      border-radius: 50%;\n",
              "      cursor: pointer;\n",
              "      display: none;\n",
              "      fill: #1967D2;\n",
              "      height: 32px;\n",
              "      padding: 0 0 0 0;\n",
              "      width: 32px;\n",
              "    }\n",
              "\n",
              "    .colab-df-convert:hover {\n",
              "      background-color: #E2EBFA;\n",
              "      box-shadow: 0px 1px 2px rgba(60, 64, 67, 0.3), 0px 1px 3px 1px rgba(60, 64, 67, 0.15);\n",
              "      fill: #174EA6;\n",
              "    }\n",
              "\n",
              "    [theme=dark] .colab-df-convert {\n",
              "      background-color: #3B4455;\n",
              "      fill: #D2E3FC;\n",
              "    }\n",
              "\n",
              "    [theme=dark] .colab-df-convert:hover {\n",
              "      background-color: #434B5C;\n",
              "      box-shadow: 0px 1px 3px 1px rgba(0, 0, 0, 0.15);\n",
              "      filter: drop-shadow(0px 1px 2px rgba(0, 0, 0, 0.3));\n",
              "      fill: #FFFFFF;\n",
              "    }\n",
              "  </style>\n",
              "\n",
              "      <script>\n",
              "        const buttonEl =\n",
              "          document.querySelector('#df-6668d54c-3643-4ab9-8070-ffb659483034 button.colab-df-convert');\n",
              "        buttonEl.style.display =\n",
              "          google.colab.kernel.accessAllowed ? 'block' : 'none';\n",
              "\n",
              "        async function convertToInteractive(key) {\n",
              "          const element = document.querySelector('#df-6668d54c-3643-4ab9-8070-ffb659483034');\n",
              "          const dataTable =\n",
              "            await google.colab.kernel.invokeFunction('convertToInteractive',\n",
              "                                                     [key], {});\n",
              "          if (!dataTable) return;\n",
              "\n",
              "          const docLinkHtml = 'Like what you see? Visit the ' +\n",
              "            '<a target=\"_blank\" href=https://colab.research.google.com/notebooks/data_table.ipynb>data table notebook</a>'\n",
              "            + ' to learn more about interactive tables.';\n",
              "          element.innerHTML = '';\n",
              "          dataTable['output_type'] = 'display_data';\n",
              "          await google.colab.output.renderOutput(dataTable, element);\n",
              "          const docLink = document.createElement('div');\n",
              "          docLink.innerHTML = docLinkHtml;\n",
              "          element.appendChild(docLink);\n",
              "        }\n",
              "      </script>\n",
              "    </div>\n",
              "  </div>\n",
              "  "
            ]
          },
          "metadata": {},
          "execution_count": 5
        }
      ]
    },
    {
      "cell_type": "code",
      "source": [
        "# Rodapé\n",
        "df.tail(5)"
      ],
      "metadata": {
        "colab": {
          "base_uri": "https://localhost:8080/",
          "height": 268
        },
        "id": "0e8M9vgU2CK0",
        "outputId": "7eaa4095-d1c6-4d9c-b81b-d0c1d33e7a87"
      },
      "execution_count": 6,
      "outputs": [
        {
          "output_type": "execute_result",
          "data": {
            "text/plain": [
              "    Fabricante Combustível  Portas Estilo Chassis    Tração Comprimento  \\\n",
              "200      volvo         gas     4.0          sedan  traseira      188,80   \n",
              "201      volvo      diesel     4.0          sedan  traseira      188,80   \n",
              "202      volvo         gas     4.0          sedan  traseira      188,80   \n",
              "203        NaN         gas     4.0          sedan  traseira      176,80   \n",
              "204        NaN         gas     2.0          hatch  traseira      169,00   \n",
              "\n",
              "    Largura Altura Tipo de motor Número de cilindros Tamanho do motor  \\\n",
              "200   68,90  55,50          ohcv                   6           173,00   \n",
              "201   68,90  55,50           ohc                   6           145,00   \n",
              "202   68,90  55,50           ohc                   4           141,00   \n",
              "203   64,80  54,30           ohc                   6           164,00   \n",
              "204   65,70  49,60         rotor                   2            70,00   \n",
              "\n",
              "    Tipo de injeção Potência (HP) Pico RPM     Preço  \n",
              "200            mpfi        134,00  5500,00  21485,00  \n",
              "201             idi        106,00  4800,00  22470,00  \n",
              "202            mpfi        114,00  5400,00  22625,00  \n",
              "203            mpfi        121,00  4250,00  21105,00  \n",
              "204            4bbl        101,00  6000,00  10945,00  "
            ],
            "text/html": [
              "\n",
              "  <div id=\"df-2c506d3c-e625-4712-92a5-68fe569a6f98\">\n",
              "    <div class=\"colab-df-container\">\n",
              "      <div>\n",
              "<style scoped>\n",
              "    .dataframe tbody tr th:only-of-type {\n",
              "        vertical-align: middle;\n",
              "    }\n",
              "\n",
              "    .dataframe tbody tr th {\n",
              "        vertical-align: top;\n",
              "    }\n",
              "\n",
              "    .dataframe thead th {\n",
              "        text-align: right;\n",
              "    }\n",
              "</style>\n",
              "<table border=\"1\" class=\"dataframe\">\n",
              "  <thead>\n",
              "    <tr style=\"text-align: right;\">\n",
              "      <th></th>\n",
              "      <th>Fabricante</th>\n",
              "      <th>Combustível</th>\n",
              "      <th>Portas</th>\n",
              "      <th>Estilo Chassis</th>\n",
              "      <th>Tração</th>\n",
              "      <th>Comprimento</th>\n",
              "      <th>Largura</th>\n",
              "      <th>Altura</th>\n",
              "      <th>Tipo de motor</th>\n",
              "      <th>Número de cilindros</th>\n",
              "      <th>Tamanho do motor</th>\n",
              "      <th>Tipo de injeção</th>\n",
              "      <th>Potência (HP)</th>\n",
              "      <th>Pico RPM</th>\n",
              "      <th>Preço</th>\n",
              "    </tr>\n",
              "  </thead>\n",
              "  <tbody>\n",
              "    <tr>\n",
              "      <th>200</th>\n",
              "      <td>volvo</td>\n",
              "      <td>gas</td>\n",
              "      <td>4.0</td>\n",
              "      <td>sedan</td>\n",
              "      <td>traseira</td>\n",
              "      <td>188,80</td>\n",
              "      <td>68,90</td>\n",
              "      <td>55,50</td>\n",
              "      <td>ohcv</td>\n",
              "      <td>6</td>\n",
              "      <td>173,00</td>\n",
              "      <td>mpfi</td>\n",
              "      <td>134,00</td>\n",
              "      <td>5500,00</td>\n",
              "      <td>21485,00</td>\n",
              "    </tr>\n",
              "    <tr>\n",
              "      <th>201</th>\n",
              "      <td>volvo</td>\n",
              "      <td>diesel</td>\n",
              "      <td>4.0</td>\n",
              "      <td>sedan</td>\n",
              "      <td>traseira</td>\n",
              "      <td>188,80</td>\n",
              "      <td>68,90</td>\n",
              "      <td>55,50</td>\n",
              "      <td>ohc</td>\n",
              "      <td>6</td>\n",
              "      <td>145,00</td>\n",
              "      <td>idi</td>\n",
              "      <td>106,00</td>\n",
              "      <td>4800,00</td>\n",
              "      <td>22470,00</td>\n",
              "    </tr>\n",
              "    <tr>\n",
              "      <th>202</th>\n",
              "      <td>volvo</td>\n",
              "      <td>gas</td>\n",
              "      <td>4.0</td>\n",
              "      <td>sedan</td>\n",
              "      <td>traseira</td>\n",
              "      <td>188,80</td>\n",
              "      <td>68,90</td>\n",
              "      <td>55,50</td>\n",
              "      <td>ohc</td>\n",
              "      <td>4</td>\n",
              "      <td>141,00</td>\n",
              "      <td>mpfi</td>\n",
              "      <td>114,00</td>\n",
              "      <td>5400,00</td>\n",
              "      <td>22625,00</td>\n",
              "    </tr>\n",
              "    <tr>\n",
              "      <th>203</th>\n",
              "      <td>NaN</td>\n",
              "      <td>gas</td>\n",
              "      <td>4.0</td>\n",
              "      <td>sedan</td>\n",
              "      <td>traseira</td>\n",
              "      <td>176,80</td>\n",
              "      <td>64,80</td>\n",
              "      <td>54,30</td>\n",
              "      <td>ohc</td>\n",
              "      <td>6</td>\n",
              "      <td>164,00</td>\n",
              "      <td>mpfi</td>\n",
              "      <td>121,00</td>\n",
              "      <td>4250,00</td>\n",
              "      <td>21105,00</td>\n",
              "    </tr>\n",
              "    <tr>\n",
              "      <th>204</th>\n",
              "      <td>NaN</td>\n",
              "      <td>gas</td>\n",
              "      <td>2.0</td>\n",
              "      <td>hatch</td>\n",
              "      <td>traseira</td>\n",
              "      <td>169,00</td>\n",
              "      <td>65,70</td>\n",
              "      <td>49,60</td>\n",
              "      <td>rotor</td>\n",
              "      <td>2</td>\n",
              "      <td>70,00</td>\n",
              "      <td>4bbl</td>\n",
              "      <td>101,00</td>\n",
              "      <td>6000,00</td>\n",
              "      <td>10945,00</td>\n",
              "    </tr>\n",
              "  </tbody>\n",
              "</table>\n",
              "</div>\n",
              "      <button class=\"colab-df-convert\" onclick=\"convertToInteractive('df-2c506d3c-e625-4712-92a5-68fe569a6f98')\"\n",
              "              title=\"Convert this dataframe to an interactive table.\"\n",
              "              style=\"display:none;\">\n",
              "        \n",
              "  <svg xmlns=\"http://www.w3.org/2000/svg\" height=\"24px\"viewBox=\"0 0 24 24\"\n",
              "       width=\"24px\">\n",
              "    <path d=\"M0 0h24v24H0V0z\" fill=\"none\"/>\n",
              "    <path d=\"M18.56 5.44l.94 2.06.94-2.06 2.06-.94-2.06-.94-.94-2.06-.94 2.06-2.06.94zm-11 1L8.5 8.5l.94-2.06 2.06-.94-2.06-.94L8.5 2.5l-.94 2.06-2.06.94zm10 10l.94 2.06.94-2.06 2.06-.94-2.06-.94-.94-2.06-.94 2.06-2.06.94z\"/><path d=\"M17.41 7.96l-1.37-1.37c-.4-.4-.92-.59-1.43-.59-.52 0-1.04.2-1.43.59L10.3 9.45l-7.72 7.72c-.78.78-.78 2.05 0 2.83L4 21.41c.39.39.9.59 1.41.59.51 0 1.02-.2 1.41-.59l7.78-7.78 2.81-2.81c.8-.78.8-2.07 0-2.86zM5.41 20L4 18.59l7.72-7.72 1.47 1.35L5.41 20z\"/>\n",
              "  </svg>\n",
              "      </button>\n",
              "      \n",
              "  <style>\n",
              "    .colab-df-container {\n",
              "      display:flex;\n",
              "      flex-wrap:wrap;\n",
              "      gap: 12px;\n",
              "    }\n",
              "\n",
              "    .colab-df-convert {\n",
              "      background-color: #E8F0FE;\n",
              "      border: none;\n",
              "      border-radius: 50%;\n",
              "      cursor: pointer;\n",
              "      display: none;\n",
              "      fill: #1967D2;\n",
              "      height: 32px;\n",
              "      padding: 0 0 0 0;\n",
              "      width: 32px;\n",
              "    }\n",
              "\n",
              "    .colab-df-convert:hover {\n",
              "      background-color: #E2EBFA;\n",
              "      box-shadow: 0px 1px 2px rgba(60, 64, 67, 0.3), 0px 1px 3px 1px rgba(60, 64, 67, 0.15);\n",
              "      fill: #174EA6;\n",
              "    }\n",
              "\n",
              "    [theme=dark] .colab-df-convert {\n",
              "      background-color: #3B4455;\n",
              "      fill: #D2E3FC;\n",
              "    }\n",
              "\n",
              "    [theme=dark] .colab-df-convert:hover {\n",
              "      background-color: #434B5C;\n",
              "      box-shadow: 0px 1px 3px 1px rgba(0, 0, 0, 0.15);\n",
              "      filter: drop-shadow(0px 1px 2px rgba(0, 0, 0, 0.3));\n",
              "      fill: #FFFFFF;\n",
              "    }\n",
              "  </style>\n",
              "\n",
              "      <script>\n",
              "        const buttonEl =\n",
              "          document.querySelector('#df-2c506d3c-e625-4712-92a5-68fe569a6f98 button.colab-df-convert');\n",
              "        buttonEl.style.display =\n",
              "          google.colab.kernel.accessAllowed ? 'block' : 'none';\n",
              "\n",
              "        async function convertToInteractive(key) {\n",
              "          const element = document.querySelector('#df-2c506d3c-e625-4712-92a5-68fe569a6f98');\n",
              "          const dataTable =\n",
              "            await google.colab.kernel.invokeFunction('convertToInteractive',\n",
              "                                                     [key], {});\n",
              "          if (!dataTable) return;\n",
              "\n",
              "          const docLinkHtml = 'Like what you see? Visit the ' +\n",
              "            '<a target=\"_blank\" href=https://colab.research.google.com/notebooks/data_table.ipynb>data table notebook</a>'\n",
              "            + ' to learn more about interactive tables.';\n",
              "          element.innerHTML = '';\n",
              "          dataTable['output_type'] = 'display_data';\n",
              "          await google.colab.output.renderOutput(dataTable, element);\n",
              "          const docLink = document.createElement('div');\n",
              "          docLink.innerHTML = docLinkHtml;\n",
              "          element.appendChild(docLink);\n",
              "        }\n",
              "      </script>\n",
              "    </div>\n",
              "  </div>\n",
              "  "
            ]
          },
          "metadata": {},
          "execution_count": 6
        }
      ]
    },
    {
      "cell_type": "code",
      "source": [
        "# Número de linhas e colunas\n",
        "df.shape"
      ],
      "metadata": {
        "colab": {
          "base_uri": "https://localhost:8080/"
        },
        "id": "GdtsWHdU2BIz",
        "outputId": "bd089587-c098-459c-965c-7d8946766090"
      },
      "execution_count": 7,
      "outputs": [
        {
          "output_type": "execute_result",
          "data": {
            "text/plain": [
              "(205, 15)"
            ]
          },
          "metadata": {},
          "execution_count": 7
        }
      ]
    },
    {
      "cell_type": "code",
      "source": [
        "# Informações\n",
        "df.info()"
      ],
      "metadata": {
        "colab": {
          "base_uri": "https://localhost:8080/"
        },
        "id": "H7AqB1HW2KXv",
        "outputId": "96cf226a-31dc-4f9f-b788-dea4c0516e99"
      },
      "execution_count": 8,
      "outputs": [
        {
          "output_type": "stream",
          "name": "stdout",
          "text": [
            "<class 'pandas.core.frame.DataFrame'>\n",
            "RangeIndex: 205 entries, 0 to 204\n",
            "Data columns (total 15 columns):\n",
            " #   Column               Non-Null Count  Dtype  \n",
            "---  ------               --------------  -----  \n",
            " 0   Fabricante           203 non-null    object \n",
            " 1   Combustível          200 non-null    object \n",
            " 2   Portas               203 non-null    float64\n",
            " 3   Estilo Chassis       205 non-null    object \n",
            " 4   Tração               205 non-null    object \n",
            " 5   Comprimento          205 non-null    object \n",
            " 6   Largura              205 non-null    object \n",
            " 7   Altura               205 non-null    object \n",
            " 8   Tipo de motor        205 non-null    object \n",
            " 9   Número de cilindros  205 non-null    object \n",
            " 10  Tamanho do motor     205 non-null    object \n",
            " 11  Tipo de injeção      205 non-null    object \n",
            " 12  Potência (HP)        205 non-null    object \n",
            " 13  Pico RPM             205 non-null    object \n",
            " 14  Preço                205 non-null    object \n",
            "dtypes: float64(1), object(14)\n",
            "memory usage: 24.1+ KB\n"
          ]
        }
      ]
    },
    {
      "cell_type": "code",
      "source": [
        "# Dados faltantes\n",
        "df.isnull().sum()"
      ],
      "metadata": {
        "colab": {
          "base_uri": "https://localhost:8080/"
        },
        "id": "oWOFPXgG2e3P",
        "outputId": "7ff81cbb-e437-4dec-a976-e85e0872b6ee"
      },
      "execution_count": 9,
      "outputs": [
        {
          "output_type": "execute_result",
          "data": {
            "text/plain": [
              "Fabricante             2\n",
              "Combustível            5\n",
              "Portas                 2\n",
              "Estilo Chassis         0\n",
              "Tração                 0\n",
              "Comprimento            0\n",
              "Largura                0\n",
              "Altura                 0\n",
              "Tipo de motor          0\n",
              "Número de cilindros    0\n",
              "Tamanho do motor       0\n",
              "Tipo de injeção        0\n",
              "Potência (HP)          0\n",
              "Pico RPM               0\n",
              "Preço                  0\n",
              "dtype: int64"
            ]
          },
          "metadata": {},
          "execution_count": 9
        }
      ]
    },
    {
      "cell_type": "markdown",
      "source": [
        "## Estatística descritiva"
      ],
      "metadata": {
        "id": "q-seG8_k2xcB"
      }
    },
    {
      "cell_type": "code",
      "source": [
        "# Campos numéricos\n",
        "df.describe()"
      ],
      "metadata": {
        "colab": {
          "base_uri": "https://localhost:8080/",
          "height": 300
        },
        "id": "rcGQCDYx20Jn",
        "outputId": "a19942d9-f19b-433c-884b-aa40643d15cc"
      },
      "execution_count": 10,
      "outputs": [
        {
          "output_type": "execute_result",
          "data": {
            "text/plain": [
              "           Portas\n",
              "count  203.000000\n",
              "mean     3.123153\n",
              "std      0.994841\n",
              "min      2.000000\n",
              "25%      2.000000\n",
              "50%      4.000000\n",
              "75%      4.000000\n",
              "max      4.000000"
            ],
            "text/html": [
              "\n",
              "  <div id=\"df-ff3441e6-0f40-4eb4-a2b2-21784aad3e2d\">\n",
              "    <div class=\"colab-df-container\">\n",
              "      <div>\n",
              "<style scoped>\n",
              "    .dataframe tbody tr th:only-of-type {\n",
              "        vertical-align: middle;\n",
              "    }\n",
              "\n",
              "    .dataframe tbody tr th {\n",
              "        vertical-align: top;\n",
              "    }\n",
              "\n",
              "    .dataframe thead th {\n",
              "        text-align: right;\n",
              "    }\n",
              "</style>\n",
              "<table border=\"1\" class=\"dataframe\">\n",
              "  <thead>\n",
              "    <tr style=\"text-align: right;\">\n",
              "      <th></th>\n",
              "      <th>Portas</th>\n",
              "    </tr>\n",
              "  </thead>\n",
              "  <tbody>\n",
              "    <tr>\n",
              "      <th>count</th>\n",
              "      <td>203.000000</td>\n",
              "    </tr>\n",
              "    <tr>\n",
              "      <th>mean</th>\n",
              "      <td>3.123153</td>\n",
              "    </tr>\n",
              "    <tr>\n",
              "      <th>std</th>\n",
              "      <td>0.994841</td>\n",
              "    </tr>\n",
              "    <tr>\n",
              "      <th>min</th>\n",
              "      <td>2.000000</td>\n",
              "    </tr>\n",
              "    <tr>\n",
              "      <th>25%</th>\n",
              "      <td>2.000000</td>\n",
              "    </tr>\n",
              "    <tr>\n",
              "      <th>50%</th>\n",
              "      <td>4.000000</td>\n",
              "    </tr>\n",
              "    <tr>\n",
              "      <th>75%</th>\n",
              "      <td>4.000000</td>\n",
              "    </tr>\n",
              "    <tr>\n",
              "      <th>max</th>\n",
              "      <td>4.000000</td>\n",
              "    </tr>\n",
              "  </tbody>\n",
              "</table>\n",
              "</div>\n",
              "      <button class=\"colab-df-convert\" onclick=\"convertToInteractive('df-ff3441e6-0f40-4eb4-a2b2-21784aad3e2d')\"\n",
              "              title=\"Convert this dataframe to an interactive table.\"\n",
              "              style=\"display:none;\">\n",
              "        \n",
              "  <svg xmlns=\"http://www.w3.org/2000/svg\" height=\"24px\"viewBox=\"0 0 24 24\"\n",
              "       width=\"24px\">\n",
              "    <path d=\"M0 0h24v24H0V0z\" fill=\"none\"/>\n",
              "    <path d=\"M18.56 5.44l.94 2.06.94-2.06 2.06-.94-2.06-.94-.94-2.06-.94 2.06-2.06.94zm-11 1L8.5 8.5l.94-2.06 2.06-.94-2.06-.94L8.5 2.5l-.94 2.06-2.06.94zm10 10l.94 2.06.94-2.06 2.06-.94-2.06-.94-.94-2.06-.94 2.06-2.06.94z\"/><path d=\"M17.41 7.96l-1.37-1.37c-.4-.4-.92-.59-1.43-.59-.52 0-1.04.2-1.43.59L10.3 9.45l-7.72 7.72c-.78.78-.78 2.05 0 2.83L4 21.41c.39.39.9.59 1.41.59.51 0 1.02-.2 1.41-.59l7.78-7.78 2.81-2.81c.8-.78.8-2.07 0-2.86zM5.41 20L4 18.59l7.72-7.72 1.47 1.35L5.41 20z\"/>\n",
              "  </svg>\n",
              "      </button>\n",
              "      \n",
              "  <style>\n",
              "    .colab-df-container {\n",
              "      display:flex;\n",
              "      flex-wrap:wrap;\n",
              "      gap: 12px;\n",
              "    }\n",
              "\n",
              "    .colab-df-convert {\n",
              "      background-color: #E8F0FE;\n",
              "      border: none;\n",
              "      border-radius: 50%;\n",
              "      cursor: pointer;\n",
              "      display: none;\n",
              "      fill: #1967D2;\n",
              "      height: 32px;\n",
              "      padding: 0 0 0 0;\n",
              "      width: 32px;\n",
              "    }\n",
              "\n",
              "    .colab-df-convert:hover {\n",
              "      background-color: #E2EBFA;\n",
              "      box-shadow: 0px 1px 2px rgba(60, 64, 67, 0.3), 0px 1px 3px 1px rgba(60, 64, 67, 0.15);\n",
              "      fill: #174EA6;\n",
              "    }\n",
              "\n",
              "    [theme=dark] .colab-df-convert {\n",
              "      background-color: #3B4455;\n",
              "      fill: #D2E3FC;\n",
              "    }\n",
              "\n",
              "    [theme=dark] .colab-df-convert:hover {\n",
              "      background-color: #434B5C;\n",
              "      box-shadow: 0px 1px 3px 1px rgba(0, 0, 0, 0.15);\n",
              "      filter: drop-shadow(0px 1px 2px rgba(0, 0, 0, 0.3));\n",
              "      fill: #FFFFFF;\n",
              "    }\n",
              "  </style>\n",
              "\n",
              "      <script>\n",
              "        const buttonEl =\n",
              "          document.querySelector('#df-ff3441e6-0f40-4eb4-a2b2-21784aad3e2d button.colab-df-convert');\n",
              "        buttonEl.style.display =\n",
              "          google.colab.kernel.accessAllowed ? 'block' : 'none';\n",
              "\n",
              "        async function convertToInteractive(key) {\n",
              "          const element = document.querySelector('#df-ff3441e6-0f40-4eb4-a2b2-21784aad3e2d');\n",
              "          const dataTable =\n",
              "            await google.colab.kernel.invokeFunction('convertToInteractive',\n",
              "                                                     [key], {});\n",
              "          if (!dataTable) return;\n",
              "\n",
              "          const docLinkHtml = 'Like what you see? Visit the ' +\n",
              "            '<a target=\"_blank\" href=https://colab.research.google.com/notebooks/data_table.ipynb>data table notebook</a>'\n",
              "            + ' to learn more about interactive tables.';\n",
              "          element.innerHTML = '';\n",
              "          dataTable['output_type'] = 'display_data';\n",
              "          await google.colab.output.renderOutput(dataTable, element);\n",
              "          const docLink = document.createElement('div');\n",
              "          docLink.innerHTML = docLinkHtml;\n",
              "          element.appendChild(docLink);\n",
              "        }\n",
              "      </script>\n",
              "    </div>\n",
              "  </div>\n",
              "  "
            ]
          },
          "metadata": {},
          "execution_count": 10
        }
      ]
    },
    {
      "cell_type": "code",
      "source": [
        "# Campos não-numérico\n",
        "df.select_dtypes(include='object').describe()"
      ],
      "metadata": {
        "colab": {
          "base_uri": "https://localhost:8080/",
          "height": 236
        },
        "id": "o1DgAQ633D2O",
        "outputId": "d309bee7-3caa-4211-ba08-488cc87afe37"
      },
      "execution_count": 11,
      "outputs": [
        {
          "output_type": "execute_result",
          "data": {
            "text/plain": [
              "       Fabricante Combustível Estilo Chassis     Tração Comprimento Largura  \\\n",
              "count         203         200            205        205         205     205   \n",
              "unique         22           2              5          3          75      44   \n",
              "top        toyota         gas          sedan  dianteira      157,30   63,80   \n",
              "freq           32         180             96        120          15      24   \n",
              "\n",
              "       Altura Tipo de motor  Número de cilindros Tamanho do motor  \\\n",
              "count     205           205                  205              205   \n",
              "unique     49             7                    7               44   \n",
              "top     50,80           ohc                    4           122,00   \n",
              "freq       14           148                  159               15   \n",
              "\n",
              "       Tipo de injeção Potência (HP) Pico RPM     Preço  \n",
              "count              205           205      205       205  \n",
              "unique               8            60       25       187  \n",
              "top               mpfi         68,00  5500,00  13207,13  \n",
              "freq                94            19       37         4  "
            ],
            "text/html": [
              "\n",
              "  <div id=\"df-07e4c594-0704-4516-94aa-ec4b68f2a625\">\n",
              "    <div class=\"colab-df-container\">\n",
              "      <div>\n",
              "<style scoped>\n",
              "    .dataframe tbody tr th:only-of-type {\n",
              "        vertical-align: middle;\n",
              "    }\n",
              "\n",
              "    .dataframe tbody tr th {\n",
              "        vertical-align: top;\n",
              "    }\n",
              "\n",
              "    .dataframe thead th {\n",
              "        text-align: right;\n",
              "    }\n",
              "</style>\n",
              "<table border=\"1\" class=\"dataframe\">\n",
              "  <thead>\n",
              "    <tr style=\"text-align: right;\">\n",
              "      <th></th>\n",
              "      <th>Fabricante</th>\n",
              "      <th>Combustível</th>\n",
              "      <th>Estilo Chassis</th>\n",
              "      <th>Tração</th>\n",
              "      <th>Comprimento</th>\n",
              "      <th>Largura</th>\n",
              "      <th>Altura</th>\n",
              "      <th>Tipo de motor</th>\n",
              "      <th>Número de cilindros</th>\n",
              "      <th>Tamanho do motor</th>\n",
              "      <th>Tipo de injeção</th>\n",
              "      <th>Potência (HP)</th>\n",
              "      <th>Pico RPM</th>\n",
              "      <th>Preço</th>\n",
              "    </tr>\n",
              "  </thead>\n",
              "  <tbody>\n",
              "    <tr>\n",
              "      <th>count</th>\n",
              "      <td>203</td>\n",
              "      <td>200</td>\n",
              "      <td>205</td>\n",
              "      <td>205</td>\n",
              "      <td>205</td>\n",
              "      <td>205</td>\n",
              "      <td>205</td>\n",
              "      <td>205</td>\n",
              "      <td>205</td>\n",
              "      <td>205</td>\n",
              "      <td>205</td>\n",
              "      <td>205</td>\n",
              "      <td>205</td>\n",
              "      <td>205</td>\n",
              "    </tr>\n",
              "    <tr>\n",
              "      <th>unique</th>\n",
              "      <td>22</td>\n",
              "      <td>2</td>\n",
              "      <td>5</td>\n",
              "      <td>3</td>\n",
              "      <td>75</td>\n",
              "      <td>44</td>\n",
              "      <td>49</td>\n",
              "      <td>7</td>\n",
              "      <td>7</td>\n",
              "      <td>44</td>\n",
              "      <td>8</td>\n",
              "      <td>60</td>\n",
              "      <td>25</td>\n",
              "      <td>187</td>\n",
              "    </tr>\n",
              "    <tr>\n",
              "      <th>top</th>\n",
              "      <td>toyota</td>\n",
              "      <td>gas</td>\n",
              "      <td>sedan</td>\n",
              "      <td>dianteira</td>\n",
              "      <td>157,30</td>\n",
              "      <td>63,80</td>\n",
              "      <td>50,80</td>\n",
              "      <td>ohc</td>\n",
              "      <td>4</td>\n",
              "      <td>122,00</td>\n",
              "      <td>mpfi</td>\n",
              "      <td>68,00</td>\n",
              "      <td>5500,00</td>\n",
              "      <td>13207,13</td>\n",
              "    </tr>\n",
              "    <tr>\n",
              "      <th>freq</th>\n",
              "      <td>32</td>\n",
              "      <td>180</td>\n",
              "      <td>96</td>\n",
              "      <td>120</td>\n",
              "      <td>15</td>\n",
              "      <td>24</td>\n",
              "      <td>14</td>\n",
              "      <td>148</td>\n",
              "      <td>159</td>\n",
              "      <td>15</td>\n",
              "      <td>94</td>\n",
              "      <td>19</td>\n",
              "      <td>37</td>\n",
              "      <td>4</td>\n",
              "    </tr>\n",
              "  </tbody>\n",
              "</table>\n",
              "</div>\n",
              "      <button class=\"colab-df-convert\" onclick=\"convertToInteractive('df-07e4c594-0704-4516-94aa-ec4b68f2a625')\"\n",
              "              title=\"Convert this dataframe to an interactive table.\"\n",
              "              style=\"display:none;\">\n",
              "        \n",
              "  <svg xmlns=\"http://www.w3.org/2000/svg\" height=\"24px\"viewBox=\"0 0 24 24\"\n",
              "       width=\"24px\">\n",
              "    <path d=\"M0 0h24v24H0V0z\" fill=\"none\"/>\n",
              "    <path d=\"M18.56 5.44l.94 2.06.94-2.06 2.06-.94-2.06-.94-.94-2.06-.94 2.06-2.06.94zm-11 1L8.5 8.5l.94-2.06 2.06-.94-2.06-.94L8.5 2.5l-.94 2.06-2.06.94zm10 10l.94 2.06.94-2.06 2.06-.94-2.06-.94-.94-2.06-.94 2.06-2.06.94z\"/><path d=\"M17.41 7.96l-1.37-1.37c-.4-.4-.92-.59-1.43-.59-.52 0-1.04.2-1.43.59L10.3 9.45l-7.72 7.72c-.78.78-.78 2.05 0 2.83L4 21.41c.39.39.9.59 1.41.59.51 0 1.02-.2 1.41-.59l7.78-7.78 2.81-2.81c.8-.78.8-2.07 0-2.86zM5.41 20L4 18.59l7.72-7.72 1.47 1.35L5.41 20z\"/>\n",
              "  </svg>\n",
              "      </button>\n",
              "      \n",
              "  <style>\n",
              "    .colab-df-container {\n",
              "      display:flex;\n",
              "      flex-wrap:wrap;\n",
              "      gap: 12px;\n",
              "    }\n",
              "\n",
              "    .colab-df-convert {\n",
              "      background-color: #E8F0FE;\n",
              "      border: none;\n",
              "      border-radius: 50%;\n",
              "      cursor: pointer;\n",
              "      display: none;\n",
              "      fill: #1967D2;\n",
              "      height: 32px;\n",
              "      padding: 0 0 0 0;\n",
              "      width: 32px;\n",
              "    }\n",
              "\n",
              "    .colab-df-convert:hover {\n",
              "      background-color: #E2EBFA;\n",
              "      box-shadow: 0px 1px 2px rgba(60, 64, 67, 0.3), 0px 1px 3px 1px rgba(60, 64, 67, 0.15);\n",
              "      fill: #174EA6;\n",
              "    }\n",
              "\n",
              "    [theme=dark] .colab-df-convert {\n",
              "      background-color: #3B4455;\n",
              "      fill: #D2E3FC;\n",
              "    }\n",
              "\n",
              "    [theme=dark] .colab-df-convert:hover {\n",
              "      background-color: #434B5C;\n",
              "      box-shadow: 0px 1px 3px 1px rgba(0, 0, 0, 0.15);\n",
              "      filter: drop-shadow(0px 1px 2px rgba(0, 0, 0, 0.3));\n",
              "      fill: #FFFFFF;\n",
              "    }\n",
              "  </style>\n",
              "\n",
              "      <script>\n",
              "        const buttonEl =\n",
              "          document.querySelector('#df-07e4c594-0704-4516-94aa-ec4b68f2a625 button.colab-df-convert');\n",
              "        buttonEl.style.display =\n",
              "          google.colab.kernel.accessAllowed ? 'block' : 'none';\n",
              "\n",
              "        async function convertToInteractive(key) {\n",
              "          const element = document.querySelector('#df-07e4c594-0704-4516-94aa-ec4b68f2a625');\n",
              "          const dataTable =\n",
              "            await google.colab.kernel.invokeFunction('convertToInteractive',\n",
              "                                                     [key], {});\n",
              "          if (!dataTable) return;\n",
              "\n",
              "          const docLinkHtml = 'Like what you see? Visit the ' +\n",
              "            '<a target=\"_blank\" href=https://colab.research.google.com/notebooks/data_table.ipynb>data table notebook</a>'\n",
              "            + ' to learn more about interactive tables.';\n",
              "          element.innerHTML = '';\n",
              "          dataTable['output_type'] = 'display_data';\n",
              "          await google.colab.output.renderOutput(dataTable, element);\n",
              "          const docLink = document.createElement('div');\n",
              "          docLink.innerHTML = docLinkHtml;\n",
              "          element.appendChild(docLink);\n",
              "        }\n",
              "      </script>\n",
              "    </div>\n",
              "  </div>\n",
              "  "
            ]
          },
          "metadata": {},
          "execution_count": 11
        }
      ]
    },
    {
      "cell_type": "markdown",
      "source": [
        "## Campo Comprimento"
      ],
      "metadata": {
        "id": "ZPI8zVd9_YBK"
      }
    },
    {
      "cell_type": "markdown",
      "source": [
        "- Sem dados omissos ou inconsistentes\n",
        "- Realizada transformação de tipo para float"
      ],
      "metadata": {
        "id": "93VlhNplTi24"
      }
    },
    {
      "cell_type": "code",
      "source": [
        "# Verificação dos dados\n",
        "df['Comprimento'].unique()"
      ],
      "metadata": {
        "colab": {
          "base_uri": "https://localhost:8080/"
        },
        "id": "38xOx6vg_d8G",
        "outputId": "b8ae2040-8ed5-48a2-a13e-f814c7dc8ccc"
      },
      "execution_count": 12,
      "outputs": [
        {
          "output_type": "execute_result",
          "data": {
            "text/plain": [
              "array(['168,80', '171,20', '176,60', '177,30', '192,70', '178,20',\n",
              "       '176,80', '189,00', '193,80', '197,00', '141,10', '155,90',\n",
              "       '158,80', '157,30', '174,60', '173,20', '144,60', '150,00',\n",
              "       '163,40', '157,10', '167,50', '175,40', '169,10', '170,70',\n",
              "       '172,60', '199,60', '191,70', '159,10', '166,80', '169,00',\n",
              "       '177,80', '175,00', '190,90', '187,50', '202,60', '180,30',\n",
              "       '208,10', '199,20', '178,40', '173,00', '172,40', '165,30',\n",
              "       '170,20', '165,60', '162,40', '173,40', '181,70', '184,60',\n",
              "       '178,50', '186,70', '198,90', '167,30', '168,90', '175,70',\n",
              "       '181,50', '186,60', '156,90', '157,90', '172,00', '173,50',\n",
              "       '173,60', '158,70', '169,70', '166,30', '168,70', '176,20',\n",
              "       '175,60', '183,50', '187,80', '171,70', '159,30', '165,70',\n",
              "       '180,20', '183,10', '188,80'], dtype=object)"
            ]
          },
          "metadata": {},
          "execution_count": 12
        }
      ]
    },
    {
      "cell_type": "code",
      "source": [
        "# Transformação dos dados em float\n",
        "df['Comprimento'] = df['Comprimento'].astype('string')\n",
        "df['Comprimento'] = df['Comprimento'].str.replace(',', '.')\n",
        "df['Comprimento'] = df['Comprimento'].astype('float')"
      ],
      "metadata": {
        "id": "CD18GDLh_yRZ"
      },
      "execution_count": 13,
      "outputs": []
    },
    {
      "cell_type": "code",
      "source": [
        "# Verificação dos dados\n",
        "df['Comprimento'].unique()"
      ],
      "metadata": {
        "colab": {
          "base_uri": "https://localhost:8080/"
        },
        "id": "4qENWpOESeof",
        "outputId": "ca859b2c-1c1a-4ec2-a183-ce0b5d3e4d9a"
      },
      "execution_count": 14,
      "outputs": [
        {
          "output_type": "execute_result",
          "data": {
            "text/plain": [
              "array([168.8, 171.2, 176.6, 177.3, 192.7, 178.2, 176.8, 189. , 193.8,\n",
              "       197. , 141.1, 155.9, 158.8, 157.3, 174.6, 173.2, 144.6, 150. ,\n",
              "       163.4, 157.1, 167.5, 175.4, 169.1, 170.7, 172.6, 199.6, 191.7,\n",
              "       159.1, 166.8, 169. , 177.8, 175. , 190.9, 187.5, 202.6, 180.3,\n",
              "       208.1, 199.2, 178.4, 173. , 172.4, 165.3, 170.2, 165.6, 162.4,\n",
              "       173.4, 181.7, 184.6, 178.5, 186.7, 198.9, 167.3, 168.9, 175.7,\n",
              "       181.5, 186.6, 156.9, 157.9, 172. , 173.5, 173.6, 158.7, 169.7,\n",
              "       166.3, 168.7, 176.2, 175.6, 183.5, 187.8, 171.7, 159.3, 165.7,\n",
              "       180.2, 183.1, 188.8])"
            ]
          },
          "metadata": {},
          "execution_count": 14
        }
      ]
    },
    {
      "cell_type": "code",
      "source": [
        "# Visualização do histograma\n",
        "df.hist(column='Comprimento', figsize=(9,6), bins=20)"
      ],
      "metadata": {
        "colab": {
          "base_uri": "https://localhost:8080/",
          "height": 425
        },
        "id": "RpYz_geGA5JE",
        "outputId": "21381b79-d435-4616-c2e7-d28af7192c83"
      },
      "execution_count": 15,
      "outputs": [
        {
          "output_type": "execute_result",
          "data": {
            "text/plain": [
              "array([[<matplotlib.axes._subplots.AxesSubplot object at 0x7f65ebf6b5d0>]],\n",
              "      dtype=object)"
            ]
          },
          "metadata": {},
          "execution_count": 15
        },
        {
          "output_type": "display_data",
          "data": {
            "text/plain": [
              "<Figure size 648x432 with 1 Axes>"
            ],
            "image/png": "[encoded data removed]"
          },
          "metadata": {
            "needs_background": "light"
          }
        }
      ]
    },
    {
      "cell_type": "markdown",
      "source": [
        "## Campo Largura"
      ],
      "metadata": {
        "id": "XLfnABmmBIe2"
      }
    },
    {
      "cell_type": "markdown",
      "source": [
        "- Sem dados omissos ou inconsistentes\n",
        "- Realizada transformação de tipo para float"
      ],
      "metadata": {
        "id": "Rrtmt0SKT2-d"
      }
    },
    {
      "cell_type": "code",
      "source": [
        "# Verificação dos dados\n",
        "df['Largura'].unique()"
      ],
      "metadata": {
        "colab": {
          "base_uri": "https://localhost:8080/"
        },
        "id": "X6c2reFNBFJA",
        "outputId": "e1bc9f8b-8525-4221-de69-7fa4bb3b597b"
      },
      "execution_count": 16,
      "outputs": [
        {
          "output_type": "execute_result",
          "data": {
            "text/plain": [
              "array(['64,10', '65,50', '66,20', '66,40', '66,30', '71,40', '67,90',\n",
              "       '64,80', '66,90', '70,90', '60,30', '63,60', '63,80', '64,60',\n",
              "       '63,90', '64,00', '65,20', '62,50', '66,00', '61,80', '69,60',\n",
              "       '70,60', '64,20', '65,70', '66,50', '66,10', '70,30', '71,70',\n",
              "       '70,50', '72,00', '68,00', '64,40', '65,40', '68,40', '68,30',\n",
              "       '65,00', '72,30', '66,60', '63,40', '65,60', '67,70', '67,20',\n",
              "       '68,90', '68,80'], dtype=object)"
            ]
          },
          "metadata": {},
          "execution_count": 16
        }
      ]
    },
    {
      "cell_type": "code",
      "source": [
        "# Conversão dos dados em float\n",
        "df['Largura'] = df['Largura'].astype('string')\n",
        "df['Largura'] = df['Largura'].str.replace(',', '.')\n",
        "df['Largura'] = df['Largura'].astype('float')"
      ],
      "metadata": {
        "id": "9-iCnh2VBM6J"
      },
      "execution_count": 17,
      "outputs": []
    },
    {
      "cell_type": "code",
      "source": [
        "# Verificação dos dados\n",
        "df['Largura'].unique()"
      ],
      "metadata": {
        "colab": {
          "base_uri": "https://localhost:8080/"
        },
        "id": "e-YNxvxNSwnJ",
        "outputId": "2f569968-0577-4a95-87d7-f023ca4d5a4d"
      },
      "execution_count": 18,
      "outputs": [
        {
          "output_type": "execute_result",
          "data": {
            "text/plain": [
              "array([64.1, 65.5, 66.2, 66.4, 66.3, 71.4, 67.9, 64.8, 66.9, 70.9, 60.3,\n",
              "       63.6, 63.8, 64.6, 63.9, 64. , 65.2, 62.5, 66. , 61.8, 69.6, 70.6,\n",
              "       64.2, 65.7, 66.5, 66.1, 70.3, 71.7, 70.5, 72. , 68. , 64.4, 65.4,\n",
              "       68.4, 68.3, 65. , 72.3, 66.6, 63.4, 65.6, 67.7, 67.2, 68.9, 68.8])"
            ]
          },
          "metadata": {},
          "execution_count": 18
        }
      ]
    },
    {
      "cell_type": "code",
      "source": [
        "# Visualização do histograma\n",
        "df.hist(column='Largura', figsize=(9,6), bins=20)"
      ],
      "metadata": {
        "colab": {
          "base_uri": "https://localhost:8080/",
          "height": 0
        },
        "id": "PvYlq7dJBP89",
        "outputId": "76d7c66a-d14f-4753-a79f-f5f609a470a0"
      },
      "execution_count": 19,
      "outputs": [
        {
          "output_type": "execute_result",
          "data": {
            "text/plain": [
              "array([[<matplotlib.axes._subplots.AxesSubplot object at 0x7f65eb8df990>]],\n",
              "      dtype=object)"
            ]
          },
          "metadata": {},
          "execution_count": 19
        },
        {
          "output_type": "display_data",
          "data": {
            "text/plain": [
              "<Figure size 648x432 with 1 Axes>"
            ],
            "image/png": "[encoded data removed]"
          },
          "metadata": {
            "needs_background": "light"
          }
        }
      ]
    },
    {
      "cell_type": "markdown",
      "source": [
        "## Campo Altura"
      ],
      "metadata": {
        "id": "KrAER-sEBWaF"
      }
    },
    {
      "cell_type": "markdown",
      "source": [
        "- Sem dados omissos ou inconsistentes\n",
        "- Realizada transformação de tipo para float"
      ],
      "metadata": {
        "id": "Z8x151siT7SO"
      }
    },
    {
      "cell_type": "code",
      "source": [
        "# Verificação dos dados\n",
        "df['Altura'].unique()"
      ],
      "metadata": {
        "colab": {
          "base_uri": "https://localhost:8080/"
        },
        "id": "EJjA35h8BX4T",
        "outputId": "5154b295-5660-4770-ab25-1b11bb8651be"
      },
      "execution_count": 20,
      "outputs": [
        {
          "output_type": "execute_result",
          "data": {
            "text/plain": [
              "array(['48,80', '52,40', '54,30', '53,10', '55,70', '55,90', '52,00',\n",
              "       '53,70', '56,30', '53,20', '50,80', '50,60', '59,80', '50,20',\n",
              "       '52,60', '54,50', '58,30', '53,30', '54,10', '51,00', '53,50',\n",
              "       '51,40', '52,80', '47,80', '49,60', '55,50', '54,40', '56,50',\n",
              "       '58,70', '54,90', '56,70', '55,40', '54,80', '49,40', '51,60',\n",
              "       '54,70', '55,10', '56,10', '49,70', '56,00', '50,50', '55,20',\n",
              "       '52,50', '53,00', '59,10', '53,90', '55,60', '56,20', '57,50'],\n",
              "      dtype=object)"
            ]
          },
          "metadata": {},
          "execution_count": 20
        }
      ]
    },
    {
      "cell_type": "code",
      "source": [
        "# Transformação dos dados em float\n",
        "df['Altura'] = df['Altura'].astype('string')\n",
        "df['Altura'] = df['Altura'].str.replace(',', '.')\n",
        "df['Altura'] = df['Altura'].astype('float')"
      ],
      "metadata": {
        "id": "uk7QfpPCBcR8"
      },
      "execution_count": 21,
      "outputs": []
    },
    {
      "cell_type": "code",
      "source": [
        "# Verificação dos dados\n",
        "df['Altura'].unique()"
      ],
      "metadata": {
        "colab": {
          "base_uri": "https://localhost:8080/"
        },
        "id": "9UzQ4vCTVoZU",
        "outputId": "7f91881f-1544-42ad-f370-4627f24bfb9f"
      },
      "execution_count": 22,
      "outputs": [
        {
          "output_type": "execute_result",
          "data": {
            "text/plain": [
              "array([48.8, 52.4, 54.3, 53.1, 55.7, 55.9, 52. , 53.7, 56.3, 53.2, 50.8,\n",
              "       50.6, 59.8, 50.2, 52.6, 54.5, 58.3, 53.3, 54.1, 51. , 53.5, 51.4,\n",
              "       52.8, 47.8, 49.6, 55.5, 54.4, 56.5, 58.7, 54.9, 56.7, 55.4, 54.8,\n",
              "       49.4, 51.6, 54.7, 55.1, 56.1, 49.7, 56. , 50.5, 55.2, 52.5, 53. ,\n",
              "       59.1, 53.9, 55.6, 56.2, 57.5])"
            ]
          },
          "metadata": {},
          "execution_count": 22
        }
      ]
    },
    {
      "cell_type": "code",
      "source": [
        "# Visualização do histograma\n",
        "df.hist(column='Altura', figsize=(9,6), bins=20)"
      ],
      "metadata": {
        "colab": {
          "base_uri": "https://localhost:8080/",
          "height": 0
        },
        "id": "4kLy07MHBevT",
        "outputId": "dd0ff66b-b14a-4770-dc90-c30046162b2c"
      },
      "execution_count": 23,
      "outputs": [
        {
          "output_type": "execute_result",
          "data": {
            "text/plain": [
              "array([[<matplotlib.axes._subplots.AxesSubplot object at 0x7f65eb873790>]],\n",
              "      dtype=object)"
            ]
          },
          "metadata": {},
          "execution_count": 23
        },
        {
          "output_type": "display_data",
          "data": {
            "text/plain": [
              "<Figure size 648x432 with 1 Axes>"
            ],
            "image/png": "[encoded data removed]"
          },
          "metadata": {
            "needs_background": "light"
          }
        }
      ]
    },
    {
      "cell_type": "markdown",
      "source": [
        "## Campo Fabricante"
      ],
      "metadata": {
        "id": "14IWfcaK94sZ"
      }
    },
    {
      "cell_type": "markdown",
      "source": [
        "- Com dados omissos\n",
        "- Realizada a busca de registros com dados similares (exceto valor) para imputação de valores:\n",
        "  - Registro 203: não foi encontrado registro com os mesmos dados, mas 'bmw' é o valor mais provável\n",
        "  - Registro 204: foi encontrado registro com os mesmos dados, sendo 'mazda' o valor mais provável"
      ],
      "metadata": {
        "id": "iSur1LwdT_A9"
      }
    },
    {
      "cell_type": "code",
      "source": [
        "# Verificação dos dados\n",
        "df['Fabricante'].unique()"
      ],
      "metadata": {
        "colab": {
          "base_uri": "https://localhost:8080/"
        },
        "id": "aV6sfBqU2uKI",
        "outputId": "278eab08-fad8-49e4-b716-bf9008132b5b"
      },
      "execution_count": 24,
      "outputs": [
        {
          "output_type": "execute_result",
          "data": {
            "text/plain": [
              "array(['alfa-romeo', 'audi', 'bmw', 'chevrolet', 'dodge', 'honda',\n",
              "       'isuzu', 'jaguar', 'mazda', 'mercedes-benz', 'mercury',\n",
              "       'mitsubishi', 'nissan', 'peugot', 'plymouth', 'porsche', 'renault',\n",
              "       'saab', 'subaru', 'toyota', 'volkswagen', 'volvo', nan],\n",
              "      dtype=object)"
            ]
          },
          "metadata": {},
          "execution_count": 24
        }
      ]
    },
    {
      "cell_type": "code",
      "source": [
        "# Visualização dos dados faltantes\n",
        "df[df['Fabricante'].isnull()]"
      ],
      "metadata": {
        "colab": {
          "base_uri": "https://localhost:8080/",
          "height": 0
        },
        "id": "5wWVUc-D-LHe",
        "outputId": "6cd9210f-c26f-4c2e-bbcd-cc4027cd4475"
      },
      "execution_count": 25,
      "outputs": [
        {
          "output_type": "execute_result",
          "data": {
            "text/plain": [
              "    Fabricante Combustível  Portas Estilo Chassis    Tração  Comprimento  \\\n",
              "203        NaN         gas     4.0          sedan  traseira        176.8   \n",
              "204        NaN         gas     2.0          hatch  traseira        169.0   \n",
              "\n",
              "     Largura  Altura Tipo de motor Número de cilindros Tamanho do motor  \\\n",
              "203     64.8    54.3           ohc                   6           164,00   \n",
              "204     65.7    49.6         rotor                   2            70,00   \n",
              "\n",
              "    Tipo de injeção Potência (HP) Pico RPM     Preço  \n",
              "203            mpfi        121,00  4250,00  21105,00  \n",
              "204            4bbl        101,00  6000,00  10945,00  "
            ],
            "text/html": [
              "\n",
              "  <div id=\"df-004213d0-e76e-4098-991e-bcad8e6c4161\">\n",
              "    <div class=\"colab-df-container\">\n",
              "      <div>\n",
              "<style scoped>\n",
              "    .dataframe tbody tr th:only-of-type {\n",
              "        vertical-align: middle;\n",
              "    }\n",
              "\n",
              "    .dataframe tbody tr th {\n",
              "        vertical-align: top;\n",
              "    }\n",
              "\n",
              "    .dataframe thead th {\n",
              "        text-align: right;\n",
              "    }\n",
              "</style>\n",
              "<table border=\"1\" class=\"dataframe\">\n",
              "  <thead>\n",
              "    <tr style=\"text-align: right;\">\n",
              "      <th></th>\n",
              "      <th>Fabricante</th>\n",
              "      <th>Combustível</th>\n",
              "      <th>Portas</th>\n",
              "      <th>Estilo Chassis</th>\n",
              "      <th>Tração</th>\n",
              "      <th>Comprimento</th>\n",
              "      <th>Largura</th>\n",
              "      <th>Altura</th>\n",
              "      <th>Tipo de motor</th>\n",
              "      <th>Número de cilindros</th>\n",
              "      <th>Tamanho do motor</th>\n",
              "      <th>Tipo de injeção</th>\n",
              "      <th>Potência (HP)</th>\n",
              "      <th>Pico RPM</th>\n",
              "      <th>Preço</th>\n",
              "    </tr>\n",
              "  </thead>\n",
              "  <tbody>\n",
              "    <tr>\n",
              "      <th>203</th>\n",
              "      <td>NaN</td>\n",
              "      <td>gas</td>\n",
              "      <td>4.0</td>\n",
              "      <td>sedan</td>\n",
              "      <td>traseira</td>\n",
              "      <td>176.8</td>\n",
              "      <td>64.8</td>\n",
              "      <td>54.3</td>\n",
              "      <td>ohc</td>\n",
              "      <td>6</td>\n",
              "      <td>164,00</td>\n",
              "      <td>mpfi</td>\n",
              "      <td>121,00</td>\n",
              "      <td>4250,00</td>\n",
              "      <td>21105,00</td>\n",
              "    </tr>\n",
              "    <tr>\n",
              "      <th>204</th>\n",
              "      <td>NaN</td>\n",
              "      <td>gas</td>\n",
              "      <td>2.0</td>\n",
              "      <td>hatch</td>\n",
              "      <td>traseira</td>\n",
              "      <td>169.0</td>\n",
              "      <td>65.7</td>\n",
              "      <td>49.6</td>\n",
              "      <td>rotor</td>\n",
              "      <td>2</td>\n",
              "      <td>70,00</td>\n",
              "      <td>4bbl</td>\n",
              "      <td>101,00</td>\n",
              "      <td>6000,00</td>\n",
              "      <td>10945,00</td>\n",
              "    </tr>\n",
              "  </tbody>\n",
              "</table>\n",
              "</div>\n",
              "      <button class=\"colab-df-convert\" onclick=\"convertToInteractive('df-004213d0-e76e-4098-991e-bcad8e6c4161')\"\n",
              "              title=\"Convert this dataframe to an interactive table.\"\n",
              "              style=\"display:none;\">\n",
              "        \n",
              "  <svg xmlns=\"http://www.w3.org/2000/svg\" height=\"24px\"viewBox=\"0 0 24 24\"\n",
              "       width=\"24px\">\n",
              "    <path d=\"M0 0h24v24H0V0z\" fill=\"none\"/>\n",
              "    <path d=\"M18.56 5.44l.94 2.06.94-2.06 2.06-.94-2.06-.94-.94-2.06-.94 2.06-2.06.94zm-11 1L8.5 8.5l.94-2.06 2.06-.94-2.06-.94L8.5 2.5l-.94 2.06-2.06.94zm10 10l.94 2.06.94-2.06 2.06-.94-2.06-.94-.94-2.06-.94 2.06-2.06.94z\"/><path d=\"M17.41 7.96l-1.37-1.37c-.4-.4-.92-.59-1.43-.59-.52 0-1.04.2-1.43.59L10.3 9.45l-7.72 7.72c-.78.78-.78 2.05 0 2.83L4 21.41c.39.39.9.59 1.41.59.51 0 1.02-.2 1.41-.59l7.78-7.78 2.81-2.81c.8-.78.8-2.07 0-2.86zM5.41 20L4 18.59l7.72-7.72 1.47 1.35L5.41 20z\"/>\n",
              "  </svg>\n",
              "      </button>\n",
              "      \n",
              "  <style>\n",
              "    .colab-df-container {\n",
              "      display:flex;\n",
              "      flex-wrap:wrap;\n",
              "      gap: 12px;\n",
              "    }\n",
              "\n",
              "    .colab-df-convert {\n",
              "      background-color: #E8F0FE;\n",
              "      border: none;\n",
              "      border-radius: 50%;\n",
              "      cursor: pointer;\n",
              "      display: none;\n",
              "      fill: #1967D2;\n",
              "      height: 32px;\n",
              "      padding: 0 0 0 0;\n",
              "      width: 32px;\n",
              "    }\n",
              "\n",
              "    .colab-df-convert:hover {\n",
              "      background-color: #E2EBFA;\n",
              "      box-shadow: 0px 1px 2px rgba(60, 64, 67, 0.3), 0px 1px 3px 1px rgba(60, 64, 67, 0.15);\n",
              "      fill: #174EA6;\n",
              "    }\n",
              "\n",
              "    [theme=dark] .colab-df-convert {\n",
              "      background-color: #3B4455;\n",
              "      fill: #D2E3FC;\n",
              "    }\n",
              "\n",
              "    [theme=dark] .colab-df-convert:hover {\n",
              "      background-color: #434B5C;\n",
              "      box-shadow: 0px 1px 3px 1px rgba(0, 0, 0, 0.15);\n",
              "      filter: drop-shadow(0px 1px 2px rgba(0, 0, 0, 0.3));\n",
              "      fill: #FFFFFF;\n",
              "    }\n",
              "  </style>\n",
              "\n",
              "      <script>\n",
              "        const buttonEl =\n",
              "          document.querySelector('#df-004213d0-e76e-4098-991e-bcad8e6c4161 button.colab-df-convert');\n",
              "        buttonEl.style.display =\n",
              "          google.colab.kernel.accessAllowed ? 'block' : 'none';\n",
              "\n",
              "        async function convertToInteractive(key) {\n",
              "          const element = document.querySelector('#df-004213d0-e76e-4098-991e-bcad8e6c4161');\n",
              "          const dataTable =\n",
              "            await google.colab.kernel.invokeFunction('convertToInteractive',\n",
              "                                                     [key], {});\n",
              "          if (!dataTable) return;\n",
              "\n",
              "          const docLinkHtml = 'Like what you see? Visit the ' +\n",
              "            '<a target=\"_blank\" href=https://colab.research.google.com/notebooks/data_table.ipynb>data table notebook</a>'\n",
              "            + ' to learn more about interactive tables.';\n",
              "          element.innerHTML = '';\n",
              "          dataTable['output_type'] = 'display_data';\n",
              "          await google.colab.output.renderOutput(dataTable, element);\n",
              "          const docLink = document.createElement('div');\n",
              "          docLink.innerHTML = docLinkHtml;\n",
              "          element.appendChild(docLink);\n",
              "        }\n",
              "      </script>\n",
              "    </div>\n",
              "  </div>\n",
              "  "
            ]
          },
          "metadata": {},
          "execution_count": 25
        }
      ]
    },
    {
      "cell_type": "code",
      "source": [
        "# Busca de registro com dados similares para imputação de valor\n",
        "df[(df['Comprimento'] == 176.80) & (df['Largura'] == 64.80) & (df['Altura'] == 54.30)]"
      ],
      "metadata": {
        "colab": {
          "base_uri": "https://localhost:8080/",
          "height": 0
        },
        "id": "XbRfBx5n-eeX",
        "outputId": "a3b2f9db-8ac9-42a4-bc68-d56e0591cd4f"
      },
      "execution_count": 26,
      "outputs": [
        {
          "output_type": "execute_result",
          "data": {
            "text/plain": [
              "    Fabricante Combustível  Portas Estilo Chassis    Tração  Comprimento  \\\n",
              "10         bmw         gas     2.0          sedan  traseira        176.8   \n",
              "11         bmw         gas     4.0          sedan  traseira        176.8   \n",
              "12         bmw         gas     2.0          sedan  traseira        176.8   \n",
              "203        NaN         gas     4.0          sedan  traseira        176.8   \n",
              "\n",
              "     Largura  Altura Tipo de motor Número de cilindros Tamanho do motor  \\\n",
              "10      64.8    54.3           ohc                   4           108,00   \n",
              "11      64.8    54.3           ohc                   4           108,00   \n",
              "12      64.8    54.3           ohc                   6           164,00   \n",
              "203     64.8    54.3           ohc                   6           164,00   \n",
              "\n",
              "    Tipo de injeção Potência (HP) Pico RPM     Preço  \n",
              "10             mpfi        101,00   580000  16430,00  \n",
              "11             mpfi        101,00   580000  16925,00  \n",
              "12             mpfi        121,00  4250,00  20970,00  \n",
              "203            mpfi        121,00  4250,00  21105,00  "
            ],
            "text/html": [
              "\n",
              "  <div id=\"df-28a24ce5-c0ad-4a35-8553-5f90d4f87b8e\">\n",
              "    <div class=\"colab-df-container\">\n",
              "      <div>\n",
              "<style scoped>\n",
              "    .dataframe tbody tr th:only-of-type {\n",
              "        vertical-align: middle;\n",
              "    }\n",
              "\n",
              "    .dataframe tbody tr th {\n",
              "        vertical-align: top;\n",
              "    }\n",
              "\n",
              "    .dataframe thead th {\n",
              "        text-align: right;\n",
              "    }\n",
              "</style>\n",
              "<table border=\"1\" class=\"dataframe\">\n",
              "  <thead>\n",
              "    <tr style=\"text-align: right;\">\n",
              "      <th></th>\n",
              "      <th>Fabricante</th>\n",
              "      <th>Combustível</th>\n",
              "      <th>Portas</th>\n",
              "      <th>Estilo Chassis</th>\n",
              "      <th>Tração</th>\n",
              "      <th>Comprimento</th>\n",
              "      <th>Largura</th>\n",
              "      <th>Altura</th>\n",
              "      <th>Tipo de motor</th>\n",
              "      <th>Número de cilindros</th>\n",
              "      <th>Tamanho do motor</th>\n",
              "      <th>Tipo de injeção</th>\n",
              "      <th>Potência (HP)</th>\n",
              "      <th>Pico RPM</th>\n",
              "      <th>Preço</th>\n",
              "    </tr>\n",
              "  </thead>\n",
              "  <tbody>\n",
              "    <tr>\n",
              "      <th>10</th>\n",
              "      <td>bmw</td>\n",
              "      <td>gas</td>\n",
              "      <td>2.0</td>\n",
              "      <td>sedan</td>\n",
              "      <td>traseira</td>\n",
              "      <td>176.8</td>\n",
              "      <td>64.8</td>\n",
              "      <td>54.3</td>\n",
              "      <td>ohc</td>\n",
              "      <td>4</td>\n",
              "      <td>108,00</td>\n",
              "      <td>mpfi</td>\n",
              "      <td>101,00</td>\n",
              "      <td>580000</td>\n",
              "      <td>16430,00</td>\n",
              "    </tr>\n",
              "    <tr>\n",
              "      <th>11</th>\n",
              "      <td>bmw</td>\n",
              "      <td>gas</td>\n",
              "      <td>4.0</td>\n",
              "      <td>sedan</td>\n",
              "      <td>traseira</td>\n",
              "      <td>176.8</td>\n",
              "      <td>64.8</td>\n",
              "      <td>54.3</td>\n",
              "      <td>ohc</td>\n",
              "      <td>4</td>\n",
              "      <td>108,00</td>\n",
              "      <td>mpfi</td>\n",
              "      <td>101,00</td>\n",
              "      <td>580000</td>\n",
              "      <td>16925,00</td>\n",
              "    </tr>\n",
              "    <tr>\n",
              "      <th>12</th>\n",
              "      <td>bmw</td>\n",
              "      <td>gas</td>\n",
              "      <td>2.0</td>\n",
              "      <td>sedan</td>\n",
              "      <td>traseira</td>\n",
              "      <td>176.8</td>\n",
              "      <td>64.8</td>\n",
              "      <td>54.3</td>\n",
              "      <td>ohc</td>\n",
              "      <td>6</td>\n",
              "      <td>164,00</td>\n",
              "      <td>mpfi</td>\n",
              "      <td>121,00</td>\n",
              "      <td>4250,00</td>\n",
              "      <td>20970,00</td>\n",
              "    </tr>\n",
              "    <tr>\n",
              "      <th>203</th>\n",
              "      <td>NaN</td>\n",
              "      <td>gas</td>\n",
              "      <td>4.0</td>\n",
              "      <td>sedan</td>\n",
              "      <td>traseira</td>\n",
              "      <td>176.8</td>\n",
              "      <td>64.8</td>\n",
              "      <td>54.3</td>\n",
              "      <td>ohc</td>\n",
              "      <td>6</td>\n",
              "      <td>164,00</td>\n",
              "      <td>mpfi</td>\n",
              "      <td>121,00</td>\n",
              "      <td>4250,00</td>\n",
              "      <td>21105,00</td>\n",
              "    </tr>\n",
              "  </tbody>\n",
              "</table>\n",
              "</div>\n",
              "      <button class=\"colab-df-convert\" onclick=\"convertToInteractive('df-28a24ce5-c0ad-4a35-8553-5f90d4f87b8e')\"\n",
              "              title=\"Convert this dataframe to an interactive table.\"\n",
              "              style=\"display:none;\">\n",
              "        \n",
              "  <svg xmlns=\"http://www.w3.org/2000/svg\" height=\"24px\"viewBox=\"0 0 24 24\"\n",
              "       width=\"24px\">\n",
              "    <path d=\"M0 0h24v24H0V0z\" fill=\"none\"/>\n",
              "    <path d=\"M18.56 5.44l.94 2.06.94-2.06 2.06-.94-2.06-.94-.94-2.06-.94 2.06-2.06.94zm-11 1L8.5 8.5l.94-2.06 2.06-.94-2.06-.94L8.5 2.5l-.94 2.06-2.06.94zm10 10l.94 2.06.94-2.06 2.06-.94-2.06-.94-.94-2.06-.94 2.06-2.06.94z\"/><path d=\"M17.41 7.96l-1.37-1.37c-.4-.4-.92-.59-1.43-.59-.52 0-1.04.2-1.43.59L10.3 9.45l-7.72 7.72c-.78.78-.78 2.05 0 2.83L4 21.41c.39.39.9.59 1.41.59.51 0 1.02-.2 1.41-.59l7.78-7.78 2.81-2.81c.8-.78.8-2.07 0-2.86zM5.41 20L4 18.59l7.72-7.72 1.47 1.35L5.41 20z\"/>\n",
              "  </svg>\n",
              "      </button>\n",
              "      \n",
              "  <style>\n",
              "    .colab-df-container {\n",
              "      display:flex;\n",
              "      flex-wrap:wrap;\n",
              "      gap: 12px;\n",
              "    }\n",
              "\n",
              "    .colab-df-convert {\n",
              "      background-color: #E8F0FE;\n",
              "      border: none;\n",
              "      border-radius: 50%;\n",
              "      cursor: pointer;\n",
              "      display: none;\n",
              "      fill: #1967D2;\n",
              "      height: 32px;\n",
              "      padding: 0 0 0 0;\n",
              "      width: 32px;\n",
              "    }\n",
              "\n",
              "    .colab-df-convert:hover {\n",
              "      background-color: #E2EBFA;\n",
              "      box-shadow: 0px 1px 2px rgba(60, 64, 67, 0.3), 0px 1px 3px 1px rgba(60, 64, 67, 0.15);\n",
              "      fill: #174EA6;\n",
              "    }\n",
              "\n",
              "    [theme=dark] .colab-df-convert {\n",
              "      background-color: #3B4455;\n",
              "      fill: #D2E3FC;\n",
              "    }\n",
              "\n",
              "    [theme=dark] .colab-df-convert:hover {\n",
              "      background-color: #434B5C;\n",
              "      box-shadow: 0px 1px 3px 1px rgba(0, 0, 0, 0.15);\n",
              "      filter: drop-shadow(0px 1px 2px rgba(0, 0, 0, 0.3));\n",
              "      fill: #FFFFFF;\n",
              "    }\n",
              "  </style>\n",
              "\n",
              "      <script>\n",
              "        const buttonEl =\n",
              "          document.querySelector('#df-28a24ce5-c0ad-4a35-8553-5f90d4f87b8e button.colab-df-convert');\n",
              "        buttonEl.style.display =\n",
              "          google.colab.kernel.accessAllowed ? 'block' : 'none';\n",
              "\n",
              "        async function convertToInteractive(key) {\n",
              "          const element = document.querySelector('#df-28a24ce5-c0ad-4a35-8553-5f90d4f87b8e');\n",
              "          const dataTable =\n",
              "            await google.colab.kernel.invokeFunction('convertToInteractive',\n",
              "                                                     [key], {});\n",
              "          if (!dataTable) return;\n",
              "\n",
              "          const docLinkHtml = 'Like what you see? Visit the ' +\n",
              "            '<a target=\"_blank\" href=https://colab.research.google.com/notebooks/data_table.ipynb>data table notebook</a>'\n",
              "            + ' to learn more about interactive tables.';\n",
              "          element.innerHTML = '';\n",
              "          dataTable['output_type'] = 'display_data';\n",
              "          await google.colab.output.renderOutput(dataTable, element);\n",
              "          const docLink = document.createElement('div');\n",
              "          docLink.innerHTML = docLinkHtml;\n",
              "          element.appendChild(docLink);\n",
              "        }\n",
              "      </script>\n",
              "    </div>\n",
              "  </div>\n",
              "  "
            ]
          },
          "metadata": {},
          "execution_count": 26
        }
      ]
    },
    {
      "cell_type": "code",
      "source": [
        "# Imputação de valor\n",
        "df.iloc[203, 0] = 'bmw'"
      ],
      "metadata": {
        "id": "jJqFJY2gEWQV"
      },
      "execution_count": 27,
      "outputs": []
    },
    {
      "cell_type": "code",
      "source": [
        "# Busca de registro com dados similares para imputação de valor\n",
        "df[(df['Comprimento'] == 169.00) & (df['Largura'] == 65.70) & (df['Altura'] == 49.60)]"
      ],
      "metadata": {
        "colab": {
          "base_uri": "https://localhost:8080/",
          "height": 0
        },
        "id": "UmBZ7OyZD4iq",
        "outputId": "97751b74-dc2d-4c63-820f-336f6dde564b"
      },
      "execution_count": 28,
      "outputs": [
        {
          "output_type": "execute_result",
          "data": {
            "text/plain": [
              "    Fabricante Combustível  Portas Estilo Chassis    Tração  Comprimento  \\\n",
              "54       mazda         gas     2.0          hatch  traseira        169.0   \n",
              "55       mazda         gas     2.0          hatch  traseira        169.0   \n",
              "56       mazda         gas     2.0          hatch  traseira        169.0   \n",
              "204        NaN         gas     2.0          hatch  traseira        169.0   \n",
              "\n",
              "     Largura  Altura Tipo de motor Número de cilindros Tamanho do motor  \\\n",
              "54      65.7    49.6         rotor                   2            70,00   \n",
              "55      65.7    49.6         rotor                   2            70,00   \n",
              "56      65.7    49.6         rotor                   2            80,00   \n",
              "204     65.7    49.6         rotor                   2            70,00   \n",
              "\n",
              "    Tipo de injeção Potência (HP) Pico RPM     Preço  \n",
              "54             4bbl        101,00  6000,00  11845,00  \n",
              "55             4bbl        101,00  6000,00  13645,00  \n",
              "56             mpfi        135,00  6000,00  15645,00  \n",
              "204            4bbl        101,00  6000,00  10945,00  "
            ],
            "text/html": [
              "\n",
              "  <div id=\"df-797050de-d8c9-4eb2-beab-fcfca9445695\">\n",
              "    <div class=\"colab-df-container\">\n",
              "      <div>\n",
              "<style scoped>\n",
              "    .dataframe tbody tr th:only-of-type {\n",
              "        vertical-align: middle;\n",
              "    }\n",
              "\n",
              "    .dataframe tbody tr th {\n",
              "        vertical-align: top;\n",
              "    }\n",
              "\n",
              "    .dataframe thead th {\n",
              "        text-align: right;\n",
              "    }\n",
              "</style>\n",
              "<table border=\"1\" class=\"dataframe\">\n",
              "  <thead>\n",
              "    <tr style=\"text-align: right;\">\n",
              "      <th></th>\n",
              "      <th>Fabricante</th>\n",
              "      <th>Combustível</th>\n",
              "      <th>Portas</th>\n",
              "      <th>Estilo Chassis</th>\n",
              "      <th>Tração</th>\n",
              "      <th>Comprimento</th>\n",
              "      <th>Largura</th>\n",
              "      <th>Altura</th>\n",
              "      <th>Tipo de motor</th>\n",
              "      <th>Número de cilindros</th>\n",
              "      <th>Tamanho do motor</th>\n",
              "      <th>Tipo de injeção</th>\n",
              "      <th>Potência (HP)</th>\n",
              "      <th>Pico RPM</th>\n",
              "      <th>Preço</th>\n",
              "    </tr>\n",
              "  </thead>\n",
              "  <tbody>\n",
              "    <tr>\n",
              "      <th>54</th>\n",
              "      <td>mazda</td>\n",
              "      <td>gas</td>\n",
              "      <td>2.0</td>\n",
              "      <td>hatch</td>\n",
              "      <td>traseira</td>\n",
              "      <td>169.0</td>\n",
              "      <td>65.7</td>\n",
              "      <td>49.6</td>\n",
              "      <td>rotor</td>\n",
              "      <td>2</td>\n",
              "      <td>70,00</td>\n",
              "      <td>4bbl</td>\n",
              "      <td>101,00</td>\n",
              "      <td>6000,00</td>\n",
              "      <td>11845,00</td>\n",
              "    </tr>\n",
              "    <tr>\n",
              "      <th>55</th>\n",
              "      <td>mazda</td>\n",
              "      <td>gas</td>\n",
              "      <td>2.0</td>\n",
              "      <td>hatch</td>\n",
              "      <td>traseira</td>\n",
              "      <td>169.0</td>\n",
              "      <td>65.7</td>\n",
              "      <td>49.6</td>\n",
              "      <td>rotor</td>\n",
              "      <td>2</td>\n",
              "      <td>70,00</td>\n",
              "      <td>4bbl</td>\n",
              "      <td>101,00</td>\n",
              "      <td>6000,00</td>\n",
              "      <td>13645,00</td>\n",
              "    </tr>\n",
              "    <tr>\n",
              "      <th>56</th>\n",
              "      <td>mazda</td>\n",
              "      <td>gas</td>\n",
              "      <td>2.0</td>\n",
              "      <td>hatch</td>\n",
              "      <td>traseira</td>\n",
              "      <td>169.0</td>\n",
              "      <td>65.7</td>\n",
              "      <td>49.6</td>\n",
              "      <td>rotor</td>\n",
              "      <td>2</td>\n",
              "      <td>80,00</td>\n",
              "      <td>mpfi</td>\n",
              "      <td>135,00</td>\n",
              "      <td>6000,00</td>\n",
              "      <td>15645,00</td>\n",
              "    </tr>\n",
              "    <tr>\n",
              "      <th>204</th>\n",
              "      <td>NaN</td>\n",
              "      <td>gas</td>\n",
              "      <td>2.0</td>\n",
              "      <td>hatch</td>\n",
              "      <td>traseira</td>\n",
              "      <td>169.0</td>\n",
              "      <td>65.7</td>\n",
              "      <td>49.6</td>\n",
              "      <td>rotor</td>\n",
              "      <td>2</td>\n",
              "      <td>70,00</td>\n",
              "      <td>4bbl</td>\n",
              "      <td>101,00</td>\n",
              "      <td>6000,00</td>\n",
              "      <td>10945,00</td>\n",
              "    </tr>\n",
              "  </tbody>\n",
              "</table>\n",
              "</div>\n",
              "      <button class=\"colab-df-convert\" onclick=\"convertToInteractive('df-797050de-d8c9-4eb2-beab-fcfca9445695')\"\n",
              "              title=\"Convert this dataframe to an interactive table.\"\n",
              "              style=\"display:none;\">\n",
              "        \n",
              "  <svg xmlns=\"http://www.w3.org/2000/svg\" height=\"24px\"viewBox=\"0 0 24 24\"\n",
              "       width=\"24px\">\n",
              "    <path d=\"M0 0h24v24H0V0z\" fill=\"none\"/>\n",
              "    <path d=\"M18.56 5.44l.94 2.06.94-2.06 2.06-.94-2.06-.94-.94-2.06-.94 2.06-2.06.94zm-11 1L8.5 8.5l.94-2.06 2.06-.94-2.06-.94L8.5 2.5l-.94 2.06-2.06.94zm10 10l.94 2.06.94-2.06 2.06-.94-2.06-.94-.94-2.06-.94 2.06-2.06.94z\"/><path d=\"M17.41 7.96l-1.37-1.37c-.4-.4-.92-.59-1.43-.59-.52 0-1.04.2-1.43.59L10.3 9.45l-7.72 7.72c-.78.78-.78 2.05 0 2.83L4 21.41c.39.39.9.59 1.41.59.51 0 1.02-.2 1.41-.59l7.78-7.78 2.81-2.81c.8-.78.8-2.07 0-2.86zM5.41 20L4 18.59l7.72-7.72 1.47 1.35L5.41 20z\"/>\n",
              "  </svg>\n",
              "      </button>\n",
              "      \n",
              "  <style>\n",
              "    .colab-df-container {\n",
              "      display:flex;\n",
              "      flex-wrap:wrap;\n",
              "      gap: 12px;\n",
              "    }\n",
              "\n",
              "    .colab-df-convert {\n",
              "      background-color: #E8F0FE;\n",
              "      border: none;\n",
              "      border-radius: 50%;\n",
              "      cursor: pointer;\n",
              "      display: none;\n",
              "      fill: #1967D2;\n",
              "      height: 32px;\n",
              "      padding: 0 0 0 0;\n",
              "      width: 32px;\n",
              "    }\n",
              "\n",
              "    .colab-df-convert:hover {\n",
              "      background-color: #E2EBFA;\n",
              "      box-shadow: 0px 1px 2px rgba(60, 64, 67, 0.3), 0px 1px 3px 1px rgba(60, 64, 67, 0.15);\n",
              "      fill: #174EA6;\n",
              "    }\n",
              "\n",
              "    [theme=dark] .colab-df-convert {\n",
              "      background-color: #3B4455;\n",
              "      fill: #D2E3FC;\n",
              "    }\n",
              "\n",
              "    [theme=dark] .colab-df-convert:hover {\n",
              "      background-color: #434B5C;\n",
              "      box-shadow: 0px 1px 3px 1px rgba(0, 0, 0, 0.15);\n",
              "      filter: drop-shadow(0px 1px 2px rgba(0, 0, 0, 0.3));\n",
              "      fill: #FFFFFF;\n",
              "    }\n",
              "  </style>\n",
              "\n",
              "      <script>\n",
              "        const buttonEl =\n",
              "          document.querySelector('#df-797050de-d8c9-4eb2-beab-fcfca9445695 button.colab-df-convert');\n",
              "        buttonEl.style.display =\n",
              "          google.colab.kernel.accessAllowed ? 'block' : 'none';\n",
              "\n",
              "        async function convertToInteractive(key) {\n",
              "          const element = document.querySelector('#df-797050de-d8c9-4eb2-beab-fcfca9445695');\n",
              "          const dataTable =\n",
              "            await google.colab.kernel.invokeFunction('convertToInteractive',\n",
              "                                                     [key], {});\n",
              "          if (!dataTable) return;\n",
              "\n",
              "          const docLinkHtml = 'Like what you see? Visit the ' +\n",
              "            '<a target=\"_blank\" href=https://colab.research.google.com/notebooks/data_table.ipynb>data table notebook</a>'\n",
              "            + ' to learn more about interactive tables.';\n",
              "          element.innerHTML = '';\n",
              "          dataTable['output_type'] = 'display_data';\n",
              "          await google.colab.output.renderOutput(dataTable, element);\n",
              "          const docLink = document.createElement('div');\n",
              "          docLink.innerHTML = docLinkHtml;\n",
              "          element.appendChild(docLink);\n",
              "        }\n",
              "      </script>\n",
              "    </div>\n",
              "  </div>\n",
              "  "
            ]
          },
          "metadata": {},
          "execution_count": 28
        }
      ]
    },
    {
      "cell_type": "code",
      "source": [
        "# Imputação de valor\n",
        "df.loc[204, 'Fabricante'] = 'mazda'"
      ],
      "metadata": {
        "id": "9H3V2sGaEK-O"
      },
      "execution_count": 29,
      "outputs": []
    },
    {
      "cell_type": "code",
      "source": [
        "# Verificação dos dados\n",
        "df['Fabricante'].unique()"
      ],
      "metadata": {
        "colab": {
          "base_uri": "https://localhost:8080/"
        },
        "id": "XLZxfxmkVwfg",
        "outputId": "f57b0b67-d238-4ca9-f4ab-c35ab2afb50b"
      },
      "execution_count": 30,
      "outputs": [
        {
          "output_type": "execute_result",
          "data": {
            "text/plain": [
              "array(['alfa-romeo', 'audi', 'bmw', 'chevrolet', 'dodge', 'honda',\n",
              "       'isuzu', 'jaguar', 'mazda', 'mercedes-benz', 'mercury',\n",
              "       'mitsubishi', 'nissan', 'peugot', 'plymouth', 'porsche', 'renault',\n",
              "       'saab', 'subaru', 'toyota', 'volkswagen', 'volvo'], dtype=object)"
            ]
          },
          "metadata": {},
          "execution_count": 30
        }
      ]
    },
    {
      "cell_type": "markdown",
      "source": [
        "## Campo Combustível"
      ],
      "metadata": {
        "id": "pom0n3r1EelA"
      }
    },
    {
      "cell_type": "markdown",
      "source": [
        "- Com dados omissos\n",
        "- Realizada a busca de registros com dados similares (exceto valor) para imputação de valores:\n",
        "  - Registros 117, 118 e 119: não foi encontrado registro com os mesmos dados, mas 'gas' é o valor mais provável\n",
        "  - Registro 125: foi encontrado registro com os mesmos dados, sendo 'gas' o valor mais provável\n",
        "  - Registros 139: não foi encontrado registro com os mesmos dados, mas 'gas' é o valor mais provável"
      ],
      "metadata": {
        "id": "6Z8ERR3GVFH7"
      }
    },
    {
      "cell_type": "code",
      "source": [
        "# Verificação dos dados\n",
        "df['Combustível'].unique()"
      ],
      "metadata": {
        "colab": {
          "base_uri": "https://localhost:8080/"
        },
        "id": "gwc8yH8EEdnt",
        "outputId": "cf81fd21-ff34-4acd-d77b-043b69ee9cab"
      },
      "execution_count": 31,
      "outputs": [
        {
          "output_type": "execute_result",
          "data": {
            "text/plain": [
              "array(['gas', 'diesel', nan], dtype=object)"
            ]
          },
          "metadata": {},
          "execution_count": 31
        }
      ]
    },
    {
      "cell_type": "code",
      "source": [
        "# Visualização dos dados faltantes\n",
        "df[df['Combustível'].isnull()]"
      ],
      "metadata": {
        "colab": {
          "base_uri": "https://localhost:8080/",
          "height": 0
        },
        "id": "Cnhp0I2oFf6e",
        "outputId": "f6273f01-109d-47b7-f0db-5f9527276fa1"
      },
      "execution_count": 32,
      "outputs": [
        {
          "output_type": "execute_result",
          "data": {
            "text/plain": [
              "    Fabricante Combustível  Portas Estilo Chassis     Tração  Comprimento  \\\n",
              "117   plymouth         NaN     2.0          hatch  dianteira        157.3   \n",
              "118   plymouth         NaN     4.0          hatch  dianteira        157.3   \n",
              "119   plymouth         NaN     4.0          sedan  dianteira        167.3   \n",
              "125    porsche         NaN     2.0        hardtop   traseira        168.9   \n",
              "139     subaru         NaN     4.0          sedan  dianteira        172.0   \n",
              "\n",
              "     Largura  Altura Tipo de motor Número de cilindros Tamanho do motor  \\\n",
              "117     63.8    50.8           ohc                   4            98,00   \n",
              "118     63.8    50.6           ohc                   4            90,00   \n",
              "119     63.8    50.8           ohc                   4            90,00   \n",
              "125     65.0    51.6          ohcf                   6           194,00   \n",
              "139     65.4    52.5          ohcf                   4           108,00   \n",
              "\n",
              "    Tipo de injeção Potência (HP) Pico RPM     Preço  \n",
              "117            spdi        102,00  5500,00   7957,00  \n",
              "118            2bbl         68,00  5500,00   6229,00  \n",
              "119            2bbl         68,00  5500,00   6692,00  \n",
              "125            mpfi        207,00  5900,00  34028,00  \n",
              "139            2bbl         82,00  4800,00   7126,00  "
            ],
            "text/html": [
              "\n",
              "  <div id=\"df-a07b0b2e-2838-4b65-8e45-c298f64a8bd6\">\n",
              "    <div class=\"colab-df-container\">\n",
              "      <div>\n",
              "<style scoped>\n",
              "    .dataframe tbody tr th:only-of-type {\n",
              "        vertical-align: middle;\n",
              "    }\n",
              "\n",
              "    .dataframe tbody tr th {\n",
              "        vertical-align: top;\n",
              "    }\n",
              "\n",
              "    .dataframe thead th {\n",
              "        text-align: right;\n",
              "    }\n",
              "</style>\n",
              "<table border=\"1\" class=\"dataframe\">\n",
              "  <thead>\n",
              "    <tr style=\"text-align: right;\">\n",
              "      <th></th>\n",
              "      <th>Fabricante</th>\n",
              "      <th>Combustível</th>\n",
              "      <th>Portas</th>\n",
              "      <th>Estilo Chassis</th>\n",
              "      <th>Tração</th>\n",
              "      <th>Comprimento</th>\n",
              "      <th>Largura</th>\n",
              "      <th>Altura</th>\n",
              "      <th>Tipo de motor</th>\n",
              "      <th>Número de cilindros</th>\n",
              "      <th>Tamanho do motor</th>\n",
              "      <th>Tipo de injeção</th>\n",
              "      <th>Potência (HP)</th>\n",
              "      <th>Pico RPM</th>\n",
              "      <th>Preço</th>\n",
              "    </tr>\n",
              "  </thead>\n",
              "  <tbody>\n",
              "    <tr>\n",
              "      <th>117</th>\n",
              "      <td>plymouth</td>\n",
              "      <td>NaN</td>\n",
              "      <td>2.0</td>\n",
              "      <td>hatch</td>\n",
              "      <td>dianteira</td>\n",
              "      <td>157.3</td>\n",
              "      <td>63.8</td>\n",
              "      <td>50.8</td>\n",
              "      <td>ohc</td>\n",
              "      <td>4</td>\n",
              "      <td>98,00</td>\n",
              "      <td>spdi</td>\n",
              "      <td>102,00</td>\n",
              "      <td>5500,00</td>\n",
              "      <td>7957,00</td>\n",
              "    </tr>\n",
              "    <tr>\n",
              "      <th>118</th>\n",
              "      <td>plymouth</td>\n",
              "      <td>NaN</td>\n",
              "      <td>4.0</td>\n",
              "      <td>hatch</td>\n",
              "      <td>dianteira</td>\n",
              "      <td>157.3</td>\n",
              "      <td>63.8</td>\n",
              "      <td>50.6</td>\n",
              "      <td>ohc</td>\n",
              "      <td>4</td>\n",
              "      <td>90,00</td>\n",
              "      <td>2bbl</td>\n",
              "      <td>68,00</td>\n",
              "      <td>5500,00</td>\n",
              "      <td>6229,00</td>\n",
              "    </tr>\n",
              "    <tr>\n",
              "      <th>119</th>\n",
              "      <td>plymouth</td>\n",
              "      <td>NaN</td>\n",
              "      <td>4.0</td>\n",
              "      <td>sedan</td>\n",
              "      <td>dianteira</td>\n",
              "      <td>167.3</td>\n",
              "      <td>63.8</td>\n",
              "      <td>50.8</td>\n",
              "      <td>ohc</td>\n",
              "      <td>4</td>\n",
              "      <td>90,00</td>\n",
              "      <td>2bbl</td>\n",
              "      <td>68,00</td>\n",
              "      <td>5500,00</td>\n",
              "      <td>6692,00</td>\n",
              "    </tr>\n",
              "    <tr>\n",
              "      <th>125</th>\n",
              "      <td>porsche</td>\n",
              "      <td>NaN</td>\n",
              "      <td>2.0</td>\n",
              "      <td>hardtop</td>\n",
              "      <td>traseira</td>\n",
              "      <td>168.9</td>\n",
              "      <td>65.0</td>\n",
              "      <td>51.6</td>\n",
              "      <td>ohcf</td>\n",
              "      <td>6</td>\n",
              "      <td>194,00</td>\n",
              "      <td>mpfi</td>\n",
              "      <td>207,00</td>\n",
              "      <td>5900,00</td>\n",
              "      <td>34028,00</td>\n",
              "    </tr>\n",
              "    <tr>\n",
              "      <th>139</th>\n",
              "      <td>subaru</td>\n",
              "      <td>NaN</td>\n",
              "      <td>4.0</td>\n",
              "      <td>sedan</td>\n",
              "      <td>dianteira</td>\n",
              "      <td>172.0</td>\n",
              "      <td>65.4</td>\n",
              "      <td>52.5</td>\n",
              "      <td>ohcf</td>\n",
              "      <td>4</td>\n",
              "      <td>108,00</td>\n",
              "      <td>2bbl</td>\n",
              "      <td>82,00</td>\n",
              "      <td>4800,00</td>\n",
              "      <td>7126,00</td>\n",
              "    </tr>\n",
              "  </tbody>\n",
              "</table>\n",
              "</div>\n",
              "      <button class=\"colab-df-convert\" onclick=\"convertToInteractive('df-a07b0b2e-2838-4b65-8e45-c298f64a8bd6')\"\n",
              "              title=\"Convert this dataframe to an interactive table.\"\n",
              "              style=\"display:none;\">\n",
              "        \n",
              "  <svg xmlns=\"http://www.w3.org/2000/svg\" height=\"24px\"viewBox=\"0 0 24 24\"\n",
              "       width=\"24px\">\n",
              "    <path d=\"M0 0h24v24H0V0z\" fill=\"none\"/>\n",
              "    <path d=\"M18.56 5.44l.94 2.06.94-2.06 2.06-.94-2.06-.94-.94-2.06-.94 2.06-2.06.94zm-11 1L8.5 8.5l.94-2.06 2.06-.94-2.06-.94L8.5 2.5l-.94 2.06-2.06.94zm10 10l.94 2.06.94-2.06 2.06-.94-2.06-.94-.94-2.06-.94 2.06-2.06.94z\"/><path d=\"M17.41 7.96l-1.37-1.37c-.4-.4-.92-.59-1.43-.59-.52 0-1.04.2-1.43.59L10.3 9.45l-7.72 7.72c-.78.78-.78 2.05 0 2.83L4 21.41c.39.39.9.59 1.41.59.51 0 1.02-.2 1.41-.59l7.78-7.78 2.81-2.81c.8-.78.8-2.07 0-2.86zM5.41 20L4 18.59l7.72-7.72 1.47 1.35L5.41 20z\"/>\n",
              "  </svg>\n",
              "      </button>\n",
              "      \n",
              "  <style>\n",
              "    .colab-df-container {\n",
              "      display:flex;\n",
              "      flex-wrap:wrap;\n",
              "      gap: 12px;\n",
              "    }\n",
              "\n",
              "    .colab-df-convert {\n",
              "      background-color: #E8F0FE;\n",
              "      border: none;\n",
              "      border-radius: 50%;\n",
              "      cursor: pointer;\n",
              "      display: none;\n",
              "      fill: #1967D2;\n",
              "      height: 32px;\n",
              "      padding: 0 0 0 0;\n",
              "      width: 32px;\n",
              "    }\n",
              "\n",
              "    .colab-df-convert:hover {\n",
              "      background-color: #E2EBFA;\n",
              "      box-shadow: 0px 1px 2px rgba(60, 64, 67, 0.3), 0px 1px 3px 1px rgba(60, 64, 67, 0.15);\n",
              "      fill: #174EA6;\n",
              "    }\n",
              "\n",
              "    [theme=dark] .colab-df-convert {\n",
              "      background-color: #3B4455;\n",
              "      fill: #D2E3FC;\n",
              "    }\n",
              "\n",
              "    [theme=dark] .colab-df-convert:hover {\n",
              "      background-color: #434B5C;\n",
              "      box-shadow: 0px 1px 3px 1px rgba(0, 0, 0, 0.15);\n",
              "      filter: drop-shadow(0px 1px 2px rgba(0, 0, 0, 0.3));\n",
              "      fill: #FFFFFF;\n",
              "    }\n",
              "  </style>\n",
              "\n",
              "      <script>\n",
              "        const buttonEl =\n",
              "          document.querySelector('#df-a07b0b2e-2838-4b65-8e45-c298f64a8bd6 button.colab-df-convert');\n",
              "        buttonEl.style.display =\n",
              "          google.colab.kernel.accessAllowed ? 'block' : 'none';\n",
              "\n",
              "        async function convertToInteractive(key) {\n",
              "          const element = document.querySelector('#df-a07b0b2e-2838-4b65-8e45-c298f64a8bd6');\n",
              "          const dataTable =\n",
              "            await google.colab.kernel.invokeFunction('convertToInteractive',\n",
              "                                                     [key], {});\n",
              "          if (!dataTable) return;\n",
              "\n",
              "          const docLinkHtml = 'Like what you see? Visit the ' +\n",
              "            '<a target=\"_blank\" href=https://colab.research.google.com/notebooks/data_table.ipynb>data table notebook</a>'\n",
              "            + ' to learn more about interactive tables.';\n",
              "          element.innerHTML = '';\n",
              "          dataTable['output_type'] = 'display_data';\n",
              "          await google.colab.output.renderOutput(dataTable, element);\n",
              "          const docLink = document.createElement('div');\n",
              "          docLink.innerHTML = docLinkHtml;\n",
              "          element.appendChild(docLink);\n",
              "        }\n",
              "      </script>\n",
              "    </div>\n",
              "  </div>\n",
              "  "
            ]
          },
          "metadata": {},
          "execution_count": 32
        }
      ]
    },
    {
      "cell_type": "code",
      "source": [
        "# Busca de registro com dados similares para imputação de valor\n",
        "df[(df['Comprimento'] == 157.30) & (df['Largura'] == 63.80) & (df['Altura'] == 50.80)]"
      ],
      "metadata": {
        "colab": {
          "base_uri": "https://localhost:8080/",
          "height": 0
        },
        "id": "gHmh9TTEFlzt",
        "outputId": "92cbd78d-74e1-444b-e1da-ec67829eb534"
      },
      "execution_count": 33,
      "outputs": [
        {
          "output_type": "execute_result",
          "data": {
            "text/plain": [
              "     Fabricante Combustível  Portas Estilo Chassis     Tração  Comprimento  \\\n",
              "20        dodge         gas     2.0          hatch  dianteira        157.3   \n",
              "21        dodge         gas     2.0          hatch  dianteira        157.3   \n",
              "22        dodge         gas     2.0          hatch  dianteira        157.3   \n",
              "77   mitsubishi         gas     2.0          hatch  dianteira        157.3   \n",
              "116    plymouth         gas     2.0          hatch  dianteira        157.3   \n",
              "117    plymouth         NaN     2.0          hatch  dianteira        157.3   \n",
              "\n",
              "     Largura  Altura Tipo de motor Número de cilindros Tamanho do motor  \\\n",
              "20      63.8    50.8           ohc                   4            90,00   \n",
              "21      63.8    50.8           ohc                   4            90,00   \n",
              "22      63.8    50.8           ohc                   4            98,00   \n",
              "77      63.8    50.8           ohc                   4            98,00   \n",
              "116     63.8    50.8           ohc                   4            90,00   \n",
              "117     63.8    50.8           ohc                   4            98,00   \n",
              "\n",
              "    Tipo de injeção Potência (HP) Pico RPM    Preço  \n",
              "20             2bbl         68,00  5500,00  5572,00  \n",
              "21             2bbl         68,00  5500,00  6377,00  \n",
              "22             mpfi        102,00  5500,00  7957,00  \n",
              "77             spdi        102,00  5500,00  7689,00  \n",
              "116            2bbl         68,00  5500,00  5572,00  \n",
              "117            spdi        102,00  5500,00  7957,00  "
            ],
            "text/html": [
              "\n",
              "  <div id=\"df-ebe40f87-3fdf-452d-9c5a-14a2cd1e2615\">\n",
              "    <div class=\"colab-df-container\">\n",
              "      <div>\n",
              "<style scoped>\n",
              "    .dataframe tbody tr th:only-of-type {\n",
              "        vertical-align: middle;\n",
              "    }\n",
              "\n",
              "    .dataframe tbody tr th {\n",
              "        vertical-align: top;\n",
              "    }\n",
              "\n",
              "    .dataframe thead th {\n",
              "        text-align: right;\n",
              "    }\n",
              "</style>\n",
              "<table border=\"1\" class=\"dataframe\">\n",
              "  <thead>\n",
              "    <tr style=\"text-align: right;\">\n",
              "      <th></th>\n",
              "      <th>Fabricante</th>\n",
              "      <th>Combustível</th>\n",
              "      <th>Portas</th>\n",
              "      <th>Estilo Chassis</th>\n",
              "      <th>Tração</th>\n",
              "      <th>Comprimento</th>\n",
              "      <th>Largura</th>\n",
              "      <th>Altura</th>\n",
              "      <th>Tipo de motor</th>\n",
              "      <th>Número de cilindros</th>\n",
              "      <th>Tamanho do motor</th>\n",
              "      <th>Tipo de injeção</th>\n",
              "      <th>Potência (HP)</th>\n",
              "      <th>Pico RPM</th>\n",
              "      <th>Preço</th>\n",
              "    </tr>\n",
              "  </thead>\n",
              "  <tbody>\n",
              "    <tr>\n",
              "      <th>20</th>\n",
              "      <td>dodge</td>\n",
              "      <td>gas</td>\n",
              "      <td>2.0</td>\n",
              "      <td>hatch</td>\n",
              "      <td>dianteira</td>\n",
              "      <td>157.3</td>\n",
              "      <td>63.8</td>\n",
              "      <td>50.8</td>\n",
              "      <td>ohc</td>\n",
              "      <td>4</td>\n",
              "      <td>90,00</td>\n",
              "      <td>2bbl</td>\n",
              "      <td>68,00</td>\n",
              "      <td>5500,00</td>\n",
              "      <td>5572,00</td>\n",
              "    </tr>\n",
              "    <tr>\n",
              "      <th>21</th>\n",
              "      <td>dodge</td>\n",
              "      <td>gas</td>\n",
              "      <td>2.0</td>\n",
              "      <td>hatch</td>\n",
              "      <td>dianteira</td>\n",
              "      <td>157.3</td>\n",
              "      <td>63.8</td>\n",
              "      <td>50.8</td>\n",
              "      <td>ohc</td>\n",
              "      <td>4</td>\n",
              "      <td>90,00</td>\n",
              "      <td>2bbl</td>\n",
              "      <td>68,00</td>\n",
              "      <td>5500,00</td>\n",
              "      <td>6377,00</td>\n",
              "    </tr>\n",
              "    <tr>\n",
              "      <th>22</th>\n",
              "      <td>dodge</td>\n",
              "      <td>gas</td>\n",
              "      <td>2.0</td>\n",
              "      <td>hatch</td>\n",
              "      <td>dianteira</td>\n",
              "      <td>157.3</td>\n",
              "      <td>63.8</td>\n",
              "      <td>50.8</td>\n",
              "      <td>ohc</td>\n",
              "      <td>4</td>\n",
              "      <td>98,00</td>\n",
              "      <td>mpfi</td>\n",
              "      <td>102,00</td>\n",
              "      <td>5500,00</td>\n",
              "      <td>7957,00</td>\n",
              "    </tr>\n",
              "    <tr>\n",
              "      <th>77</th>\n",
              "      <td>mitsubishi</td>\n",
              "      <td>gas</td>\n",
              "      <td>2.0</td>\n",
              "      <td>hatch</td>\n",
              "      <td>dianteira</td>\n",
              "      <td>157.3</td>\n",
              "      <td>63.8</td>\n",
              "      <td>50.8</td>\n",
              "      <td>ohc</td>\n",
              "      <td>4</td>\n",
              "      <td>98,00</td>\n",
              "      <td>spdi</td>\n",
              "      <td>102,00</td>\n",
              "      <td>5500,00</td>\n",
              "      <td>7689,00</td>\n",
              "    </tr>\n",
              "    <tr>\n",
              "      <th>116</th>\n",
              "      <td>plymouth</td>\n",
              "      <td>gas</td>\n",
              "      <td>2.0</td>\n",
              "      <td>hatch</td>\n",
              "      <td>dianteira</td>\n",
              "      <td>157.3</td>\n",
              "      <td>63.8</td>\n",
              "      <td>50.8</td>\n",
              "      <td>ohc</td>\n",
              "      <td>4</td>\n",
              "      <td>90,00</td>\n",
              "      <td>2bbl</td>\n",
              "      <td>68,00</td>\n",
              "      <td>5500,00</td>\n",
              "      <td>5572,00</td>\n",
              "    </tr>\n",
              "    <tr>\n",
              "      <th>117</th>\n",
              "      <td>plymouth</td>\n",
              "      <td>NaN</td>\n",
              "      <td>2.0</td>\n",
              "      <td>hatch</td>\n",
              "      <td>dianteira</td>\n",
              "      <td>157.3</td>\n",
              "      <td>63.8</td>\n",
              "      <td>50.8</td>\n",
              "      <td>ohc</td>\n",
              "      <td>4</td>\n",
              "      <td>98,00</td>\n",
              "      <td>spdi</td>\n",
              "      <td>102,00</td>\n",
              "      <td>5500,00</td>\n",
              "      <td>7957,00</td>\n",
              "    </tr>\n",
              "  </tbody>\n",
              "</table>\n",
              "</div>\n",
              "      <button class=\"colab-df-convert\" onclick=\"convertToInteractive('df-ebe40f87-3fdf-452d-9c5a-14a2cd1e2615')\"\n",
              "              title=\"Convert this dataframe to an interactive table.\"\n",
              "              style=\"display:none;\">\n",
              "        \n",
              "  <svg xmlns=\"http://www.w3.org/2000/svg\" height=\"24px\"viewBox=\"0 0 24 24\"\n",
              "       width=\"24px\">\n",
              "    <path d=\"M0 0h24v24H0V0z\" fill=\"none\"/>\n",
              "    <path d=\"M18.56 5.44l.94 2.06.94-2.06 2.06-.94-2.06-.94-.94-2.06-.94 2.06-2.06.94zm-11 1L8.5 8.5l.94-2.06 2.06-.94-2.06-.94L8.5 2.5l-.94 2.06-2.06.94zm10 10l.94 2.06.94-2.06 2.06-.94-2.06-.94-.94-2.06-.94 2.06-2.06.94z\"/><path d=\"M17.41 7.96l-1.37-1.37c-.4-.4-.92-.59-1.43-.59-.52 0-1.04.2-1.43.59L10.3 9.45l-7.72 7.72c-.78.78-.78 2.05 0 2.83L4 21.41c.39.39.9.59 1.41.59.51 0 1.02-.2 1.41-.59l7.78-7.78 2.81-2.81c.8-.78.8-2.07 0-2.86zM5.41 20L4 18.59l7.72-7.72 1.47 1.35L5.41 20z\"/>\n",
              "  </svg>\n",
              "      </button>\n",
              "      \n",
              "  <style>\n",
              "    .colab-df-container {\n",
              "      display:flex;\n",
              "      flex-wrap:wrap;\n",
              "      gap: 12px;\n",
              "    }\n",
              "\n",
              "    .colab-df-convert {\n",
              "      background-color: #E8F0FE;\n",
              "      border: none;\n",
              "      border-radius: 50%;\n",
              "      cursor: pointer;\n",
              "      display: none;\n",
              "      fill: #1967D2;\n",
              "      height: 32px;\n",
              "      padding: 0 0 0 0;\n",
              "      width: 32px;\n",
              "    }\n",
              "\n",
              "    .colab-df-convert:hover {\n",
              "      background-color: #E2EBFA;\n",
              "      box-shadow: 0px 1px 2px rgba(60, 64, 67, 0.3), 0px 1px 3px 1px rgba(60, 64, 67, 0.15);\n",
              "      fill: #174EA6;\n",
              "    }\n",
              "\n",
              "    [theme=dark] .colab-df-convert {\n",
              "      background-color: #3B4455;\n",
              "      fill: #D2E3FC;\n",
              "    }\n",
              "\n",
              "    [theme=dark] .colab-df-convert:hover {\n",
              "      background-color: #434B5C;\n",
              "      box-shadow: 0px 1px 3px 1px rgba(0, 0, 0, 0.15);\n",
              "      filter: drop-shadow(0px 1px 2px rgba(0, 0, 0, 0.3));\n",
              "      fill: #FFFFFF;\n",
              "    }\n",
              "  </style>\n",
              "\n",
              "      <script>\n",
              "        const buttonEl =\n",
              "          document.querySelector('#df-ebe40f87-3fdf-452d-9c5a-14a2cd1e2615 button.colab-df-convert');\n",
              "        buttonEl.style.display =\n",
              "          google.colab.kernel.accessAllowed ? 'block' : 'none';\n",
              "\n",
              "        async function convertToInteractive(key) {\n",
              "          const element = document.querySelector('#df-ebe40f87-3fdf-452d-9c5a-14a2cd1e2615');\n",
              "          const dataTable =\n",
              "            await google.colab.kernel.invokeFunction('convertToInteractive',\n",
              "                                                     [key], {});\n",
              "          if (!dataTable) return;\n",
              "\n",
              "          const docLinkHtml = 'Like what you see? Visit the ' +\n",
              "            '<a target=\"_blank\" href=https://colab.research.google.com/notebooks/data_table.ipynb>data table notebook</a>'\n",
              "            + ' to learn more about interactive tables.';\n",
              "          element.innerHTML = '';\n",
              "          dataTable['output_type'] = 'display_data';\n",
              "          await google.colab.output.renderOutput(dataTable, element);\n",
              "          const docLink = document.createElement('div');\n",
              "          docLink.innerHTML = docLinkHtml;\n",
              "          element.appendChild(docLink);\n",
              "        }\n",
              "      </script>\n",
              "    </div>\n",
              "  </div>\n",
              "  "
            ]
          },
          "metadata": {},
          "execution_count": 33
        }
      ]
    },
    {
      "cell_type": "code",
      "source": [
        "# Busca de registro com dados similares para imputação de valor\n",
        "df[df['Fabricante'] == 'plymouth']"
      ],
      "metadata": {
        "colab": {
          "base_uri": "https://localhost:8080/",
          "height": 0
        },
        "id": "ZLNTvIE0F5g0",
        "outputId": "324a6f32-0866-47be-cfd9-205ee39100b7"
      },
      "execution_count": 34,
      "outputs": [
        {
          "output_type": "execute_result",
          "data": {
            "text/plain": [
              "    Fabricante Combustível  Portas Estilo Chassis     Tração  Comprimento  \\\n",
              "116   plymouth         gas     2.0          hatch  dianteira        157.3   \n",
              "117   plymouth         NaN     2.0          hatch  dianteira        157.3   \n",
              "118   plymouth         NaN     4.0          hatch  dianteira        157.3   \n",
              "119   plymouth         NaN     4.0          sedan  dianteira        167.3   \n",
              "120   plymouth         gas     4.0          sedan  dianteira        167.3   \n",
              "121   plymouth         gas     4.0            suv  dianteira        174.6   \n",
              "122   plymouth         gas     2.0          hatch   traseira        173.2   \n",
              "\n",
              "     Largura  Altura Tipo de motor Número de cilindros Tamanho do motor  \\\n",
              "116     63.8    50.8           ohc                   4            90,00   \n",
              "117     63.8    50.8           ohc                   4            98,00   \n",
              "118     63.8    50.6           ohc                   4            90,00   \n",
              "119     63.8    50.8           ohc                   4            90,00   \n",
              "120     63.8    50.8           ohc                   4            98,00   \n",
              "121     64.6    59.8           ohc                   4           122,00   \n",
              "122     66.3    50.2           ohc                   4           156,00   \n",
              "\n",
              "    Tipo de injeção Potência (HP) Pico RPM     Preço  \n",
              "116            2bbl         68,00  5500,00   5572,00  \n",
              "117            spdi        102,00  5500,00   7957,00  \n",
              "118            2bbl         68,00  5500,00   6229,00  \n",
              "119            2bbl         68,00  5500,00   6692,00  \n",
              "120            2bbl         68,00  5500,00   7609,00  \n",
              "121            2bbl         88,00  5000,00   8921,00  \n",
              "122            spdi        145,00  5000,00  12764,00  "
            ],
            "text/html": [
              "\n",
              "  <div id=\"df-db6a0bc9-285d-4c48-ba07-397aea624ed9\">\n",
              "    <div class=\"colab-df-container\">\n",
              "      <div>\n",
              "<style scoped>\n",
              "    .dataframe tbody tr th:only-of-type {\n",
              "        vertical-align: middle;\n",
              "    }\n",
              "\n",
              "    .dataframe tbody tr th {\n",
              "        vertical-align: top;\n",
              "    }\n",
              "\n",
              "    .dataframe thead th {\n",
              "        text-align: right;\n",
              "    }\n",
              "</style>\n",
              "<table border=\"1\" class=\"dataframe\">\n",
              "  <thead>\n",
              "    <tr style=\"text-align: right;\">\n",
              "      <th></th>\n",
              "      <th>Fabricante</th>\n",
              "      <th>Combustível</th>\n",
              "      <th>Portas</th>\n",
              "      <th>Estilo Chassis</th>\n",
              "      <th>Tração</th>\n",
              "      <th>Comprimento</th>\n",
              "      <th>Largura</th>\n",
              "      <th>Altura</th>\n",
              "      <th>Tipo de motor</th>\n",
              "      <th>Número de cilindros</th>\n",
              "      <th>Tamanho do motor</th>\n",
              "      <th>Tipo de injeção</th>\n",
              "      <th>Potência (HP)</th>\n",
              "      <th>Pico RPM</th>\n",
              "      <th>Preço</th>\n",
              "    </tr>\n",
              "  </thead>\n",
              "  <tbody>\n",
              "    <tr>\n",
              "      <th>116</th>\n",
              "      <td>plymouth</td>\n",
              "      <td>gas</td>\n",
              "      <td>2.0</td>\n",
              "      <td>hatch</td>\n",
              "      <td>dianteira</td>\n",
              "      <td>157.3</td>\n",
              "      <td>63.8</td>\n",
              "      <td>50.8</td>\n",
              "      <td>ohc</td>\n",
              "      <td>4</td>\n",
              "      <td>90,00</td>\n",
              "      <td>2bbl</td>\n",
              "      <td>68,00</td>\n",
              "      <td>5500,00</td>\n",
              "      <td>5572,00</td>\n",
              "    </tr>\n",
              "    <tr>\n",
              "      <th>117</th>\n",
              "      <td>plymouth</td>\n",
              "      <td>NaN</td>\n",
              "      <td>2.0</td>\n",
              "      <td>hatch</td>\n",
              "      <td>dianteira</td>\n",
              "      <td>157.3</td>\n",
              "      <td>63.8</td>\n",
              "      <td>50.8</td>\n",
              "      <td>ohc</td>\n",
              "      <td>4</td>\n",
              "      <td>98,00</td>\n",
              "      <td>spdi</td>\n",
              "      <td>102,00</td>\n",
              "      <td>5500,00</td>\n",
              "      <td>7957,00</td>\n",
              "    </tr>\n",
              "    <tr>\n",
              "      <th>118</th>\n",
              "      <td>plymouth</td>\n",
              "      <td>NaN</td>\n",
              "      <td>4.0</td>\n",
              "      <td>hatch</td>\n",
              "      <td>dianteira</td>\n",
              "      <td>157.3</td>\n",
              "      <td>63.8</td>\n",
              "      <td>50.6</td>\n",
              "      <td>ohc</td>\n",
              "      <td>4</td>\n",
              "      <td>90,00</td>\n",
              "      <td>2bbl</td>\n",
              "      <td>68,00</td>\n",
              "      <td>5500,00</td>\n",
              "      <td>6229,00</td>\n",
              "    </tr>\n",
              "    <tr>\n",
              "      <th>119</th>\n",
              "      <td>plymouth</td>\n",
              "      <td>NaN</td>\n",
              "      <td>4.0</td>\n",
              "      <td>sedan</td>\n",
              "      <td>dianteira</td>\n",
              "      <td>167.3</td>\n",
              "      <td>63.8</td>\n",
              "      <td>50.8</td>\n",
              "      <td>ohc</td>\n",
              "      <td>4</td>\n",
              "      <td>90,00</td>\n",
              "      <td>2bbl</td>\n",
              "      <td>68,00</td>\n",
              "      <td>5500,00</td>\n",
              "      <td>6692,00</td>\n",
              "    </tr>\n",
              "    <tr>\n",
              "      <th>120</th>\n",
              "      <td>plymouth</td>\n",
              "      <td>gas</td>\n",
              "      <td>4.0</td>\n",
              "      <td>sedan</td>\n",
              "      <td>dianteira</td>\n",
              "      <td>167.3</td>\n",
              "      <td>63.8</td>\n",
              "      <td>50.8</td>\n",
              "      <td>ohc</td>\n",
              "      <td>4</td>\n",
              "      <td>98,00</td>\n",
              "      <td>2bbl</td>\n",
              "      <td>68,00</td>\n",
              "      <td>5500,00</td>\n",
              "      <td>7609,00</td>\n",
              "    </tr>\n",
              "    <tr>\n",
              "      <th>121</th>\n",
              "      <td>plymouth</td>\n",
              "      <td>gas</td>\n",
              "      <td>4.0</td>\n",
              "      <td>suv</td>\n",
              "      <td>dianteira</td>\n",
              "      <td>174.6</td>\n",
              "      <td>64.6</td>\n",
              "      <td>59.8</td>\n",
              "      <td>ohc</td>\n",
              "      <td>4</td>\n",
              "      <td>122,00</td>\n",
              "      <td>2bbl</td>\n",
              "      <td>88,00</td>\n",
              "      <td>5000,00</td>\n",
              "      <td>8921,00</td>\n",
              "    </tr>\n",
              "    <tr>\n",
              "      <th>122</th>\n",
              "      <td>plymouth</td>\n",
              "      <td>gas</td>\n",
              "      <td>2.0</td>\n",
              "      <td>hatch</td>\n",
              "      <td>traseira</td>\n",
              "      <td>173.2</td>\n",
              "      <td>66.3</td>\n",
              "      <td>50.2</td>\n",
              "      <td>ohc</td>\n",
              "      <td>4</td>\n",
              "      <td>156,00</td>\n",
              "      <td>spdi</td>\n",
              "      <td>145,00</td>\n",
              "      <td>5000,00</td>\n",
              "      <td>12764,00</td>\n",
              "    </tr>\n",
              "  </tbody>\n",
              "</table>\n",
              "</div>\n",
              "      <button class=\"colab-df-convert\" onclick=\"convertToInteractive('df-db6a0bc9-285d-4c48-ba07-397aea624ed9')\"\n",
              "              title=\"Convert this dataframe to an interactive table.\"\n",
              "              style=\"display:none;\">\n",
              "        \n",
              "  <svg xmlns=\"http://www.w3.org/2000/svg\" height=\"24px\"viewBox=\"0 0 24 24\"\n",
              "       width=\"24px\">\n",
              "    <path d=\"M0 0h24v24H0V0z\" fill=\"none\"/>\n",
              "    <path d=\"M18.56 5.44l.94 2.06.94-2.06 2.06-.94-2.06-.94-.94-2.06-.94 2.06-2.06.94zm-11 1L8.5 8.5l.94-2.06 2.06-.94-2.06-.94L8.5 2.5l-.94 2.06-2.06.94zm10 10l.94 2.06.94-2.06 2.06-.94-2.06-.94-.94-2.06-.94 2.06-2.06.94z\"/><path d=\"M17.41 7.96l-1.37-1.37c-.4-.4-.92-.59-1.43-.59-.52 0-1.04.2-1.43.59L10.3 9.45l-7.72 7.72c-.78.78-.78 2.05 0 2.83L4 21.41c.39.39.9.59 1.41.59.51 0 1.02-.2 1.41-.59l7.78-7.78 2.81-2.81c.8-.78.8-2.07 0-2.86zM5.41 20L4 18.59l7.72-7.72 1.47 1.35L5.41 20z\"/>\n",
              "  </svg>\n",
              "      </button>\n",
              "      \n",
              "  <style>\n",
              "    .colab-df-container {\n",
              "      display:flex;\n",
              "      flex-wrap:wrap;\n",
              "      gap: 12px;\n",
              "    }\n",
              "\n",
              "    .colab-df-convert {\n",
              "      background-color: #E8F0FE;\n",
              "      border: none;\n",
              "      border-radius: 50%;\n",
              "      cursor: pointer;\n",
              "      display: none;\n",
              "      fill: #1967D2;\n",
              "      height: 32px;\n",
              "      padding: 0 0 0 0;\n",
              "      width: 32px;\n",
              "    }\n",
              "\n",
              "    .colab-df-convert:hover {\n",
              "      background-color: #E2EBFA;\n",
              "      box-shadow: 0px 1px 2px rgba(60, 64, 67, 0.3), 0px 1px 3px 1px rgba(60, 64, 67, 0.15);\n",
              "      fill: #174EA6;\n",
              "    }\n",
              "\n",
              "    [theme=dark] .colab-df-convert {\n",
              "      background-color: #3B4455;\n",
              "      fill: #D2E3FC;\n",
              "    }\n",
              "\n",
              "    [theme=dark] .colab-df-convert:hover {\n",
              "      background-color: #434B5C;\n",
              "      box-shadow: 0px 1px 3px 1px rgba(0, 0, 0, 0.15);\n",
              "      filter: drop-shadow(0px 1px 2px rgba(0, 0, 0, 0.3));\n",
              "      fill: #FFFFFF;\n",
              "    }\n",
              "  </style>\n",
              "\n",
              "      <script>\n",
              "        const buttonEl =\n",
              "          document.querySelector('#df-db6a0bc9-285d-4c48-ba07-397aea624ed9 button.colab-df-convert');\n",
              "        buttonEl.style.display =\n",
              "          google.colab.kernel.accessAllowed ? 'block' : 'none';\n",
              "\n",
              "        async function convertToInteractive(key) {\n",
              "          const element = document.querySelector('#df-db6a0bc9-285d-4c48-ba07-397aea624ed9');\n",
              "          const dataTable =\n",
              "            await google.colab.kernel.invokeFunction('convertToInteractive',\n",
              "                                                     [key], {});\n",
              "          if (!dataTable) return;\n",
              "\n",
              "          const docLinkHtml = 'Like what you see? Visit the ' +\n",
              "            '<a target=\"_blank\" href=https://colab.research.google.com/notebooks/data_table.ipynb>data table notebook</a>'\n",
              "            + ' to learn more about interactive tables.';\n",
              "          element.innerHTML = '';\n",
              "          dataTable['output_type'] = 'display_data';\n",
              "          await google.colab.output.renderOutput(dataTable, element);\n",
              "          const docLink = document.createElement('div');\n",
              "          docLink.innerHTML = docLinkHtml;\n",
              "          element.appendChild(docLink);\n",
              "        }\n",
              "      </script>\n",
              "    </div>\n",
              "  </div>\n",
              "  "
            ]
          },
          "metadata": {},
          "execution_count": 34
        }
      ]
    },
    {
      "cell_type": "code",
      "source": [
        "# Imputação de valor\n",
        "df.iloc[117:120, 1] = 'gas'"
      ],
      "metadata": {
        "id": "K328oTEKGMSQ"
      },
      "execution_count": 35,
      "outputs": []
    },
    {
      "cell_type": "code",
      "source": [
        "# Busca de registro com dados similares para imputação de valor\n",
        "df[(df['Comprimento'] == 168.90) & (df['Largura'] == 65.00) & (df['Altura'] == 51.60)]"
      ],
      "metadata": {
        "colab": {
          "base_uri": "https://localhost:8080/",
          "height": 0
        },
        "id": "XW_rEuglGUP1",
        "outputId": "6c466251-7c16-4fc2-d230-6ba95666df3a"
      },
      "execution_count": 36,
      "outputs": [
        {
          "output_type": "execute_result",
          "data": {
            "text/plain": [
              "    Fabricante Combustível  Portas Estilo Chassis    Tração  Comprimento  \\\n",
              "124    porsche         gas     2.0        hardtop  traseira        168.9   \n",
              "125    porsche         NaN     2.0        hardtop  traseira        168.9   \n",
              "126    porsche         gas     2.0    conversível  traseira        168.9   \n",
              "\n",
              "     Largura  Altura Tipo de motor Número de cilindros Tamanho do motor  \\\n",
              "124     65.0    51.6          ohcf                   6           194,00   \n",
              "125     65.0    51.6          ohcf                   6           194,00   \n",
              "126     65.0    51.6          ohcf                   6           194,00   \n",
              "\n",
              "    Tipo de injeção Potência (HP) Pico RPM     Preço  \n",
              "124            mpfi        207,00  5900,00  32528,00  \n",
              "125            mpfi        207,00  5900,00  34028,00  \n",
              "126            mpfi        207,00  5900,00  37028,00  "
            ],
            "text/html": [
              "\n",
              "  <div id=\"df-89c7e527-564b-44f3-9b6e-470e39855025\">\n",
              "    <div class=\"colab-df-container\">\n",
              "      <div>\n",
              "<style scoped>\n",
              "    .dataframe tbody tr th:only-of-type {\n",
              "        vertical-align: middle;\n",
              "    }\n",
              "\n",
              "    .dataframe tbody tr th {\n",
              "        vertical-align: top;\n",
              "    }\n",
              "\n",
              "    .dataframe thead th {\n",
              "        text-align: right;\n",
              "    }\n",
              "</style>\n",
              "<table border=\"1\" class=\"dataframe\">\n",
              "  <thead>\n",
              "    <tr style=\"text-align: right;\">\n",
              "      <th></th>\n",
              "      <th>Fabricante</th>\n",
              "      <th>Combustível</th>\n",
              "      <th>Portas</th>\n",
              "      <th>Estilo Chassis</th>\n",
              "      <th>Tração</th>\n",
              "      <th>Comprimento</th>\n",
              "      <th>Largura</th>\n",
              "      <th>Altura</th>\n",
              "      <th>Tipo de motor</th>\n",
              "      <th>Número de cilindros</th>\n",
              "      <th>Tamanho do motor</th>\n",
              "      <th>Tipo de injeção</th>\n",
              "      <th>Potência (HP)</th>\n",
              "      <th>Pico RPM</th>\n",
              "      <th>Preço</th>\n",
              "    </tr>\n",
              "  </thead>\n",
              "  <tbody>\n",
              "    <tr>\n",
              "      <th>124</th>\n",
              "      <td>porsche</td>\n",
              "      <td>gas</td>\n",
              "      <td>2.0</td>\n",
              "      <td>hardtop</td>\n",
              "      <td>traseira</td>\n",
              "      <td>168.9</td>\n",
              "      <td>65.0</td>\n",
              "      <td>51.6</td>\n",
              "      <td>ohcf</td>\n",
              "      <td>6</td>\n",
              "      <td>194,00</td>\n",
              "      <td>mpfi</td>\n",
              "      <td>207,00</td>\n",
              "      <td>5900,00</td>\n",
              "      <td>32528,00</td>\n",
              "    </tr>\n",
              "    <tr>\n",
              "      <th>125</th>\n",
              "      <td>porsche</td>\n",
              "      <td>NaN</td>\n",
              "      <td>2.0</td>\n",
              "      <td>hardtop</td>\n",
              "      <td>traseira</td>\n",
              "      <td>168.9</td>\n",
              "      <td>65.0</td>\n",
              "      <td>51.6</td>\n",
              "      <td>ohcf</td>\n",
              "      <td>6</td>\n",
              "      <td>194,00</td>\n",
              "      <td>mpfi</td>\n",
              "      <td>207,00</td>\n",
              "      <td>5900,00</td>\n",
              "      <td>34028,00</td>\n",
              "    </tr>\n",
              "    <tr>\n",
              "      <th>126</th>\n",
              "      <td>porsche</td>\n",
              "      <td>gas</td>\n",
              "      <td>2.0</td>\n",
              "      <td>conversível</td>\n",
              "      <td>traseira</td>\n",
              "      <td>168.9</td>\n",
              "      <td>65.0</td>\n",
              "      <td>51.6</td>\n",
              "      <td>ohcf</td>\n",
              "      <td>6</td>\n",
              "      <td>194,00</td>\n",
              "      <td>mpfi</td>\n",
              "      <td>207,00</td>\n",
              "      <td>5900,00</td>\n",
              "      <td>37028,00</td>\n",
              "    </tr>\n",
              "  </tbody>\n",
              "</table>\n",
              "</div>\n",
              "      <button class=\"colab-df-convert\" onclick=\"convertToInteractive('df-89c7e527-564b-44f3-9b6e-470e39855025')\"\n",
              "              title=\"Convert this dataframe to an interactive table.\"\n",
              "              style=\"display:none;\">\n",
              "        \n",
              "  <svg xmlns=\"http://www.w3.org/2000/svg\" height=\"24px\"viewBox=\"0 0 24 24\"\n",
              "       width=\"24px\">\n",
              "    <path d=\"M0 0h24v24H0V0z\" fill=\"none\"/>\n",
              "    <path d=\"M18.56 5.44l.94 2.06.94-2.06 2.06-.94-2.06-.94-.94-2.06-.94 2.06-2.06.94zm-11 1L8.5 8.5l.94-2.06 2.06-.94-2.06-.94L8.5 2.5l-.94 2.06-2.06.94zm10 10l.94 2.06.94-2.06 2.06-.94-2.06-.94-.94-2.06-.94 2.06-2.06.94z\"/><path d=\"M17.41 7.96l-1.37-1.37c-.4-.4-.92-.59-1.43-.59-.52 0-1.04.2-1.43.59L10.3 9.45l-7.72 7.72c-.78.78-.78 2.05 0 2.83L4 21.41c.39.39.9.59 1.41.59.51 0 1.02-.2 1.41-.59l7.78-7.78 2.81-2.81c.8-.78.8-2.07 0-2.86zM5.41 20L4 18.59l7.72-7.72 1.47 1.35L5.41 20z\"/>\n",
              "  </svg>\n",
              "      </button>\n",
              "      \n",
              "  <style>\n",
              "    .colab-df-container {\n",
              "      display:flex;\n",
              "      flex-wrap:wrap;\n",
              "      gap: 12px;\n",
              "    }\n",
              "\n",
              "    .colab-df-convert {\n",
              "      background-color: #E8F0FE;\n",
              "      border: none;\n",
              "      border-radius: 50%;\n",
              "      cursor: pointer;\n",
              "      display: none;\n",
              "      fill: #1967D2;\n",
              "      height: 32px;\n",
              "      padding: 0 0 0 0;\n",
              "      width: 32px;\n",
              "    }\n",
              "\n",
              "    .colab-df-convert:hover {\n",
              "      background-color: #E2EBFA;\n",
              "      box-shadow: 0px 1px 2px rgba(60, 64, 67, 0.3), 0px 1px 3px 1px rgba(60, 64, 67, 0.15);\n",
              "      fill: #174EA6;\n",
              "    }\n",
              "\n",
              "    [theme=dark] .colab-df-convert {\n",
              "      background-color: #3B4455;\n",
              "      fill: #D2E3FC;\n",
              "    }\n",
              "\n",
              "    [theme=dark] .colab-df-convert:hover {\n",
              "      background-color: #434B5C;\n",
              "      box-shadow: 0px 1px 3px 1px rgba(0, 0, 0, 0.15);\n",
              "      filter: drop-shadow(0px 1px 2px rgba(0, 0, 0, 0.3));\n",
              "      fill: #FFFFFF;\n",
              "    }\n",
              "  </style>\n",
              "\n",
              "      <script>\n",
              "        const buttonEl =\n",
              "          document.querySelector('#df-89c7e527-564b-44f3-9b6e-470e39855025 button.colab-df-convert');\n",
              "        buttonEl.style.display =\n",
              "          google.colab.kernel.accessAllowed ? 'block' : 'none';\n",
              "\n",
              "        async function convertToInteractive(key) {\n",
              "          const element = document.querySelector('#df-89c7e527-564b-44f3-9b6e-470e39855025');\n",
              "          const dataTable =\n",
              "            await google.colab.kernel.invokeFunction('convertToInteractive',\n",
              "                                                     [key], {});\n",
              "          if (!dataTable) return;\n",
              "\n",
              "          const docLinkHtml = 'Like what you see? Visit the ' +\n",
              "            '<a target=\"_blank\" href=https://colab.research.google.com/notebooks/data_table.ipynb>data table notebook</a>'\n",
              "            + ' to learn more about interactive tables.';\n",
              "          element.innerHTML = '';\n",
              "          dataTable['output_type'] = 'display_data';\n",
              "          await google.colab.output.renderOutput(dataTable, element);\n",
              "          const docLink = document.createElement('div');\n",
              "          docLink.innerHTML = docLinkHtml;\n",
              "          element.appendChild(docLink);\n",
              "        }\n",
              "      </script>\n",
              "    </div>\n",
              "  </div>\n",
              "  "
            ]
          },
          "metadata": {},
          "execution_count": 36
        }
      ]
    },
    {
      "cell_type": "code",
      "source": [
        "# Imputação de valor\n",
        "df.loc[125, 'Combustível'] = 'gas'"
      ],
      "metadata": {
        "id": "hU4H_e5OGZts"
      },
      "execution_count": 37,
      "outputs": []
    },
    {
      "cell_type": "code",
      "source": [
        "# Busca de registro com dados similares para imputação de valor\n",
        "df[(df['Comprimento'] == 172.00) & (df['Largura'] == 65.40) & (df['Altura'] == 52.50)]"
      ],
      "metadata": {
        "colab": {
          "base_uri": "https://localhost:8080/",
          "height": 0
        },
        "id": "eIAiBrknGl8d",
        "outputId": "178c0d9d-142c-44ce-e0d1-a68715dee0c5"
      },
      "execution_count": 38,
      "outputs": [
        {
          "output_type": "execute_result",
          "data": {
            "text/plain": [
              "    Fabricante Combustível  Portas Estilo Chassis     Tração  Comprimento  \\\n",
              "139     subaru         NaN     4.0          sedan  dianteira        172.0   \n",
              "140     subaru         gas     4.0          sedan  dianteira        172.0   \n",
              "141     subaru         gas     4.0          sedan  dianteira        172.0   \n",
              "\n",
              "     Largura  Altura Tipo de motor Número de cilindros Tamanho do motor  \\\n",
              "139     65.4    52.5          ohcf                   4           108,00   \n",
              "140     65.4    52.5          ohcf                   4           108,00   \n",
              "141     65.4    52.5          ohcf                   4           108,00   \n",
              "\n",
              "    Tipo de injeção Potência (HP) Pico RPM    Preço  \n",
              "139            2bbl         82,00  4800,00  7126,00  \n",
              "140            2bbl         82,00  4400,00  7775,00  \n",
              "141            mpfi         94,00  5200,00  9960,00  "
            ],
            "text/html": [
              "\n",
              "  <div id=\"df-f60be4a1-b80b-45cf-b188-908ebaa574e8\">\n",
              "    <div class=\"colab-df-container\">\n",
              "      <div>\n",
              "<style scoped>\n",
              "    .dataframe tbody tr th:only-of-type {\n",
              "        vertical-align: middle;\n",
              "    }\n",
              "\n",
              "    .dataframe tbody tr th {\n",
              "        vertical-align: top;\n",
              "    }\n",
              "\n",
              "    .dataframe thead th {\n",
              "        text-align: right;\n",
              "    }\n",
              "</style>\n",
              "<table border=\"1\" class=\"dataframe\">\n",
              "  <thead>\n",
              "    <tr style=\"text-align: right;\">\n",
              "      <th></th>\n",
              "      <th>Fabricante</th>\n",
              "      <th>Combustível</th>\n",
              "      <th>Portas</th>\n",
              "      <th>Estilo Chassis</th>\n",
              "      <th>Tração</th>\n",
              "      <th>Comprimento</th>\n",
              "      <th>Largura</th>\n",
              "      <th>Altura</th>\n",
              "      <th>Tipo de motor</th>\n",
              "      <th>Número de cilindros</th>\n",
              "      <th>Tamanho do motor</th>\n",
              "      <th>Tipo de injeção</th>\n",
              "      <th>Potência (HP)</th>\n",
              "      <th>Pico RPM</th>\n",
              "      <th>Preço</th>\n",
              "    </tr>\n",
              "  </thead>\n",
              "  <tbody>\n",
              "    <tr>\n",
              "      <th>139</th>\n",
              "      <td>subaru</td>\n",
              "      <td>NaN</td>\n",
              "      <td>4.0</td>\n",
              "      <td>sedan</td>\n",
              "      <td>dianteira</td>\n",
              "      <td>172.0</td>\n",
              "      <td>65.4</td>\n",
              "      <td>52.5</td>\n",
              "      <td>ohcf</td>\n",
              "      <td>4</td>\n",
              "      <td>108,00</td>\n",
              "      <td>2bbl</td>\n",
              "      <td>82,00</td>\n",
              "      <td>4800,00</td>\n",
              "      <td>7126,00</td>\n",
              "    </tr>\n",
              "    <tr>\n",
              "      <th>140</th>\n",
              "      <td>subaru</td>\n",
              "      <td>gas</td>\n",
              "      <td>4.0</td>\n",
              "      <td>sedan</td>\n",
              "      <td>dianteira</td>\n",
              "      <td>172.0</td>\n",
              "      <td>65.4</td>\n",
              "      <td>52.5</td>\n",
              "      <td>ohcf</td>\n",
              "      <td>4</td>\n",
              "      <td>108,00</td>\n",
              "      <td>2bbl</td>\n",
              "      <td>82,00</td>\n",
              "      <td>4400,00</td>\n",
              "      <td>7775,00</td>\n",
              "    </tr>\n",
              "    <tr>\n",
              "      <th>141</th>\n",
              "      <td>subaru</td>\n",
              "      <td>gas</td>\n",
              "      <td>4.0</td>\n",
              "      <td>sedan</td>\n",
              "      <td>dianteira</td>\n",
              "      <td>172.0</td>\n",
              "      <td>65.4</td>\n",
              "      <td>52.5</td>\n",
              "      <td>ohcf</td>\n",
              "      <td>4</td>\n",
              "      <td>108,00</td>\n",
              "      <td>mpfi</td>\n",
              "      <td>94,00</td>\n",
              "      <td>5200,00</td>\n",
              "      <td>9960,00</td>\n",
              "    </tr>\n",
              "  </tbody>\n",
              "</table>\n",
              "</div>\n",
              "      <button class=\"colab-df-convert\" onclick=\"convertToInteractive('df-f60be4a1-b80b-45cf-b188-908ebaa574e8')\"\n",
              "              title=\"Convert this dataframe to an interactive table.\"\n",
              "              style=\"display:none;\">\n",
              "        \n",
              "  <svg xmlns=\"http://www.w3.org/2000/svg\" height=\"24px\"viewBox=\"0 0 24 24\"\n",
              "       width=\"24px\">\n",
              "    <path d=\"M0 0h24v24H0V0z\" fill=\"none\"/>\n",
              "    <path d=\"M18.56 5.44l.94 2.06.94-2.06 2.06-.94-2.06-.94-.94-2.06-.94 2.06-2.06.94zm-11 1L8.5 8.5l.94-2.06 2.06-.94-2.06-.94L8.5 2.5l-.94 2.06-2.06.94zm10 10l.94 2.06.94-2.06 2.06-.94-2.06-.94-.94-2.06-.94 2.06-2.06.94z\"/><path d=\"M17.41 7.96l-1.37-1.37c-.4-.4-.92-.59-1.43-.59-.52 0-1.04.2-1.43.59L10.3 9.45l-7.72 7.72c-.78.78-.78 2.05 0 2.83L4 21.41c.39.39.9.59 1.41.59.51 0 1.02-.2 1.41-.59l7.78-7.78 2.81-2.81c.8-.78.8-2.07 0-2.86zM5.41 20L4 18.59l7.72-7.72 1.47 1.35L5.41 20z\"/>\n",
              "  </svg>\n",
              "      </button>\n",
              "      \n",
              "  <style>\n",
              "    .colab-df-container {\n",
              "      display:flex;\n",
              "      flex-wrap:wrap;\n",
              "      gap: 12px;\n",
              "    }\n",
              "\n",
              "    .colab-df-convert {\n",
              "      background-color: #E8F0FE;\n",
              "      border: none;\n",
              "      border-radius: 50%;\n",
              "      cursor: pointer;\n",
              "      display: none;\n",
              "      fill: #1967D2;\n",
              "      height: 32px;\n",
              "      padding: 0 0 0 0;\n",
              "      width: 32px;\n",
              "    }\n",
              "\n",
              "    .colab-df-convert:hover {\n",
              "      background-color: #E2EBFA;\n",
              "      box-shadow: 0px 1px 2px rgba(60, 64, 67, 0.3), 0px 1px 3px 1px rgba(60, 64, 67, 0.15);\n",
              "      fill: #174EA6;\n",
              "    }\n",
              "\n",
              "    [theme=dark] .colab-df-convert {\n",
              "      background-color: #3B4455;\n",
              "      fill: #D2E3FC;\n",
              "    }\n",
              "\n",
              "    [theme=dark] .colab-df-convert:hover {\n",
              "      background-color: #434B5C;\n",
              "      box-shadow: 0px 1px 3px 1px rgba(0, 0, 0, 0.15);\n",
              "      filter: drop-shadow(0px 1px 2px rgba(0, 0, 0, 0.3));\n",
              "      fill: #FFFFFF;\n",
              "    }\n",
              "  </style>\n",
              "\n",
              "      <script>\n",
              "        const buttonEl =\n",
              "          document.querySelector('#df-f60be4a1-b80b-45cf-b188-908ebaa574e8 button.colab-df-convert');\n",
              "        buttonEl.style.display =\n",
              "          google.colab.kernel.accessAllowed ? 'block' : 'none';\n",
              "\n",
              "        async function convertToInteractive(key) {\n",
              "          const element = document.querySelector('#df-f60be4a1-b80b-45cf-b188-908ebaa574e8');\n",
              "          const dataTable =\n",
              "            await google.colab.kernel.invokeFunction('convertToInteractive',\n",
              "                                                     [key], {});\n",
              "          if (!dataTable) return;\n",
              "\n",
              "          const docLinkHtml = 'Like what you see? Visit the ' +\n",
              "            '<a target=\"_blank\" href=https://colab.research.google.com/notebooks/data_table.ipynb>data table notebook</a>'\n",
              "            + ' to learn more about interactive tables.';\n",
              "          element.innerHTML = '';\n",
              "          dataTable['output_type'] = 'display_data';\n",
              "          await google.colab.output.renderOutput(dataTable, element);\n",
              "          const docLink = document.createElement('div');\n",
              "          docLink.innerHTML = docLinkHtml;\n",
              "          element.appendChild(docLink);\n",
              "        }\n",
              "      </script>\n",
              "    </div>\n",
              "  </div>\n",
              "  "
            ]
          },
          "metadata": {},
          "execution_count": 38
        }
      ]
    },
    {
      "cell_type": "code",
      "source": [
        "# Imputação de valor\n",
        "df.iloc[139, 1] = 'gas'"
      ],
      "metadata": {
        "id": "8ZxjTS__Gyzo"
      },
      "execution_count": 39,
      "outputs": []
    },
    {
      "cell_type": "code",
      "source": [
        "# Verificação dos dados\n",
        "df['Combustível'].unique()"
      ],
      "metadata": {
        "colab": {
          "base_uri": "https://localhost:8080/"
        },
        "id": "7PK-6UJSWCYD",
        "outputId": "c19d8797-3f88-4014-b043-6cd3cf647be9"
      },
      "execution_count": 40,
      "outputs": [
        {
          "output_type": "execute_result",
          "data": {
            "text/plain": [
              "array(['gas', 'diesel'], dtype=object)"
            ]
          },
          "metadata": {},
          "execution_count": 40
        }
      ]
    },
    {
      "cell_type": "markdown",
      "source": [
        "## Campo Portas"
      ],
      "metadata": {
        "id": "5R84GQH_G4Ps"
      }
    },
    {
      "cell_type": "markdown",
      "source": [
        "- Com dados omissos\n",
        "- Realizada a busca de registros com dados similares (exceto valor) para imputação de valores:\n",
        "  - Registros 26 e 61: não foi encontrado registro com os mesmos dados, mas '4' é o valor mais provável\n",
        "- Realizada transformação de tipo para category"
      ],
      "metadata": {
        "id": "7Xbldc7cXYFd"
      }
    },
    {
      "cell_type": "code",
      "source": [
        "# Verificação dos dados\n",
        "df['Portas'].unique()"
      ],
      "metadata": {
        "colab": {
          "base_uri": "https://localhost:8080/"
        },
        "id": "631ZDuL_G5_q",
        "outputId": "bd94b436-af4d-4a28-ff68-b84821a27722"
      },
      "execution_count": 41,
      "outputs": [
        {
          "output_type": "execute_result",
          "data": {
            "text/plain": [
              "array([ 2.,  4., nan])"
            ]
          },
          "metadata": {},
          "execution_count": 41
        }
      ]
    },
    {
      "cell_type": "code",
      "source": [
        "# Visualização dos dados faltantes\n",
        "df[df['Portas'].isnull()]"
      ],
      "metadata": {
        "colab": {
          "base_uri": "https://localhost:8080/",
          "height": 0
        },
        "id": "WcbRGBJ3G-L3",
        "outputId": "72dac991-e6c2-4f35-fe9e-4084055c41d6"
      },
      "execution_count": 42,
      "outputs": [
        {
          "output_type": "execute_result",
          "data": {
            "text/plain": [
              "   Fabricante Combustível  Portas Estilo Chassis     Tração  Comprimento  \\\n",
              "26      dodge         gas     NaN          sedan  dianteira        157.3   \n",
              "61      mazda      diesel     NaN          sedan  dianteira        177.8   \n",
              "\n",
              "    Largura  Altura Tipo de motor Número de cilindros Tamanho do motor  \\\n",
              "26     63.8    50.6           ohc                   4            98,00   \n",
              "61     66.5    55.5           ohc                   4           122,00   \n",
              "\n",
              "   Tipo de injeção Potência (HP) Pico RPM     Preço  \n",
              "26            mpfi        102,00  5500,00   8558,00  \n",
              "61             idi         64,00  4650,00  10795,00  "
            ],
            "text/html": [
              "\n",
              "  <div id=\"df-9f904a4e-6752-4c62-a07e-c9fbd0f90697\">\n",
              "    <div class=\"colab-df-container\">\n",
              "      <div>\n",
              "<style scoped>\n",
              "    .dataframe tbody tr th:only-of-type {\n",
              "        vertical-align: middle;\n",
              "    }\n",
              "\n",
              "    .dataframe tbody tr th {\n",
              "        vertical-align: top;\n",
              "    }\n",
              "\n",
              "    .dataframe thead th {\n",
              "        text-align: right;\n",
              "    }\n",
              "</style>\n",
              "<table border=\"1\" class=\"dataframe\">\n",
              "  <thead>\n",
              "    <tr style=\"text-align: right;\">\n",
              "      <th></th>\n",
              "      <th>Fabricante</th>\n",
              "      <th>Combustível</th>\n",
              "      <th>Portas</th>\n",
              "      <th>Estilo Chassis</th>\n",
              "      <th>Tração</th>\n",
              "      <th>Comprimento</th>\n",
              "      <th>Largura</th>\n",
              "      <th>Altura</th>\n",
              "      <th>Tipo de motor</th>\n",
              "      <th>Número de cilindros</th>\n",
              "      <th>Tamanho do motor</th>\n",
              "      <th>Tipo de injeção</th>\n",
              "      <th>Potência (HP)</th>\n",
              "      <th>Pico RPM</th>\n",
              "      <th>Preço</th>\n",
              "    </tr>\n",
              "  </thead>\n",
              "  <tbody>\n",
              "    <tr>\n",
              "      <th>26</th>\n",
              "      <td>dodge</td>\n",
              "      <td>gas</td>\n",
              "      <td>NaN</td>\n",
              "      <td>sedan</td>\n",
              "      <td>dianteira</td>\n",
              "      <td>157.3</td>\n",
              "      <td>63.8</td>\n",
              "      <td>50.6</td>\n",
              "      <td>ohc</td>\n",
              "      <td>4</td>\n",
              "      <td>98,00</td>\n",
              "      <td>mpfi</td>\n",
              "      <td>102,00</td>\n",
              "      <td>5500,00</td>\n",
              "      <td>8558,00</td>\n",
              "    </tr>\n",
              "    <tr>\n",
              "      <th>61</th>\n",
              "      <td>mazda</td>\n",
              "      <td>diesel</td>\n",
              "      <td>NaN</td>\n",
              "      <td>sedan</td>\n",
              "      <td>dianteira</td>\n",
              "      <td>177.8</td>\n",
              "      <td>66.5</td>\n",
              "      <td>55.5</td>\n",
              "      <td>ohc</td>\n",
              "      <td>4</td>\n",
              "      <td>122,00</td>\n",
              "      <td>idi</td>\n",
              "      <td>64,00</td>\n",
              "      <td>4650,00</td>\n",
              "      <td>10795,00</td>\n",
              "    </tr>\n",
              "  </tbody>\n",
              "</table>\n",
              "</div>\n",
              "      <button class=\"colab-df-convert\" onclick=\"convertToInteractive('df-9f904a4e-6752-4c62-a07e-c9fbd0f90697')\"\n",
              "              title=\"Convert this dataframe to an interactive table.\"\n",
              "              style=\"display:none;\">\n",
              "        \n",
              "  <svg xmlns=\"http://www.w3.org/2000/svg\" height=\"24px\"viewBox=\"0 0 24 24\"\n",
              "       width=\"24px\">\n",
              "    <path d=\"M0 0h24v24H0V0z\" fill=\"none\"/>\n",
              "    <path d=\"M18.56 5.44l.94 2.06.94-2.06 2.06-.94-2.06-.94-.94-2.06-.94 2.06-2.06.94zm-11 1L8.5 8.5l.94-2.06 2.06-.94-2.06-.94L8.5 2.5l-.94 2.06-2.06.94zm10 10l.94 2.06.94-2.06 2.06-.94-2.06-.94-.94-2.06-.94 2.06-2.06.94z\"/><path d=\"M17.41 7.96l-1.37-1.37c-.4-.4-.92-.59-1.43-.59-.52 0-1.04.2-1.43.59L10.3 9.45l-7.72 7.72c-.78.78-.78 2.05 0 2.83L4 21.41c.39.39.9.59 1.41.59.51 0 1.02-.2 1.41-.59l7.78-7.78 2.81-2.81c.8-.78.8-2.07 0-2.86zM5.41 20L4 18.59l7.72-7.72 1.47 1.35L5.41 20z\"/>\n",
              "  </svg>\n",
              "      </button>\n",
              "      \n",
              "  <style>\n",
              "    .colab-df-container {\n",
              "      display:flex;\n",
              "      flex-wrap:wrap;\n",
              "      gap: 12px;\n",
              "    }\n",
              "\n",
              "    .colab-df-convert {\n",
              "      background-color: #E8F0FE;\n",
              "      border: none;\n",
              "      border-radius: 50%;\n",
              "      cursor: pointer;\n",
              "      display: none;\n",
              "      fill: #1967D2;\n",
              "      height: 32px;\n",
              "      padding: 0 0 0 0;\n",
              "      width: 32px;\n",
              "    }\n",
              "\n",
              "    .colab-df-convert:hover {\n",
              "      background-color: #E2EBFA;\n",
              "      box-shadow: 0px 1px 2px rgba(60, 64, 67, 0.3), 0px 1px 3px 1px rgba(60, 64, 67, 0.15);\n",
              "      fill: #174EA6;\n",
              "    }\n",
              "\n",
              "    [theme=dark] .colab-df-convert {\n",
              "      background-color: #3B4455;\n",
              "      fill: #D2E3FC;\n",
              "    }\n",
              "\n",
              "    [theme=dark] .colab-df-convert:hover {\n",
              "      background-color: #434B5C;\n",
              "      box-shadow: 0px 1px 3px 1px rgba(0, 0, 0, 0.15);\n",
              "      filter: drop-shadow(0px 1px 2px rgba(0, 0, 0, 0.3));\n",
              "      fill: #FFFFFF;\n",
              "    }\n",
              "  </style>\n",
              "\n",
              "      <script>\n",
              "        const buttonEl =\n",
              "          document.querySelector('#df-9f904a4e-6752-4c62-a07e-c9fbd0f90697 button.colab-df-convert');\n",
              "        buttonEl.style.display =\n",
              "          google.colab.kernel.accessAllowed ? 'block' : 'none';\n",
              "\n",
              "        async function convertToInteractive(key) {\n",
              "          const element = document.querySelector('#df-9f904a4e-6752-4c62-a07e-c9fbd0f90697');\n",
              "          const dataTable =\n",
              "            await google.colab.kernel.invokeFunction('convertToInteractive',\n",
              "                                                     [key], {});\n",
              "          if (!dataTable) return;\n",
              "\n",
              "          const docLinkHtml = 'Like what you see? Visit the ' +\n",
              "            '<a target=\"_blank\" href=https://colab.research.google.com/notebooks/data_table.ipynb>data table notebook</a>'\n",
              "            + ' to learn more about interactive tables.';\n",
              "          element.innerHTML = '';\n",
              "          dataTable['output_type'] = 'display_data';\n",
              "          await google.colab.output.renderOutput(dataTable, element);\n",
              "          const docLink = document.createElement('div');\n",
              "          docLink.innerHTML = docLinkHtml;\n",
              "          element.appendChild(docLink);\n",
              "        }\n",
              "      </script>\n",
              "    </div>\n",
              "  </div>\n",
              "  "
            ]
          },
          "metadata": {},
          "execution_count": 42
        }
      ]
    },
    {
      "cell_type": "code",
      "source": [
        "# Busca de registro com dados similares para imputação de valor\n",
        "df[(df['Comprimento'] == 157.30) & (df['Largura'] == 63.80) & (df['Altura'] == 50.60)]"
      ],
      "metadata": {
        "colab": {
          "base_uri": "https://localhost:8080/",
          "height": 0
        },
        "id": "iqPyI7v9HCbs",
        "outputId": "4a40a3d8-94cc-43c1-816c-e1f781ec02d0"
      },
      "execution_count": 43,
      "outputs": [
        {
          "output_type": "execute_result",
          "data": {
            "text/plain": [
              "    Fabricante Combustível  Portas Estilo Chassis     Tração  Comprimento  \\\n",
              "23       dodge         gas     4.0          hatch  dianteira        157.3   \n",
              "24       dodge         gas     4.0          sedan  dianteira        157.3   \n",
              "25       dodge         gas     4.0          sedan  dianteira        157.3   \n",
              "26       dodge         gas     NaN          sedan  dianteira        157.3   \n",
              "118   plymouth         gas     4.0          hatch  dianteira        157.3   \n",
              "\n",
              "     Largura  Altura Tipo de motor Número de cilindros Tamanho do motor  \\\n",
              "23      63.8    50.6           ohc                   4            90,00   \n",
              "24      63.8    50.6           ohc                   4            90,00   \n",
              "25      63.8    50.6           ohc                   4            90,00   \n",
              "26      63.8    50.6           ohc                   4            98,00   \n",
              "118     63.8    50.6           ohc                   4            90,00   \n",
              "\n",
              "    Tipo de injeção Potência (HP) Pico RPM    Preço  \n",
              "23             2bbl         68,00  5500,00  6229,00  \n",
              "24             2bbl         68,00  5500,00  6692,00  \n",
              "25             2bbl         68,00  5500,00  7609,00  \n",
              "26             mpfi        102,00  5500,00  8558,00  \n",
              "118            2bbl         68,00  5500,00  6229,00  "
            ],
            "text/html": [
              "\n",
              "  <div id=\"df-60f87635-12a2-4899-9d39-546bfe543ad4\">\n",
              "    <div class=\"colab-df-container\">\n",
              "      <div>\n",
              "<style scoped>\n",
              "    .dataframe tbody tr th:only-of-type {\n",
              "        vertical-align: middle;\n",
              "    }\n",
              "\n",
              "    .dataframe tbody tr th {\n",
              "        vertical-align: top;\n",
              "    }\n",
              "\n",
              "    .dataframe thead th {\n",
              "        text-align: right;\n",
              "    }\n",
              "</style>\n",
              "<table border=\"1\" class=\"dataframe\">\n",
              "  <thead>\n",
              "    <tr style=\"text-align: right;\">\n",
              "      <th></th>\n",
              "      <th>Fabricante</th>\n",
              "      <th>Combustível</th>\n",
              "      <th>Portas</th>\n",
              "      <th>Estilo Chassis</th>\n",
              "      <th>Tração</th>\n",
              "      <th>Comprimento</th>\n",
              "      <th>Largura</th>\n",
              "      <th>Altura</th>\n",
              "      <th>Tipo de motor</th>\n",
              "      <th>Número de cilindros</th>\n",
              "      <th>Tamanho do motor</th>\n",
              "      <th>Tipo de injeção</th>\n",
              "      <th>Potência (HP)</th>\n",
              "      <th>Pico RPM</th>\n",
              "      <th>Preço</th>\n",
              "    </tr>\n",
              "  </thead>\n",
              "  <tbody>\n",
              "    <tr>\n",
              "      <th>23</th>\n",
              "      <td>dodge</td>\n",
              "      <td>gas</td>\n",
              "      <td>4.0</td>\n",
              "      <td>hatch</td>\n",
              "      <td>dianteira</td>\n",
              "      <td>157.3</td>\n",
              "      <td>63.8</td>\n",
              "      <td>50.6</td>\n",
              "      <td>ohc</td>\n",
              "      <td>4</td>\n",
              "      <td>90,00</td>\n",
              "      <td>2bbl</td>\n",
              "      <td>68,00</td>\n",
              "      <td>5500,00</td>\n",
              "      <td>6229,00</td>\n",
              "    </tr>\n",
              "    <tr>\n",
              "      <th>24</th>\n",
              "      <td>dodge</td>\n",
              "      <td>gas</td>\n",
              "      <td>4.0</td>\n",
              "      <td>sedan</td>\n",
              "      <td>dianteira</td>\n",
              "      <td>157.3</td>\n",
              "      <td>63.8</td>\n",
              "      <td>50.6</td>\n",
              "      <td>ohc</td>\n",
              "      <td>4</td>\n",
              "      <td>90,00</td>\n",
              "      <td>2bbl</td>\n",
              "      <td>68,00</td>\n",
              "      <td>5500,00</td>\n",
              "      <td>6692,00</td>\n",
              "    </tr>\n",
              "    <tr>\n",
              "      <th>25</th>\n",
              "      <td>dodge</td>\n",
              "      <td>gas</td>\n",
              "      <td>4.0</td>\n",
              "      <td>sedan</td>\n",
              "      <td>dianteira</td>\n",
              "      <td>157.3</td>\n",
              "      <td>63.8</td>\n",
              "      <td>50.6</td>\n",
              "      <td>ohc</td>\n",
              "      <td>4</td>\n",
              "      <td>90,00</td>\n",
              "      <td>2bbl</td>\n",
              "      <td>68,00</td>\n",
              "      <td>5500,00</td>\n",
              "      <td>7609,00</td>\n",
              "    </tr>\n",
              "    <tr>\n",
              "      <th>26</th>\n",
              "      <td>dodge</td>\n",
              "      <td>gas</td>\n",
              "      <td>NaN</td>\n",
              "      <td>sedan</td>\n",
              "      <td>dianteira</td>\n",
              "      <td>157.3</td>\n",
              "      <td>63.8</td>\n",
              "      <td>50.6</td>\n",
              "      <td>ohc</td>\n",
              "      <td>4</td>\n",
              "      <td>98,00</td>\n",
              "      <td>mpfi</td>\n",
              "      <td>102,00</td>\n",
              "      <td>5500,00</td>\n",
              "      <td>8558,00</td>\n",
              "    </tr>\n",
              "    <tr>\n",
              "      <th>118</th>\n",
              "      <td>plymouth</td>\n",
              "      <td>gas</td>\n",
              "      <td>4.0</td>\n",
              "      <td>hatch</td>\n",
              "      <td>dianteira</td>\n",
              "      <td>157.3</td>\n",
              "      <td>63.8</td>\n",
              "      <td>50.6</td>\n",
              "      <td>ohc</td>\n",
              "      <td>4</td>\n",
              "      <td>90,00</td>\n",
              "      <td>2bbl</td>\n",
              "      <td>68,00</td>\n",
              "      <td>5500,00</td>\n",
              "      <td>6229,00</td>\n",
              "    </tr>\n",
              "  </tbody>\n",
              "</table>\n",
              "</div>\n",
              "      <button class=\"colab-df-convert\" onclick=\"convertToInteractive('df-60f87635-12a2-4899-9d39-546bfe543ad4')\"\n",
              "              title=\"Convert this dataframe to an interactive table.\"\n",
              "              style=\"display:none;\">\n",
              "        \n",
              "  <svg xmlns=\"http://www.w3.org/2000/svg\" height=\"24px\"viewBox=\"0 0 24 24\"\n",
              "       width=\"24px\">\n",
              "    <path d=\"M0 0h24v24H0V0z\" fill=\"none\"/>\n",
              "    <path d=\"M18.56 5.44l.94 2.06.94-2.06 2.06-.94-2.06-.94-.94-2.06-.94 2.06-2.06.94zm-11 1L8.5 8.5l.94-2.06 2.06-.94-2.06-.94L8.5 2.5l-.94 2.06-2.06.94zm10 10l.94 2.06.94-2.06 2.06-.94-2.06-.94-.94-2.06-.94 2.06-2.06.94z\"/><path d=\"M17.41 7.96l-1.37-1.37c-.4-.4-.92-.59-1.43-.59-.52 0-1.04.2-1.43.59L10.3 9.45l-7.72 7.72c-.78.78-.78 2.05 0 2.83L4 21.41c.39.39.9.59 1.41.59.51 0 1.02-.2 1.41-.59l7.78-7.78 2.81-2.81c.8-.78.8-2.07 0-2.86zM5.41 20L4 18.59l7.72-7.72 1.47 1.35L5.41 20z\"/>\n",
              "  </svg>\n",
              "      </button>\n",
              "      \n",
              "  <style>\n",
              "    .colab-df-container {\n",
              "      display:flex;\n",
              "      flex-wrap:wrap;\n",
              "      gap: 12px;\n",
              "    }\n",
              "\n",
              "    .colab-df-convert {\n",
              "      background-color: #E8F0FE;\n",
              "      border: none;\n",
              "      border-radius: 50%;\n",
              "      cursor: pointer;\n",
              "      display: none;\n",
              "      fill: #1967D2;\n",
              "      height: 32px;\n",
              "      padding: 0 0 0 0;\n",
              "      width: 32px;\n",
              "    }\n",
              "\n",
              "    .colab-df-convert:hover {\n",
              "      background-color: #E2EBFA;\n",
              "      box-shadow: 0px 1px 2px rgba(60, 64, 67, 0.3), 0px 1px 3px 1px rgba(60, 64, 67, 0.15);\n",
              "      fill: #174EA6;\n",
              "    }\n",
              "\n",
              "    [theme=dark] .colab-df-convert {\n",
              "      background-color: #3B4455;\n",
              "      fill: #D2E3FC;\n",
              "    }\n",
              "\n",
              "    [theme=dark] .colab-df-convert:hover {\n",
              "      background-color: #434B5C;\n",
              "      box-shadow: 0px 1px 3px 1px rgba(0, 0, 0, 0.15);\n",
              "      filter: drop-shadow(0px 1px 2px rgba(0, 0, 0, 0.3));\n",
              "      fill: #FFFFFF;\n",
              "    }\n",
              "  </style>\n",
              "\n",
              "      <script>\n",
              "        const buttonEl =\n",
              "          document.querySelector('#df-60f87635-12a2-4899-9d39-546bfe543ad4 button.colab-df-convert');\n",
              "        buttonEl.style.display =\n",
              "          google.colab.kernel.accessAllowed ? 'block' : 'none';\n",
              "\n",
              "        async function convertToInteractive(key) {\n",
              "          const element = document.querySelector('#df-60f87635-12a2-4899-9d39-546bfe543ad4');\n",
              "          const dataTable =\n",
              "            await google.colab.kernel.invokeFunction('convertToInteractive',\n",
              "                                                     [key], {});\n",
              "          if (!dataTable) return;\n",
              "\n",
              "          const docLinkHtml = 'Like what you see? Visit the ' +\n",
              "            '<a target=\"_blank\" href=https://colab.research.google.com/notebooks/data_table.ipynb>data table notebook</a>'\n",
              "            + ' to learn more about interactive tables.';\n",
              "          element.innerHTML = '';\n",
              "          dataTable['output_type'] = 'display_data';\n",
              "          await google.colab.output.renderOutput(dataTable, element);\n",
              "          const docLink = document.createElement('div');\n",
              "          docLink.innerHTML = docLinkHtml;\n",
              "          element.appendChild(docLink);\n",
              "        }\n",
              "      </script>\n",
              "    </div>\n",
              "  </div>\n",
              "  "
            ]
          },
          "metadata": {},
          "execution_count": 43
        }
      ]
    },
    {
      "cell_type": "code",
      "source": [
        "# Imputação de valor\n",
        "df.loc[26, 'Portas'] = 4"
      ],
      "metadata": {
        "id": "fzYirhFuHKww"
      },
      "execution_count": 44,
      "outputs": []
    },
    {
      "cell_type": "code",
      "source": [
        "# Busca de registro com dados similares para imputação de valor\n",
        "df[(df['Comprimento'] == 177.80) & (df['Largura'] == 66.50) & (df['Altura'] == 55.50)]"
      ],
      "metadata": {
        "colab": {
          "base_uri": "https://localhost:8080/",
          "height": 0
        },
        "id": "BlDs79j1HW8p",
        "outputId": "4efb8b4f-a603-4365-d1c7-7cd4342da4c5"
      },
      "execution_count": 45,
      "outputs": [
        {
          "output_type": "execute_result",
          "data": {
            "text/plain": [
              "   Fabricante Combustível  Portas Estilo Chassis     Tração  Comprimento  \\\n",
              "58      mazda         gas     4.0          sedan  dianteira        177.8   \n",
              "60      mazda         gas     4.0          sedan  dianteira        177.8   \n",
              "61      mazda      diesel     NaN          sedan  dianteira        177.8   \n",
              "62      mazda         gas     4.0          hatch  dianteira        177.8   \n",
              "\n",
              "    Largura  Altura Tipo de motor Número de cilindros Tamanho do motor  \\\n",
              "58     66.5    55.5           ohc                   4           122,00   \n",
              "60     66.5    55.5           ohc                   4           122,00   \n",
              "61     66.5    55.5           ohc                   4           122,00   \n",
              "62     66.5    55.5           ohc                   4           122,00   \n",
              "\n",
              "   Tipo de injeção Potência (HP) Pico RPM     Preço  \n",
              "58            2bbl         84,00  4800,00   8495,00  \n",
              "60            2bbl         84,00  4800,00  10245,00  \n",
              "61             idi         64,00  4650,00  10795,00  \n",
              "62            2bbl         84,00  4800,00  11245,00  "
            ],
            "text/html": [
              "\n",
              "  <div id=\"df-a20aa486-a184-4106-b7a5-4f023873b84c\">\n",
              "    <div class=\"colab-df-container\">\n",
              "      <div>\n",
              "<style scoped>\n",
              "    .dataframe tbody tr th:only-of-type {\n",
              "        vertical-align: middle;\n",
              "    }\n",
              "\n",
              "    .dataframe tbody tr th {\n",
              "        vertical-align: top;\n",
              "    }\n",
              "\n",
              "    .dataframe thead th {\n",
              "        text-align: right;\n",
              "    }\n",
              "</style>\n",
              "<table border=\"1\" class=\"dataframe\">\n",
              "  <thead>\n",
              "    <tr style=\"text-align: right;\">\n",
              "      <th></th>\n",
              "      <th>Fabricante</th>\n",
              "      <th>Combustível</th>\n",
              "      <th>Portas</th>\n",
              "      <th>Estilo Chassis</th>\n",
              "      <th>Tração</th>\n",
              "      <th>Comprimento</th>\n",
              "      <th>Largura</th>\n",
              "      <th>Altura</th>\n",
              "      <th>Tipo de motor</th>\n",
              "      <th>Número de cilindros</th>\n",
              "      <th>Tamanho do motor</th>\n",
              "      <th>Tipo de injeção</th>\n",
              "      <th>Potência (HP)</th>\n",
              "      <th>Pico RPM</th>\n",
              "      <th>Preço</th>\n",
              "    </tr>\n",
              "  </thead>\n",
              "  <tbody>\n",
              "    <tr>\n",
              "      <th>58</th>\n",
              "      <td>mazda</td>\n",
              "      <td>gas</td>\n",
              "      <td>4.0</td>\n",
              "      <td>sedan</td>\n",
              "      <td>dianteira</td>\n",
              "      <td>177.8</td>\n",
              "      <td>66.5</td>\n",
              "      <td>55.5</td>\n",
              "      <td>ohc</td>\n",
              "      <td>4</td>\n",
              "      <td>122,00</td>\n",
              "      <td>2bbl</td>\n",
              "      <td>84,00</td>\n",
              "      <td>4800,00</td>\n",
              "      <td>8495,00</td>\n",
              "    </tr>\n",
              "    <tr>\n",
              "      <th>60</th>\n",
              "      <td>mazda</td>\n",
              "      <td>gas</td>\n",
              "      <td>4.0</td>\n",
              "      <td>sedan</td>\n",
              "      <td>dianteira</td>\n",
              "      <td>177.8</td>\n",
              "      <td>66.5</td>\n",
              "      <td>55.5</td>\n",
              "      <td>ohc</td>\n",
              "      <td>4</td>\n",
              "      <td>122,00</td>\n",
              "      <td>2bbl</td>\n",
              "      <td>84,00</td>\n",
              "      <td>4800,00</td>\n",
              "      <td>10245,00</td>\n",
              "    </tr>\n",
              "    <tr>\n",
              "      <th>61</th>\n",
              "      <td>mazda</td>\n",
              "      <td>diesel</td>\n",
              "      <td>NaN</td>\n",
              "      <td>sedan</td>\n",
              "      <td>dianteira</td>\n",
              "      <td>177.8</td>\n",
              "      <td>66.5</td>\n",
              "      <td>55.5</td>\n",
              "      <td>ohc</td>\n",
              "      <td>4</td>\n",
              "      <td>122,00</td>\n",
              "      <td>idi</td>\n",
              "      <td>64,00</td>\n",
              "      <td>4650,00</td>\n",
              "      <td>10795,00</td>\n",
              "    </tr>\n",
              "    <tr>\n",
              "      <th>62</th>\n",
              "      <td>mazda</td>\n",
              "      <td>gas</td>\n",
              "      <td>4.0</td>\n",
              "      <td>hatch</td>\n",
              "      <td>dianteira</td>\n",
              "      <td>177.8</td>\n",
              "      <td>66.5</td>\n",
              "      <td>55.5</td>\n",
              "      <td>ohc</td>\n",
              "      <td>4</td>\n",
              "      <td>122,00</td>\n",
              "      <td>2bbl</td>\n",
              "      <td>84,00</td>\n",
              "      <td>4800,00</td>\n",
              "      <td>11245,00</td>\n",
              "    </tr>\n",
              "  </tbody>\n",
              "</table>\n",
              "</div>\n",
              "      <button class=\"colab-df-convert\" onclick=\"convertToInteractive('df-a20aa486-a184-4106-b7a5-4f023873b84c')\"\n",
              "              title=\"Convert this dataframe to an interactive table.\"\n",
              "              style=\"display:none;\">\n",
              "        \n",
              "  <svg xmlns=\"http://www.w3.org/2000/svg\" height=\"24px\"viewBox=\"0 0 24 24\"\n",
              "       width=\"24px\">\n",
              "    <path d=\"M0 0h24v24H0V0z\" fill=\"none\"/>\n",
              "    <path d=\"M18.56 5.44l.94 2.06.94-2.06 2.06-.94-2.06-.94-.94-2.06-.94 2.06-2.06.94zm-11 1L8.5 8.5l.94-2.06 2.06-.94-2.06-.94L8.5 2.5l-.94 2.06-2.06.94zm10 10l.94 2.06.94-2.06 2.06-.94-2.06-.94-.94-2.06-.94 2.06-2.06.94z\"/><path d=\"M17.41 7.96l-1.37-1.37c-.4-.4-.92-.59-1.43-.59-.52 0-1.04.2-1.43.59L10.3 9.45l-7.72 7.72c-.78.78-.78 2.05 0 2.83L4 21.41c.39.39.9.59 1.41.59.51 0 1.02-.2 1.41-.59l7.78-7.78 2.81-2.81c.8-.78.8-2.07 0-2.86zM5.41 20L4 18.59l7.72-7.72 1.47 1.35L5.41 20z\"/>\n",
              "  </svg>\n",
              "      </button>\n",
              "      \n",
              "  <style>\n",
              "    .colab-df-container {\n",
              "      display:flex;\n",
              "      flex-wrap:wrap;\n",
              "      gap: 12px;\n",
              "    }\n",
              "\n",
              "    .colab-df-convert {\n",
              "      background-color: #E8F0FE;\n",
              "      border: none;\n",
              "      border-radius: 50%;\n",
              "      cursor: pointer;\n",
              "      display: none;\n",
              "      fill: #1967D2;\n",
              "      height: 32px;\n",
              "      padding: 0 0 0 0;\n",
              "      width: 32px;\n",
              "    }\n",
              "\n",
              "    .colab-df-convert:hover {\n",
              "      background-color: #E2EBFA;\n",
              "      box-shadow: 0px 1px 2px rgba(60, 64, 67, 0.3), 0px 1px 3px 1px rgba(60, 64, 67, 0.15);\n",
              "      fill: #174EA6;\n",
              "    }\n",
              "\n",
              "    [theme=dark] .colab-df-convert {\n",
              "      background-color: #3B4455;\n",
              "      fill: #D2E3FC;\n",
              "    }\n",
              "\n",
              "    [theme=dark] .colab-df-convert:hover {\n",
              "      background-color: #434B5C;\n",
              "      box-shadow: 0px 1px 3px 1px rgba(0, 0, 0, 0.15);\n",
              "      filter: drop-shadow(0px 1px 2px rgba(0, 0, 0, 0.3));\n",
              "      fill: #FFFFFF;\n",
              "    }\n",
              "  </style>\n",
              "\n",
              "      <script>\n",
              "        const buttonEl =\n",
              "          document.querySelector('#df-a20aa486-a184-4106-b7a5-4f023873b84c button.colab-df-convert');\n",
              "        buttonEl.style.display =\n",
              "          google.colab.kernel.accessAllowed ? 'block' : 'none';\n",
              "\n",
              "        async function convertToInteractive(key) {\n",
              "          const element = document.querySelector('#df-a20aa486-a184-4106-b7a5-4f023873b84c');\n",
              "          const dataTable =\n",
              "            await google.colab.kernel.invokeFunction('convertToInteractive',\n",
              "                                                     [key], {});\n",
              "          if (!dataTable) return;\n",
              "\n",
              "          const docLinkHtml = 'Like what you see? Visit the ' +\n",
              "            '<a target=\"_blank\" href=https://colab.research.google.com/notebooks/data_table.ipynb>data table notebook</a>'\n",
              "            + ' to learn more about interactive tables.';\n",
              "          element.innerHTML = '';\n",
              "          dataTable['output_type'] = 'display_data';\n",
              "          await google.colab.output.renderOutput(dataTable, element);\n",
              "          const docLink = document.createElement('div');\n",
              "          docLink.innerHTML = docLinkHtml;\n",
              "          element.appendChild(docLink);\n",
              "        }\n",
              "      </script>\n",
              "    </div>\n",
              "  </div>\n",
              "  "
            ]
          },
          "metadata": {},
          "execution_count": 45
        }
      ]
    },
    {
      "cell_type": "code",
      "source": [
        "# Imputação de valor\n",
        "df.loc[61, 'Portas'] = 4"
      ],
      "metadata": {
        "id": "ebHJIJL5HdkD"
      },
      "execution_count": 46,
      "outputs": []
    },
    {
      "cell_type": "code",
      "source": [
        "# Transformação dos dados em category\n",
        "df['Portas'] = df['Portas'].astype('int')\n",
        "df['Portas'] = df['Portas'].astype('category')"
      ],
      "metadata": {
        "id": "ywbvo9ACHivr"
      },
      "execution_count": 47,
      "outputs": []
    },
    {
      "cell_type": "code",
      "source": [
        "# Verificação dos dados\n",
        "df['Portas'].unique()"
      ],
      "metadata": {
        "colab": {
          "base_uri": "https://localhost:8080/"
        },
        "id": "iPQvCNBZXrRl",
        "outputId": "369dc677-12d4-4a8c-9068-e9754d6206e3"
      },
      "execution_count": 48,
      "outputs": [
        {
          "output_type": "execute_result",
          "data": {
            "text/plain": [
              "[2, 4]\n",
              "Categories (2, int64): [2, 4]"
            ]
          },
          "metadata": {},
          "execution_count": 48
        }
      ]
    },
    {
      "cell_type": "markdown",
      "source": [
        "## Campo Estilo Chassis"
      ],
      "metadata": {
        "id": "QJOHeQGBHvw9"
      }
    },
    {
      "cell_type": "markdown",
      "source": [
        "- Sem dados omissos ou inconsistentes"
      ],
      "metadata": {
        "id": "HgJQ5bC0ZD3E"
      }
    },
    {
      "cell_type": "code",
      "source": [
        "# Verificação dos dados\n",
        "df['Estilo Chassis'].unique()"
      ],
      "metadata": {
        "colab": {
          "base_uri": "https://localhost:8080/"
        },
        "id": "9h00JqnLHxzo",
        "outputId": "fb81e847-b457-40e4-b66d-ebc7501429fa"
      },
      "execution_count": 49,
      "outputs": [
        {
          "output_type": "execute_result",
          "data": {
            "text/plain": [
              "array(['conversível', 'hatch', 'sedan', 'suv', 'hardtop'], dtype=object)"
            ]
          },
          "metadata": {},
          "execution_count": 49
        }
      ]
    },
    {
      "cell_type": "markdown",
      "source": [
        "## Campo Tração"
      ],
      "metadata": {
        "id": "4wMgwzOXIBDT"
      }
    },
    {
      "cell_type": "markdown",
      "source": [
        "- Sem dados omissos ou inconsistentes"
      ],
      "metadata": {
        "id": "oIvSKMm2ZKyK"
      }
    },
    {
      "cell_type": "code",
      "source": [
        "# Verificação dos dados\n",
        "df['Tração'].unique()"
      ],
      "metadata": {
        "colab": {
          "base_uri": "https://localhost:8080/"
        },
        "id": "GnSjoIexH4EJ",
        "outputId": "587ccc84-eed6-4b80-e8e3-6cc22faf6dd4"
      },
      "execution_count": 50,
      "outputs": [
        {
          "output_type": "execute_result",
          "data": {
            "text/plain": [
              "array(['traseira', 'dianteira', '4x4'], dtype=object)"
            ]
          },
          "metadata": {},
          "execution_count": 50
        }
      ]
    },
    {
      "cell_type": "markdown",
      "source": [
        "## Campo Tipo de motor"
      ],
      "metadata": {
        "id": "adCcIcfTICMC"
      }
    },
    {
      "cell_type": "markdown",
      "source": [
        "- Sem dados omissos ou inconsistentes\n",
        "- Legenda:\n",
        "  - dohc - Dual OverHead Cam)\n",
        "  - dohcv - Dual OverHead Cam and Valve\n",
        "  - l - L engine\n",
        "  - ohc - OverHead Cam)\n",
        "  - ohcf - OverHead Cam and Valve F engine\n",
        "  - ohcv - OverHead Cam and Valve\n",
        "  - rotor - Rotary engine"
      ],
      "metadata": {
        "id": "hRGVWPuPZL7F"
      }
    },
    {
      "cell_type": "code",
      "source": [
        "# Verificação dos dados\n",
        "df['Tipo de motor'].unique()"
      ],
      "metadata": {
        "colab": {
          "base_uri": "https://localhost:8080/"
        },
        "id": "cuIVEY6nIGP6",
        "outputId": "c56446f2-be10-41c2-d5d2-c3604b4b9df9"
      },
      "execution_count": 51,
      "outputs": [
        {
          "output_type": "execute_result",
          "data": {
            "text/plain": [
              "array(['dohc', 'ohcv', 'ohc', 'l', 'rotor', 'ohcf', 'dohcv'], dtype=object)"
            ]
          },
          "metadata": {},
          "execution_count": 51
        }
      ]
    },
    {
      "cell_type": "markdown",
      "source": [
        "## Campo Número de cilindros"
      ],
      "metadata": {
        "id": "ABVINmpnKEHM"
      }
    },
    {
      "cell_type": "markdown",
      "source": [
        "- Com dados inconsistentes\n",
        "- Realizada substituição dos valores em extenso por algarismos\n",
        "- Realizada transformação de tipo para int"
      ],
      "metadata": {
        "id": "nw4IotBzaI_y"
      }
    },
    {
      "cell_type": "code",
      "source": [
        "# Verificação dos dados\n",
        "df['Número de cilindros'].unique()"
      ],
      "metadata": {
        "colab": {
          "base_uri": "https://localhost:8080/"
        },
        "id": "etd5JFpiJdgJ",
        "outputId": "d56544ec-50d4-475f-80cf-60b7517db4c9"
      },
      "execution_count": 52,
      "outputs": [
        {
          "output_type": "execute_result",
          "data": {
            "text/plain": [
              "array([4, 6, 5, 3, 'doze', 2, 'oito'], dtype=object)"
            ]
          },
          "metadata": {},
          "execution_count": 52
        }
      ]
    },
    {
      "cell_type": "code",
      "source": [
        "# Visualização dos dados inconsistentes\n",
        "df[df['Número de cilindros'] == 'doze']"
      ],
      "metadata": {
        "colab": {
          "base_uri": "https://localhost:8080/",
          "height": 0
        },
        "id": "b-hvQAApKO5S",
        "outputId": "b27f8980-b84f-47cd-8d93-1667da8bfbe8"
      },
      "execution_count": 53,
      "outputs": [
        {
          "output_type": "execute_result",
          "data": {
            "text/plain": [
              "   Fabricante Combustível Portas Estilo Chassis    Tração  Comprimento  \\\n",
              "48     jaguar         gas      2          sedan  traseira        191.7   \n",
              "\n",
              "    Largura  Altura Tipo de motor Número de cilindros Tamanho do motor  \\\n",
              "48     70.6    47.8          ohcv                doze           326,00   \n",
              "\n",
              "   Tipo de injeção Potência (HP) Pico RPM     Preço  \n",
              "48            mpfi        262,00  5000,00  36000,00  "
            ],
            "text/html": [
              "\n",
              "  <div id=\"df-ff1a079b-893e-4d25-8165-286c26c934f2\">\n",
              "    <div class=\"colab-df-container\">\n",
              "      <div>\n",
              "<style scoped>\n",
              "    .dataframe tbody tr th:only-of-type {\n",
              "        vertical-align: middle;\n",
              "    }\n",
              "\n",
              "    .dataframe tbody tr th {\n",
              "        vertical-align: top;\n",
              "    }\n",
              "\n",
              "    .dataframe thead th {\n",
              "        text-align: right;\n",
              "    }\n",
              "</style>\n",
              "<table border=\"1\" class=\"dataframe\">\n",
              "  <thead>\n",
              "    <tr style=\"text-align: right;\">\n",
              "      <th></th>\n",
              "      <th>Fabricante</th>\n",
              "      <th>Combustível</th>\n",
              "      <th>Portas</th>\n",
              "      <th>Estilo Chassis</th>\n",
              "      <th>Tração</th>\n",
              "      <th>Comprimento</th>\n",
              "      <th>Largura</th>\n",
              "      <th>Altura</th>\n",
              "      <th>Tipo de motor</th>\n",
              "      <th>Número de cilindros</th>\n",
              "      <th>Tamanho do motor</th>\n",
              "      <th>Tipo de injeção</th>\n",
              "      <th>Potência (HP)</th>\n",
              "      <th>Pico RPM</th>\n",
              "      <th>Preço</th>\n",
              "    </tr>\n",
              "  </thead>\n",
              "  <tbody>\n",
              "    <tr>\n",
              "      <th>48</th>\n",
              "      <td>jaguar</td>\n",
              "      <td>gas</td>\n",
              "      <td>2</td>\n",
              "      <td>sedan</td>\n",
              "      <td>traseira</td>\n",
              "      <td>191.7</td>\n",
              "      <td>70.6</td>\n",
              "      <td>47.8</td>\n",
              "      <td>ohcv</td>\n",
              "      <td>doze</td>\n",
              "      <td>326,00</td>\n",
              "      <td>mpfi</td>\n",
              "      <td>262,00</td>\n",
              "      <td>5000,00</td>\n",
              "      <td>36000,00</td>\n",
              "    </tr>\n",
              "  </tbody>\n",
              "</table>\n",
              "</div>\n",
              "      <button class=\"colab-df-convert\" onclick=\"convertToInteractive('df-ff1a079b-893e-4d25-8165-286c26c934f2')\"\n",
              "              title=\"Convert this dataframe to an interactive table.\"\n",
              "              style=\"display:none;\">\n",
              "        \n",
              "  <svg xmlns=\"http://www.w3.org/2000/svg\" height=\"24px\"viewBox=\"0 0 24 24\"\n",
              "       width=\"24px\">\n",
              "    <path d=\"M0 0h24v24H0V0z\" fill=\"none\"/>\n",
              "    <path d=\"M18.56 5.44l.94 2.06.94-2.06 2.06-.94-2.06-.94-.94-2.06-.94 2.06-2.06.94zm-11 1L8.5 8.5l.94-2.06 2.06-.94-2.06-.94L8.5 2.5l-.94 2.06-2.06.94zm10 10l.94 2.06.94-2.06 2.06-.94-2.06-.94-.94-2.06-.94 2.06-2.06.94z\"/><path d=\"M17.41 7.96l-1.37-1.37c-.4-.4-.92-.59-1.43-.59-.52 0-1.04.2-1.43.59L10.3 9.45l-7.72 7.72c-.78.78-.78 2.05 0 2.83L4 21.41c.39.39.9.59 1.41.59.51 0 1.02-.2 1.41-.59l7.78-7.78 2.81-2.81c.8-.78.8-2.07 0-2.86zM5.41 20L4 18.59l7.72-7.72 1.47 1.35L5.41 20z\"/>\n",
              "  </svg>\n",
              "      </button>\n",
              "      \n",
              "  <style>\n",
              "    .colab-df-container {\n",
              "      display:flex;\n",
              "      flex-wrap:wrap;\n",
              "      gap: 12px;\n",
              "    }\n",
              "\n",
              "    .colab-df-convert {\n",
              "      background-color: #E8F0FE;\n",
              "      border: none;\n",
              "      border-radius: 50%;\n",
              "      cursor: pointer;\n",
              "      display: none;\n",
              "      fill: #1967D2;\n",
              "      height: 32px;\n",
              "      padding: 0 0 0 0;\n",
              "      width: 32px;\n",
              "    }\n",
              "\n",
              "    .colab-df-convert:hover {\n",
              "      background-color: #E2EBFA;\n",
              "      box-shadow: 0px 1px 2px rgba(60, 64, 67, 0.3), 0px 1px 3px 1px rgba(60, 64, 67, 0.15);\n",
              "      fill: #174EA6;\n",
              "    }\n",
              "\n",
              "    [theme=dark] .colab-df-convert {\n",
              "      background-color: #3B4455;\n",
              "      fill: #D2E3FC;\n",
              "    }\n",
              "\n",
              "    [theme=dark] .colab-df-convert:hover {\n",
              "      background-color: #434B5C;\n",
              "      box-shadow: 0px 1px 3px 1px rgba(0, 0, 0, 0.15);\n",
              "      filter: drop-shadow(0px 1px 2px rgba(0, 0, 0, 0.3));\n",
              "      fill: #FFFFFF;\n",
              "    }\n",
              "  </style>\n",
              "\n",
              "      <script>\n",
              "        const buttonEl =\n",
              "          document.querySelector('#df-ff1a079b-893e-4d25-8165-286c26c934f2 button.colab-df-convert');\n",
              "        buttonEl.style.display =\n",
              "          google.colab.kernel.accessAllowed ? 'block' : 'none';\n",
              "\n",
              "        async function convertToInteractive(key) {\n",
              "          const element = document.querySelector('#df-ff1a079b-893e-4d25-8165-286c26c934f2');\n",
              "          const dataTable =\n",
              "            await google.colab.kernel.invokeFunction('convertToInteractive',\n",
              "                                                     [key], {});\n",
              "          if (!dataTable) return;\n",
              "\n",
              "          const docLinkHtml = 'Like what you see? Visit the ' +\n",
              "            '<a target=\"_blank\" href=https://colab.research.google.com/notebooks/data_table.ipynb>data table notebook</a>'\n",
              "            + ' to learn more about interactive tables.';\n",
              "          element.innerHTML = '';\n",
              "          dataTable['output_type'] = 'display_data';\n",
              "          await google.colab.output.renderOutput(dataTable, element);\n",
              "          const docLink = document.createElement('div');\n",
              "          docLink.innerHTML = docLinkHtml;\n",
              "          element.appendChild(docLink);\n",
              "        }\n",
              "      </script>\n",
              "    </div>\n",
              "  </div>\n",
              "  "
            ]
          },
          "metadata": {},
          "execution_count": 53
        }
      ]
    },
    {
      "cell_type": "code",
      "source": [
        "# Substituição dos dados inconsistentes\n",
        "df['Número de cilindros'] = df['Número de cilindros'].astype('string')\n",
        "df['Número de cilindros'] = df['Número de cilindros'].str.replace('doze', '12')"
      ],
      "metadata": {
        "id": "VDksKGaOKngJ"
      },
      "execution_count": 54,
      "outputs": []
    },
    {
      "cell_type": "code",
      "source": [
        "# Visualização dos dados inconsistentes\n",
        "df[df['Número de cilindros'] == 'oito']"
      ],
      "metadata": {
        "colab": {
          "base_uri": "https://localhost:8080/",
          "height": 0
        },
        "id": "7mrhrQEtKcd8",
        "outputId": "6e5d555e-2353-4782-cb5c-6bf225068620"
      },
      "execution_count": 55,
      "outputs": [
        {
          "output_type": "execute_result",
          "data": {
            "text/plain": [
              "        Fabricante Combustível Portas Estilo Chassis    Tração  Comprimento  \\\n",
              "69   mercedes-benz         gas      4          sedan  traseira        202.6   \n",
              "70   mercedes-benz         gas      2    conversível  traseira        180.3   \n",
              "71   mercedes-benz         gas      4          sedan  traseira        208.1   \n",
              "72   mercedes-benz         gas      2        hardtop  traseira        199.2   \n",
              "127        porsche         gas      2          hatch  traseira        175.7   \n",
              "\n",
              "     Largura  Altura Tipo de motor Número de cilindros Tamanho do motor  \\\n",
              "69      71.7    56.5          ohcv                oito           234,00   \n",
              "70      70.5    50.8          ohcv                oito           234,00   \n",
              "71      71.7    56.7          ohcv                oito           308,00   \n",
              "72      72.0    55.4          ohcv                oito           304,00   \n",
              "127     72.3    50.5         dohcv                oito           203,00   \n",
              "\n",
              "    Tipo de injeção Potência (HP) Pico RPM     Preço  \n",
              "69             mpfi        155,00  4750,00  34184,00  \n",
              "70             mpfi        155,00  4750,00  35056,00  \n",
              "71             mpfi        184,00  4500,00  40960,00  \n",
              "72             mpfi        184,00  4500,00  45400,00  \n",
              "127            mpfi        288,00  5750,00  13207,13  "
            ],
            "text/html": [
              "\n",
              "  <div id=\"df-c09b5394-3c7b-4719-b60a-89b372b74fdd\">\n",
              "    <div class=\"colab-df-container\">\n",
              "      <div>\n",
              "<style scoped>\n",
              "    .dataframe tbody tr th:only-of-type {\n",
              "        vertical-align: middle;\n",
              "    }\n",
              "\n",
              "    .dataframe tbody tr th {\n",
              "        vertical-align: top;\n",
              "    }\n",
              "\n",
              "    .dataframe thead th {\n",
              "        text-align: right;\n",
              "    }\n",
              "</style>\n",
              "<table border=\"1\" class=\"dataframe\">\n",
              "  <thead>\n",
              "    <tr style=\"text-align: right;\">\n",
              "      <th></th>\n",
              "      <th>Fabricante</th>\n",
              "      <th>Combustível</th>\n",
              "      <th>Portas</th>\n",
              "      <th>Estilo Chassis</th>\n",
              "      <th>Tração</th>\n",
              "      <th>Comprimento</th>\n",
              "      <th>Largura</th>\n",
              "      <th>Altura</th>\n",
              "      <th>Tipo de motor</th>\n",
              "      <th>Número de cilindros</th>\n",
              "      <th>Tamanho do motor</th>\n",
              "      <th>Tipo de injeção</th>\n",
              "      <th>Potência (HP)</th>\n",
              "      <th>Pico RPM</th>\n",
              "      <th>Preço</th>\n",
              "    </tr>\n",
              "  </thead>\n",
              "  <tbody>\n",
              "    <tr>\n",
              "      <th>69</th>\n",
              "      <td>mercedes-benz</td>\n",
              "      <td>gas</td>\n",
              "      <td>4</td>\n",
              "      <td>sedan</td>\n",
              "      <td>traseira</td>\n",
              "      <td>202.6</td>\n",
              "      <td>71.7</td>\n",
              "      <td>56.5</td>\n",
              "      <td>ohcv</td>\n",
              "      <td>oito</td>\n",
              "      <td>234,00</td>\n",
              "      <td>mpfi</td>\n",
              "      <td>155,00</td>\n",
              "      <td>4750,00</td>\n",
              "      <td>34184,00</td>\n",
              "    </tr>\n",
              "    <tr>\n",
              "      <th>70</th>\n",
              "      <td>mercedes-benz</td>\n",
              "      <td>gas</td>\n",
              "      <td>2</td>\n",
              "      <td>conversível</td>\n",
              "      <td>traseira</td>\n",
              "      <td>180.3</td>\n",
              "      <td>70.5</td>\n",
              "      <td>50.8</td>\n",
              "      <td>ohcv</td>\n",
              "      <td>oito</td>\n",
              "      <td>234,00</td>\n",
              "      <td>mpfi</td>\n",
              "      <td>155,00</td>\n",
              "      <td>4750,00</td>\n",
              "      <td>35056,00</td>\n",
              "    </tr>\n",
              "    <tr>\n",
              "      <th>71</th>\n",
              "      <td>mercedes-benz</td>\n",
              "      <td>gas</td>\n",
              "      <td>4</td>\n",
              "      <td>sedan</td>\n",
              "      <td>traseira</td>\n",
              "      <td>208.1</td>\n",
              "      <td>71.7</td>\n",
              "      <td>56.7</td>\n",
              "      <td>ohcv</td>\n",
              "      <td>oito</td>\n",
              "      <td>308,00</td>\n",
              "      <td>mpfi</td>\n",
              "      <td>184,00</td>\n",
              "      <td>4500,00</td>\n",
              "      <td>40960,00</td>\n",
              "    </tr>\n",
              "    <tr>\n",
              "      <th>72</th>\n",
              "      <td>mercedes-benz</td>\n",
              "      <td>gas</td>\n",
              "      <td>2</td>\n",
              "      <td>hardtop</td>\n",
              "      <td>traseira</td>\n",
              "      <td>199.2</td>\n",
              "      <td>72.0</td>\n",
              "      <td>55.4</td>\n",
              "      <td>ohcv</td>\n",
              "      <td>oito</td>\n",
              "      <td>304,00</td>\n",
              "      <td>mpfi</td>\n",
              "      <td>184,00</td>\n",
              "      <td>4500,00</td>\n",
              "      <td>45400,00</td>\n",
              "    </tr>\n",
              "    <tr>\n",
              "      <th>127</th>\n",
              "      <td>porsche</td>\n",
              "      <td>gas</td>\n",
              "      <td>2</td>\n",
              "      <td>hatch</td>\n",
              "      <td>traseira</td>\n",
              "      <td>175.7</td>\n",
              "      <td>72.3</td>\n",
              "      <td>50.5</td>\n",
              "      <td>dohcv</td>\n",
              "      <td>oito</td>\n",
              "      <td>203,00</td>\n",
              "      <td>mpfi</td>\n",
              "      <td>288,00</td>\n",
              "      <td>5750,00</td>\n",
              "      <td>13207,13</td>\n",
              "    </tr>\n",
              "  </tbody>\n",
              "</table>\n",
              "</div>\n",
              "      <button class=\"colab-df-convert\" onclick=\"convertToInteractive('df-c09b5394-3c7b-4719-b60a-89b372b74fdd')\"\n",
              "              title=\"Convert this dataframe to an interactive table.\"\n",
              "              style=\"display:none;\">\n",
              "        \n",
              "  <svg xmlns=\"http://www.w3.org/2000/svg\" height=\"24px\"viewBox=\"0 0 24 24\"\n",
              "       width=\"24px\">\n",
              "    <path d=\"M0 0h24v24H0V0z\" fill=\"none\"/>\n",
              "    <path d=\"M18.56 5.44l.94 2.06.94-2.06 2.06-.94-2.06-.94-.94-2.06-.94 2.06-2.06.94zm-11 1L8.5 8.5l.94-2.06 2.06-.94-2.06-.94L8.5 2.5l-.94 2.06-2.06.94zm10 10l.94 2.06.94-2.06 2.06-.94-2.06-.94-.94-2.06-.94 2.06-2.06.94z\"/><path d=\"M17.41 7.96l-1.37-1.37c-.4-.4-.92-.59-1.43-.59-.52 0-1.04.2-1.43.59L10.3 9.45l-7.72 7.72c-.78.78-.78 2.05 0 2.83L4 21.41c.39.39.9.59 1.41.59.51 0 1.02-.2 1.41-.59l7.78-7.78 2.81-2.81c.8-.78.8-2.07 0-2.86zM5.41 20L4 18.59l7.72-7.72 1.47 1.35L5.41 20z\"/>\n",
              "  </svg>\n",
              "      </button>\n",
              "      \n",
              "  <style>\n",
              "    .colab-df-container {\n",
              "      display:flex;\n",
              "      flex-wrap:wrap;\n",
              "      gap: 12px;\n",
              "    }\n",
              "\n",
              "    .colab-df-convert {\n",
              "      background-color: #E8F0FE;\n",
              "      border: none;\n",
              "      border-radius: 50%;\n",
              "      cursor: pointer;\n",
              "      display: none;\n",
              "      fill: #1967D2;\n",
              "      height: 32px;\n",
              "      padding: 0 0 0 0;\n",
              "      width: 32px;\n",
              "    }\n",
              "\n",
              "    .colab-df-convert:hover {\n",
              "      background-color: #E2EBFA;\n",
              "      box-shadow: 0px 1px 2px rgba(60, 64, 67, 0.3), 0px 1px 3px 1px rgba(60, 64, 67, 0.15);\n",
              "      fill: #174EA6;\n",
              "    }\n",
              "\n",
              "    [theme=dark] .colab-df-convert {\n",
              "      background-color: #3B4455;\n",
              "      fill: #D2E3FC;\n",
              "    }\n",
              "\n",
              "    [theme=dark] .colab-df-convert:hover {\n",
              "      background-color: #434B5C;\n",
              "      box-shadow: 0px 1px 3px 1px rgba(0, 0, 0, 0.15);\n",
              "      filter: drop-shadow(0px 1px 2px rgba(0, 0, 0, 0.3));\n",
              "      fill: #FFFFFF;\n",
              "    }\n",
              "  </style>\n",
              "\n",
              "      <script>\n",
              "        const buttonEl =\n",
              "          document.querySelector('#df-c09b5394-3c7b-4719-b60a-89b372b74fdd button.colab-df-convert');\n",
              "        buttonEl.style.display =\n",
              "          google.colab.kernel.accessAllowed ? 'block' : 'none';\n",
              "\n",
              "        async function convertToInteractive(key) {\n",
              "          const element = document.querySelector('#df-c09b5394-3c7b-4719-b60a-89b372b74fdd');\n",
              "          const dataTable =\n",
              "            await google.colab.kernel.invokeFunction('convertToInteractive',\n",
              "                                                     [key], {});\n",
              "          if (!dataTable) return;\n",
              "\n",
              "          const docLinkHtml = 'Like what you see? Visit the ' +\n",
              "            '<a target=\"_blank\" href=https://colab.research.google.com/notebooks/data_table.ipynb>data table notebook</a>'\n",
              "            + ' to learn more about interactive tables.';\n",
              "          element.innerHTML = '';\n",
              "          dataTable['output_type'] = 'display_data';\n",
              "          await google.colab.output.renderOutput(dataTable, element);\n",
              "          const docLink = document.createElement('div');\n",
              "          docLink.innerHTML = docLinkHtml;\n",
              "          element.appendChild(docLink);\n",
              "        }\n",
              "      </script>\n",
              "    </div>\n",
              "  </div>\n",
              "  "
            ]
          },
          "metadata": {},
          "execution_count": 55
        }
      ]
    },
    {
      "cell_type": "code",
      "source": [
        "# Substituição dos dados inconsistentes\n",
        "df['Número de cilindros'] = df['Número de cilindros'].astype('string')\n",
        "df['Número de cilindros'] = df['Número de cilindros'].str.replace('oito', '8')"
      ],
      "metadata": {
        "id": "eKF2iyM3Kr24"
      },
      "execution_count": 56,
      "outputs": []
    },
    {
      "cell_type": "code",
      "source": [
        "# Transformação dos dados em int\n",
        "df['Número de cilindros'] = df['Número de cilindros'].astype('int')"
      ],
      "metadata": {
        "id": "FA7h4DtNKt3d"
      },
      "execution_count": 57,
      "outputs": []
    },
    {
      "cell_type": "code",
      "source": [
        "# Verificação dos dados\n",
        "df['Número de cilindros'].unique()"
      ],
      "metadata": {
        "colab": {
          "base_uri": "https://localhost:8080/"
        },
        "id": "ue66d5X2Zmav",
        "outputId": "e6e81fb5-657a-48d5-a780-eec0bc8d35c9"
      },
      "execution_count": 58,
      "outputs": [
        {
          "output_type": "execute_result",
          "data": {
            "text/plain": [
              "array([ 4,  6,  5,  3, 12,  2,  8])"
            ]
          },
          "metadata": {},
          "execution_count": 58
        }
      ]
    },
    {
      "cell_type": "markdown",
      "source": [
        "## Campo Tamanho do motor"
      ],
      "metadata": {
        "id": "969HaGLFM0Yz"
      }
    },
    {
      "cell_type": "markdown",
      "source": [
        "- Sem dados omissos ou inconsistentes\n",
        "- Realizada transformação de tipo para float"
      ],
      "metadata": {
        "id": "5bvNtZUhafIl"
      }
    },
    {
      "cell_type": "code",
      "source": [
        "# Verificação dos dados\n",
        "df['Tamanho do motor'].unique()"
      ],
      "metadata": {
        "colab": {
          "base_uri": "https://localhost:8080/"
        },
        "id": "tdEhe2WfMz4l",
        "outputId": "597715e1-0eff-4571-bb5f-737a5f802474"
      },
      "execution_count": 59,
      "outputs": [
        {
          "output_type": "execute_result",
          "data": {
            "text/plain": [
              "array(['130,00', '152,00', '109,00', '136,00', '131,00', '108,00',\n",
              "       '164,00', '209,00', '61,00', '90,00', '98,00', '122,00', '156,00',\n",
              "       '92,00', '79,00', '110,00', '111,00', '119,00', '258,00', '326,00',\n",
              "       '91,00', '70,00', '80,00', '140,00', '134,00', '183,00', '234,00',\n",
              "       '308,00', '304,00', '97,00', '103,00', '120,00', '181,00',\n",
              "       '151,00', '194,00', '203,00', '132,00', '121,00', '146,00',\n",
              "       '171,00', '161,00', '141,00', '173,00', '145,00'], dtype=object)"
            ]
          },
          "metadata": {},
          "execution_count": 59
        }
      ]
    },
    {
      "cell_type": "code",
      "source": [
        "# Transformação dos dados em float\n",
        "df['Tamanho do motor'] = df['Tamanho do motor'].astype('string')\n",
        "df['Tamanho do motor'] = df['Tamanho do motor'].str.replace(',', '.')\n",
        "df['Tamanho do motor'] = df['Tamanho do motor'].astype('float')"
      ],
      "metadata": {
        "id": "0hH79ifMM9SP"
      },
      "execution_count": 60,
      "outputs": []
    },
    {
      "cell_type": "code",
      "source": [
        "# Verificação dos dados\n",
        "df['Tamanho do motor'].unique()"
      ],
      "metadata": {
        "colab": {
          "base_uri": "https://localhost:8080/"
        },
        "id": "dAvDKrddajF-",
        "outputId": "6f9b7e13-57ba-40f3-cdd5-f2f33000916d"
      },
      "execution_count": 61,
      "outputs": [
        {
          "output_type": "execute_result",
          "data": {
            "text/plain": [
              "array([130., 152., 109., 136., 131., 108., 164., 209.,  61.,  90.,  98.,\n",
              "       122., 156.,  92.,  79., 110., 111., 119., 258., 326.,  91.,  70.,\n",
              "        80., 140., 134., 183., 234., 308., 304.,  97., 103., 120., 181.,\n",
              "       151., 194., 203., 132., 121., 146., 171., 161., 141., 173., 145.])"
            ]
          },
          "metadata": {},
          "execution_count": 61
        }
      ]
    },
    {
      "cell_type": "code",
      "source": [
        "# Visualização do histograma\n",
        "df.hist(column='Tamanho do motor', figsize=(9,6), bins=20)"
      ],
      "metadata": {
        "colab": {
          "base_uri": "https://localhost:8080/",
          "height": 0
        },
        "id": "PQ5TTrmZNEEg",
        "outputId": "abdd9219-9f0a-4a33-c3da-14eafdd5909b"
      },
      "execution_count": 62,
      "outputs": [
        {
          "output_type": "execute_result",
          "data": {
            "text/plain": [
              "array([[<matplotlib.axes._subplots.AxesSubplot object at 0x7f65eb76be50>]],\n",
              "      dtype=object)"
            ]
          },
          "metadata": {},
          "execution_count": 62
        },
        {
          "output_type": "display_data",
          "data": {
            "text/plain": [
              "<Figure size 648x432 with 1 Axes>"
            ],
            "image/png": "[encoded data removed]"
          },
          "metadata": {
            "needs_background": "light"
          }
        }
      ]
    },
    {
      "cell_type": "markdown",
      "source": [
        "## Campo Tipo de injeção"
      ],
      "metadata": {
        "id": "pnIJhRsxN0nA"
      }
    },
    {
      "cell_type": "markdown",
      "source": [
        "- Sem dados omissos ou inconsistentes"
      ],
      "metadata": {
        "id": "UPY734-farFx"
      }
    },
    {
      "cell_type": "code",
      "source": [
        "df['Tipo de injeção'].unique()"
      ],
      "metadata": {
        "colab": {
          "base_uri": "https://localhost:8080/"
        },
        "id": "9xoxvVHmNtw3",
        "outputId": "c86ecb2b-db3e-4051-f775-ca659dfc24df"
      },
      "execution_count": 63,
      "outputs": [
        {
          "output_type": "execute_result",
          "data": {
            "text/plain": [
              "array(['mpfi', '2bbl', 'mfi', '1bbl', 'spfi', '4bbl', 'idi', 'spdi'],\n",
              "      dtype=object)"
            ]
          },
          "metadata": {},
          "execution_count": 63
        }
      ]
    },
    {
      "cell_type": "markdown",
      "source": [
        "## Campo Potência (HP)"
      ],
      "metadata": {
        "id": "EKeuxI1wN1hE"
      }
    },
    {
      "cell_type": "markdown",
      "source": [
        "- Sem dados omissos ou inconsistentes\n",
        "- Realizada transformação de tipo para float"
      ],
      "metadata": {
        "id": "03PVzPzCay7s"
      }
    },
    {
      "cell_type": "code",
      "source": [
        "# Verificação dos dados\n",
        "df['Potência (HP)'].unique()"
      ],
      "metadata": {
        "colab": {
          "base_uri": "https://localhost:8080/"
        },
        "id": "Okfm74ArN66p",
        "outputId": "c82279f4-8e52-4dac-8aed-701bc0d3b4b5"
      },
      "execution_count": 64,
      "outputs": [
        {
          "output_type": "execute_result",
          "data": {
            "text/plain": [
              "array(['111,00', '154,00', '102,00', '115,00', '110,00', '140,00',\n",
              "       '160,00', '101,00', '121,00', '182,00', '48,00', '70,00', '68,00',\n",
              "       '88,00', '145,00', '58,00', '76,00', '60,00', '86,00', '100,00',\n",
              "       '78,00', '90,00', '176,00', '262,00', '135,00', '84,00', '64,00',\n",
              "       '120,00', '72,00', '123,00', '155,00', '184,00', '175,00',\n",
              "       '116,00', '69,00', '55,00', '97,00', '152,00', '200,00', '95,00',\n",
              "       '142,00', '143,00', '207,00', '288,00', '104,26', '73,00', '82,00',\n",
              "       '94,00', '62,00', '56,00', '112,00', '92,00', '161,00', '156,00',\n",
              "       '52,00', '85,00', '114,00', '162,00', '134,00', '106,00'],\n",
              "      dtype=object)"
            ]
          },
          "metadata": {},
          "execution_count": 64
        }
      ]
    },
    {
      "cell_type": "code",
      "source": [
        "# Transformação dos dados em float\n",
        "df['Potência (HP)'] = df['Potência (HP)'].astype('string')\n",
        "df['Potência (HP)'] = df['Potência (HP)'].str.replace(',', '.')\n",
        "df['Potência (HP)'] = df['Potência (HP)'].astype('float')"
      ],
      "metadata": {
        "id": "f3jE8Qg_OCPp"
      },
      "execution_count": 65,
      "outputs": []
    },
    {
      "cell_type": "code",
      "source": [
        "# Verificação dos dados\n",
        "df['Potência (HP)'].unique()"
      ],
      "metadata": {
        "colab": {
          "base_uri": "https://localhost:8080/"
        },
        "id": "-PnsRb1wa8O9",
        "outputId": "d4df36dc-07c8-4019-cb0d-f8d85ffbefa2"
      },
      "execution_count": 66,
      "outputs": [
        {
          "output_type": "execute_result",
          "data": {
            "text/plain": [
              "array([111.  , 154.  , 102.  , 115.  , 110.  , 140.  , 160.  , 101.  ,\n",
              "       121.  , 182.  ,  48.  ,  70.  ,  68.  ,  88.  , 145.  ,  58.  ,\n",
              "        76.  ,  60.  ,  86.  , 100.  ,  78.  ,  90.  , 176.  , 262.  ,\n",
              "       135.  ,  84.  ,  64.  , 120.  ,  72.  , 123.  , 155.  , 184.  ,\n",
              "       175.  , 116.  ,  69.  ,  55.  ,  97.  , 152.  , 200.  ,  95.  ,\n",
              "       142.  , 143.  , 207.  , 288.  , 104.26,  73.  ,  82.  ,  94.  ,\n",
              "        62.  ,  56.  , 112.  ,  92.  , 161.  , 156.  ,  52.  ,  85.  ,\n",
              "       114.  , 162.  , 134.  , 106.  ])"
            ]
          },
          "metadata": {},
          "execution_count": 66
        }
      ]
    },
    {
      "cell_type": "code",
      "source": [
        "# Visualização do histograma\n",
        "df.hist(column='Potência (HP)', figsize=(9,6), bins=20)"
      ],
      "metadata": {
        "colab": {
          "base_uri": "https://localhost:8080/",
          "height": 0
        },
        "id": "RcSk7AbfOJL0",
        "outputId": "c564631d-3ad8-4d43-bc0b-b3c1dd241dc6"
      },
      "execution_count": 67,
      "outputs": [
        {
          "output_type": "execute_result",
          "data": {
            "text/plain": [
              "array([[<matplotlib.axes._subplots.AxesSubplot object at 0x7f65eb6a2750>]],\n",
              "      dtype=object)"
            ]
          },
          "metadata": {},
          "execution_count": 67
        },
        {
          "output_type": "display_data",
          "data": {
            "text/plain": [
              "<Figure size 648x432 with 1 Axes>"
            ],
            "image/png": "[encoded data removed]"
          },
          "metadata": {
            "needs_background": "light"
          }
        }
      ]
    },
    {
      "cell_type": "markdown",
      "source": [
        "## Campo Pico RPM"
      ],
      "metadata": {
        "id": "Wv51ddtoOlqf"
      }
    },
    {
      "cell_type": "markdown",
      "source": [
        "- Com dados inconsistentes\n",
        "- Realizada a imputação de valores:\n",
        "  - Registros 10 e 11: verificada ausência de separador de decimal, sendo '5800' o valor mais provável\n",
        "  - Registros 128 e 129: únicos registros que possuem casas decimais significativas, sendo '5125' o valor utilizado para padronização dos registros\n",
        "- Realizada transformação de tipo para float"
      ],
      "metadata": {
        "id": "d8DkQ3blbtDB"
      }
    },
    {
      "cell_type": "code",
      "source": [
        "# Verificação dos dados\n",
        "df['Pico RPM'].unique()"
      ],
      "metadata": {
        "colab": {
          "base_uri": "https://localhost:8080/"
        },
        "id": "BjvuXCncOkry",
        "outputId": "958ff102-cdfa-4c98-f601-8771f4fa8664"
      },
      "execution_count": 68,
      "outputs": [
        {
          "output_type": "execute_result",
          "data": {
            "text/plain": [
              "array(['5000,00', '5500,00', 580000, '4250,00', '5400,00', '5100,00',\n",
              "       '4800,00', '6000,00', '5800,00', '4750,00', '4650,00', '4200,00',\n",
              "       '4350,00', '4500,00', '5200,00', '4150,00', '5600,00', '5900,00',\n",
              "       '5750,00', '5125,37', '5250,00', '4900,00', '4400,00', '6600,00',\n",
              "       '5300,00'], dtype=object)"
            ]
          },
          "metadata": {},
          "execution_count": 68
        }
      ]
    },
    {
      "cell_type": "code",
      "source": [
        "# Transformação dos dados em float\n",
        "df['Pico RPM'] = df['Pico RPM'].astype('string')\n",
        "df['Pico RPM'] = df['Pico RPM'].str.replace(',', '.')\n",
        "df['Pico RPM'] = df['Pico RPM'].astype('float')"
      ],
      "metadata": {
        "id": "OQc0T-80Ot1Z"
      },
      "execution_count": 69,
      "outputs": []
    },
    {
      "cell_type": "code",
      "source": [
        "# Verificação dos valores inconsistentes\n",
        "df[df['Pico RPM'] == 580000]"
      ],
      "metadata": {
        "colab": {
          "base_uri": "https://localhost:8080/",
          "height": 0
        },
        "id": "3RwLPImrPd-e",
        "outputId": "6553301a-27e5-48a2-b374-49bd6e743142"
      },
      "execution_count": 70,
      "outputs": [
        {
          "output_type": "execute_result",
          "data": {
            "text/plain": [
              "   Fabricante Combustível Portas Estilo Chassis    Tração  Comprimento  \\\n",
              "10        bmw         gas      2          sedan  traseira        176.8   \n",
              "11        bmw         gas      4          sedan  traseira        176.8   \n",
              "\n",
              "    Largura  Altura Tipo de motor  Número de cilindros  Tamanho do motor  \\\n",
              "10     64.8    54.3           ohc                    4             108.0   \n",
              "11     64.8    54.3           ohc                    4             108.0   \n",
              "\n",
              "   Tipo de injeção  Potência (HP)  Pico RPM     Preço  \n",
              "10            mpfi          101.0  580000.0  16430,00  \n",
              "11            mpfi          101.0  580000.0  16925,00  "
            ],
            "text/html": [
              "\n",
              "  <div id=\"df-e0b219d7-43d5-45c0-b2e1-a5f2c76f4ba9\">\n",
              "    <div class=\"colab-df-container\">\n",
              "      <div>\n",
              "<style scoped>\n",
              "    .dataframe tbody tr th:only-of-type {\n",
              "        vertical-align: middle;\n",
              "    }\n",
              "\n",
              "    .dataframe tbody tr th {\n",
              "        vertical-align: top;\n",
              "    }\n",
              "\n",
              "    .dataframe thead th {\n",
              "        text-align: right;\n",
              "    }\n",
              "</style>\n",
              "<table border=\"1\" class=\"dataframe\">\n",
              "  <thead>\n",
              "    <tr style=\"text-align: right;\">\n",
              "      <th></th>\n",
              "      <th>Fabricante</th>\n",
              "      <th>Combustível</th>\n",
              "      <th>Portas</th>\n",
              "      <th>Estilo Chassis</th>\n",
              "      <th>Tração</th>\n",
              "      <th>Comprimento</th>\n",
              "      <th>Largura</th>\n",
              "      <th>Altura</th>\n",
              "      <th>Tipo de motor</th>\n",
              "      <th>Número de cilindros</th>\n",
              "      <th>Tamanho do motor</th>\n",
              "      <th>Tipo de injeção</th>\n",
              "      <th>Potência (HP)</th>\n",
              "      <th>Pico RPM</th>\n",
              "      <th>Preço</th>\n",
              "    </tr>\n",
              "  </thead>\n",
              "  <tbody>\n",
              "    <tr>\n",
              "      <th>10</th>\n",
              "      <td>bmw</td>\n",
              "      <td>gas</td>\n",
              "      <td>2</td>\n",
              "      <td>sedan</td>\n",
              "      <td>traseira</td>\n",
              "      <td>176.8</td>\n",
              "      <td>64.8</td>\n",
              "      <td>54.3</td>\n",
              "      <td>ohc</td>\n",
              "      <td>4</td>\n",
              "      <td>108.0</td>\n",
              "      <td>mpfi</td>\n",
              "      <td>101.0</td>\n",
              "      <td>580000.0</td>\n",
              "      <td>16430,00</td>\n",
              "    </tr>\n",
              "    <tr>\n",
              "      <th>11</th>\n",
              "      <td>bmw</td>\n",
              "      <td>gas</td>\n",
              "      <td>4</td>\n",
              "      <td>sedan</td>\n",
              "      <td>traseira</td>\n",
              "      <td>176.8</td>\n",
              "      <td>64.8</td>\n",
              "      <td>54.3</td>\n",
              "      <td>ohc</td>\n",
              "      <td>4</td>\n",
              "      <td>108.0</td>\n",
              "      <td>mpfi</td>\n",
              "      <td>101.0</td>\n",
              "      <td>580000.0</td>\n",
              "      <td>16925,00</td>\n",
              "    </tr>\n",
              "  </tbody>\n",
              "</table>\n",
              "</div>\n",
              "      <button class=\"colab-df-convert\" onclick=\"convertToInteractive('df-e0b219d7-43d5-45c0-b2e1-a5f2c76f4ba9')\"\n",
              "              title=\"Convert this dataframe to an interactive table.\"\n",
              "              style=\"display:none;\">\n",
              "        \n",
              "  <svg xmlns=\"http://www.w3.org/2000/svg\" height=\"24px\"viewBox=\"0 0 24 24\"\n",
              "       width=\"24px\">\n",
              "    <path d=\"M0 0h24v24H0V0z\" fill=\"none\"/>\n",
              "    <path d=\"M18.56 5.44l.94 2.06.94-2.06 2.06-.94-2.06-.94-.94-2.06-.94 2.06-2.06.94zm-11 1L8.5 8.5l.94-2.06 2.06-.94-2.06-.94L8.5 2.5l-.94 2.06-2.06.94zm10 10l.94 2.06.94-2.06 2.06-.94-2.06-.94-.94-2.06-.94 2.06-2.06.94z\"/><path d=\"M17.41 7.96l-1.37-1.37c-.4-.4-.92-.59-1.43-.59-.52 0-1.04.2-1.43.59L10.3 9.45l-7.72 7.72c-.78.78-.78 2.05 0 2.83L4 21.41c.39.39.9.59 1.41.59.51 0 1.02-.2 1.41-.59l7.78-7.78 2.81-2.81c.8-.78.8-2.07 0-2.86zM5.41 20L4 18.59l7.72-7.72 1.47 1.35L5.41 20z\"/>\n",
              "  </svg>\n",
              "      </button>\n",
              "      \n",
              "  <style>\n",
              "    .colab-df-container {\n",
              "      display:flex;\n",
              "      flex-wrap:wrap;\n",
              "      gap: 12px;\n",
              "    }\n",
              "\n",
              "    .colab-df-convert {\n",
              "      background-color: #E8F0FE;\n",
              "      border: none;\n",
              "      border-radius: 50%;\n",
              "      cursor: pointer;\n",
              "      display: none;\n",
              "      fill: #1967D2;\n",
              "      height: 32px;\n",
              "      padding: 0 0 0 0;\n",
              "      width: 32px;\n",
              "    }\n",
              "\n",
              "    .colab-df-convert:hover {\n",
              "      background-color: #E2EBFA;\n",
              "      box-shadow: 0px 1px 2px rgba(60, 64, 67, 0.3), 0px 1px 3px 1px rgba(60, 64, 67, 0.15);\n",
              "      fill: #174EA6;\n",
              "    }\n",
              "\n",
              "    [theme=dark] .colab-df-convert {\n",
              "      background-color: #3B4455;\n",
              "      fill: #D2E3FC;\n",
              "    }\n",
              "\n",
              "    [theme=dark] .colab-df-convert:hover {\n",
              "      background-color: #434B5C;\n",
              "      box-shadow: 0px 1px 3px 1px rgba(0, 0, 0, 0.15);\n",
              "      filter: drop-shadow(0px 1px 2px rgba(0, 0, 0, 0.3));\n",
              "      fill: #FFFFFF;\n",
              "    }\n",
              "  </style>\n",
              "\n",
              "      <script>\n",
              "        const buttonEl =\n",
              "          document.querySelector('#df-e0b219d7-43d5-45c0-b2e1-a5f2c76f4ba9 button.colab-df-convert');\n",
              "        buttonEl.style.display =\n",
              "          google.colab.kernel.accessAllowed ? 'block' : 'none';\n",
              "\n",
              "        async function convertToInteractive(key) {\n",
              "          const element = document.querySelector('#df-e0b219d7-43d5-45c0-b2e1-a5f2c76f4ba9');\n",
              "          const dataTable =\n",
              "            await google.colab.kernel.invokeFunction('convertToInteractive',\n",
              "                                                     [key], {});\n",
              "          if (!dataTable) return;\n",
              "\n",
              "          const docLinkHtml = 'Like what you see? Visit the ' +\n",
              "            '<a target=\"_blank\" href=https://colab.research.google.com/notebooks/data_table.ipynb>data table notebook</a>'\n",
              "            + ' to learn more about interactive tables.';\n",
              "          element.innerHTML = '';\n",
              "          dataTable['output_type'] = 'display_data';\n",
              "          await google.colab.output.renderOutput(dataTable, element);\n",
              "          const docLink = document.createElement('div');\n",
              "          docLink.innerHTML = docLinkHtml;\n",
              "          element.appendChild(docLink);\n",
              "        }\n",
              "      </script>\n",
              "    </div>\n",
              "  </div>\n",
              "  "
            ]
          },
          "metadata": {},
          "execution_count": 70
        }
      ]
    },
    {
      "cell_type": "code",
      "source": [
        "# Substituição dos valores inconsistentes\n",
        "df.loc[10:12, 'Pico RPM'] = 5800"
      ],
      "metadata": {
        "id": "CCwGbXHTbeGH"
      },
      "execution_count": 71,
      "outputs": []
    },
    {
      "cell_type": "code",
      "source": [
        "# Verificação dos valores inconsistentes\n",
        "df[df['Pico RPM'] == 5125.37]"
      ],
      "metadata": {
        "colab": {
          "base_uri": "https://localhost:8080/",
          "height": 0
        },
        "id": "ymevuHQvQW1s",
        "outputId": "9581d648-4c52-4340-d28e-3c45629aad17"
      },
      "execution_count": 72,
      "outputs": [
        {
          "output_type": "execute_result",
          "data": {
            "text/plain": [
              "    Fabricante Combustível Portas Estilo Chassis     Tração  Comprimento  \\\n",
              "128    renault         gas      4            suv  dianteira        181.5   \n",
              "129    renault         gas      2          hatch  dianteira        176.8   \n",
              "\n",
              "     Largura  Altura Tipo de motor  Número de cilindros  Tamanho do motor  \\\n",
              "128     66.5    55.2           ohc                    4             132.0   \n",
              "129     66.6    50.5           ohc                    4             132.0   \n",
              "\n",
              "    Tipo de injeção  Potência (HP)  Pico RPM    Preço  \n",
              "128            mpfi         104.26   5125.37  9295,00  \n",
              "129            mpfi         104.26   5125.37  9895,00  "
            ],
            "text/html": [
              "\n",
              "  <div id=\"df-ab083fa6-3df4-45d5-86a7-85e6a161166a\">\n",
              "    <div class=\"colab-df-container\">\n",
              "      <div>\n",
              "<style scoped>\n",
              "    .dataframe tbody tr th:only-of-type {\n",
              "        vertical-align: middle;\n",
              "    }\n",
              "\n",
              "    .dataframe tbody tr th {\n",
              "        vertical-align: top;\n",
              "    }\n",
              "\n",
              "    .dataframe thead th {\n",
              "        text-align: right;\n",
              "    }\n",
              "</style>\n",
              "<table border=\"1\" class=\"dataframe\">\n",
              "  <thead>\n",
              "    <tr style=\"text-align: right;\">\n",
              "      <th></th>\n",
              "      <th>Fabricante</th>\n",
              "      <th>Combustível</th>\n",
              "      <th>Portas</th>\n",
              "      <th>Estilo Chassis</th>\n",
              "      <th>Tração</th>\n",
              "      <th>Comprimento</th>\n",
              "      <th>Largura</th>\n",
              "      <th>Altura</th>\n",
              "      <th>Tipo de motor</th>\n",
              "      <th>Número de cilindros</th>\n",
              "      <th>Tamanho do motor</th>\n",
              "      <th>Tipo de injeção</th>\n",
              "      <th>Potência (HP)</th>\n",
              "      <th>Pico RPM</th>\n",
              "      <th>Preço</th>\n",
              "    </tr>\n",
              "  </thead>\n",
              "  <tbody>\n",
              "    <tr>\n",
              "      <th>128</th>\n",
              "      <td>renault</td>\n",
              "      <td>gas</td>\n",
              "      <td>4</td>\n",
              "      <td>suv</td>\n",
              "      <td>dianteira</td>\n",
              "      <td>181.5</td>\n",
              "      <td>66.5</td>\n",
              "      <td>55.2</td>\n",
              "      <td>ohc</td>\n",
              "      <td>4</td>\n",
              "      <td>132.0</td>\n",
              "      <td>mpfi</td>\n",
              "      <td>104.26</td>\n",
              "      <td>5125.37</td>\n",
              "      <td>9295,00</td>\n",
              "    </tr>\n",
              "    <tr>\n",
              "      <th>129</th>\n",
              "      <td>renault</td>\n",
              "      <td>gas</td>\n",
              "      <td>2</td>\n",
              "      <td>hatch</td>\n",
              "      <td>dianteira</td>\n",
              "      <td>176.8</td>\n",
              "      <td>66.6</td>\n",
              "      <td>50.5</td>\n",
              "      <td>ohc</td>\n",
              "      <td>4</td>\n",
              "      <td>132.0</td>\n",
              "      <td>mpfi</td>\n",
              "      <td>104.26</td>\n",
              "      <td>5125.37</td>\n",
              "      <td>9895,00</td>\n",
              "    </tr>\n",
              "  </tbody>\n",
              "</table>\n",
              "</div>\n",
              "      <button class=\"colab-df-convert\" onclick=\"convertToInteractive('df-ab083fa6-3df4-45d5-86a7-85e6a161166a')\"\n",
              "              title=\"Convert this dataframe to an interactive table.\"\n",
              "              style=\"display:none;\">\n",
              "        \n",
              "  <svg xmlns=\"http://www.w3.org/2000/svg\" height=\"24px\"viewBox=\"0 0 24 24\"\n",
              "       width=\"24px\">\n",
              "    <path d=\"M0 0h24v24H0V0z\" fill=\"none\"/>\n",
              "    <path d=\"M18.56 5.44l.94 2.06.94-2.06 2.06-.94-2.06-.94-.94-2.06-.94 2.06-2.06.94zm-11 1L8.5 8.5l.94-2.06 2.06-.94-2.06-.94L8.5 2.5l-.94 2.06-2.06.94zm10 10l.94 2.06.94-2.06 2.06-.94-2.06-.94-.94-2.06-.94 2.06-2.06.94z\"/><path d=\"M17.41 7.96l-1.37-1.37c-.4-.4-.92-.59-1.43-.59-.52 0-1.04.2-1.43.59L10.3 9.45l-7.72 7.72c-.78.78-.78 2.05 0 2.83L4 21.41c.39.39.9.59 1.41.59.51 0 1.02-.2 1.41-.59l7.78-7.78 2.81-2.81c.8-.78.8-2.07 0-2.86zM5.41 20L4 18.59l7.72-7.72 1.47 1.35L5.41 20z\"/>\n",
              "  </svg>\n",
              "      </button>\n",
              "      \n",
              "  <style>\n",
              "    .colab-df-container {\n",
              "      display:flex;\n",
              "      flex-wrap:wrap;\n",
              "      gap: 12px;\n",
              "    }\n",
              "\n",
              "    .colab-df-convert {\n",
              "      background-color: #E8F0FE;\n",
              "      border: none;\n",
              "      border-radius: 50%;\n",
              "      cursor: pointer;\n",
              "      display: none;\n",
              "      fill: #1967D2;\n",
              "      height: 32px;\n",
              "      padding: 0 0 0 0;\n",
              "      width: 32px;\n",
              "    }\n",
              "\n",
              "    .colab-df-convert:hover {\n",
              "      background-color: #E2EBFA;\n",
              "      box-shadow: 0px 1px 2px rgba(60, 64, 67, 0.3), 0px 1px 3px 1px rgba(60, 64, 67, 0.15);\n",
              "      fill: #174EA6;\n",
              "    }\n",
              "\n",
              "    [theme=dark] .colab-df-convert {\n",
              "      background-color: #3B4455;\n",
              "      fill: #D2E3FC;\n",
              "    }\n",
              "\n",
              "    [theme=dark] .colab-df-convert:hover {\n",
              "      background-color: #434B5C;\n",
              "      box-shadow: 0px 1px 3px 1px rgba(0, 0, 0, 0.15);\n",
              "      filter: drop-shadow(0px 1px 2px rgba(0, 0, 0, 0.3));\n",
              "      fill: #FFFFFF;\n",
              "    }\n",
              "  </style>\n",
              "\n",
              "      <script>\n",
              "        const buttonEl =\n",
              "          document.querySelector('#df-ab083fa6-3df4-45d5-86a7-85e6a161166a button.colab-df-convert');\n",
              "        buttonEl.style.display =\n",
              "          google.colab.kernel.accessAllowed ? 'block' : 'none';\n",
              "\n",
              "        async function convertToInteractive(key) {\n",
              "          const element = document.querySelector('#df-ab083fa6-3df4-45d5-86a7-85e6a161166a');\n",
              "          const dataTable =\n",
              "            await google.colab.kernel.invokeFunction('convertToInteractive',\n",
              "                                                     [key], {});\n",
              "          if (!dataTable) return;\n",
              "\n",
              "          const docLinkHtml = 'Like what you see? Visit the ' +\n",
              "            '<a target=\"_blank\" href=https://colab.research.google.com/notebooks/data_table.ipynb>data table notebook</a>'\n",
              "            + ' to learn more about interactive tables.';\n",
              "          element.innerHTML = '';\n",
              "          dataTable['output_type'] = 'display_data';\n",
              "          await google.colab.output.renderOutput(dataTable, element);\n",
              "          const docLink = document.createElement('div');\n",
              "          docLink.innerHTML = docLinkHtml;\n",
              "          element.appendChild(docLink);\n",
              "        }\n",
              "      </script>\n",
              "    </div>\n",
              "  </div>\n",
              "  "
            ]
          },
          "metadata": {},
          "execution_count": 72
        }
      ]
    },
    {
      "cell_type": "code",
      "source": [
        "# Substituição dos valores inconsistentes\n",
        "df.loc[128:130, 'Pico RPM'] = 5125"
      ],
      "metadata": {
        "id": "eQ4X3JzwPpmg"
      },
      "execution_count": 73,
      "outputs": []
    },
    {
      "cell_type": "code",
      "source": [
        "# Verificação dos dados\n",
        "df['Pico RPM'].unique()"
      ],
      "metadata": {
        "colab": {
          "base_uri": "https://localhost:8080/"
        },
        "id": "HhihZVEibC4a",
        "outputId": "3a90deff-1d93-40a0-b9f7-70ca505b1770"
      },
      "execution_count": 74,
      "outputs": [
        {
          "output_type": "execute_result",
          "data": {
            "text/plain": [
              "array([5000., 5500., 5800., 4250., 5400., 5100., 4800., 6000., 4750.,\n",
              "       4650., 4200., 4350., 4500., 5200., 4150., 5600., 5900., 5750.,\n",
              "       5125., 5250., 4900., 4400., 6600., 5300.])"
            ]
          },
          "metadata": {},
          "execution_count": 74
        }
      ]
    },
    {
      "cell_type": "code",
      "source": [
        "# Visualização do histograma\n",
        "df.hist(column='Pico RPM', figsize=(9,6), bins=20)"
      ],
      "metadata": {
        "colab": {
          "base_uri": "https://localhost:8080/",
          "height": 0
        },
        "id": "9AVPP1_ZPVhA",
        "outputId": "c45e7ae5-b7b7-4163-ae49-ce770a0eed5b"
      },
      "execution_count": 75,
      "outputs": [
        {
          "output_type": "execute_result",
          "data": {
            "text/plain": [
              "array([[<matplotlib.axes._subplots.AxesSubplot object at 0x7f65eb638b90>]],\n",
              "      dtype=object)"
            ]
          },
          "metadata": {},
          "execution_count": 75
        },
        {
          "output_type": "display_data",
          "data": {
            "text/plain": [
              "<Figure size 648x432 with 1 Axes>"
            ],
            "image/png": "[encoded data removed]"
          },
          "metadata": {
            "needs_background": "light"
          }
        }
      ]
    },
    {
      "cell_type": "markdown",
      "source": [
        "## Campo Preço"
      ],
      "metadata": {
        "id": "-wJW2YU-QlG5"
      }
    },
    {
      "cell_type": "markdown",
      "source": [
        "- Sem dados omissos ou inconsistentes\n",
        "- Realizada transformação de tipo para float"
      ],
      "metadata": {
        "id": "2USuI4aSfOrM"
      }
    },
    {
      "cell_type": "code",
      "source": [
        "# Verificação dos dados\n",
        "df['Preço'].unique()"
      ],
      "metadata": {
        "colab": {
          "base_uri": "https://localhost:8080/"
        },
        "id": "8L2bL0G4QnG_",
        "outputId": "33180f0a-dd79-47dd-a830-0d2bbad8019e"
      },
      "execution_count": 76,
      "outputs": [
        {
          "output_type": "execute_result",
          "data": {
            "text/plain": [
              "array(['13495,00', '16500,00', '13950,00', '17450,00', '15250,00',\n",
              "       '17710,00', '18920,00', '23875,00', '13207,13', '16430,00',\n",
              "       '16925,00', '20970,00', '24565,00', '30760,00', '41315,00',\n",
              "       '36880,00', '5151,00', '6295,00', '6575,00', '5572,00', '6377,00',\n",
              "       '7957,00', '6229,00', '6692,00', '7609,00', '8558,00', '8921,00',\n",
              "       '12964,00', '6479,00', '6855,00', '5399,00', '6529,00', '7129,00',\n",
              "       '7295,00', '7895,00', '9095,00', '8845,00', '10295,00', '12945,00',\n",
              "       '10345,00', '6785,00', '11048,00', '32250,00', '35550,00',\n",
              "       '36000,00', '5195,00', '6095,00', '6795,00', '6695,00', '7395,00',\n",
              "       '11845,00', '13645,00', '15645,00', '8495,00', '10595,00',\n",
              "       '10245,00', '10795,00', '11245,00', '18280,00', '18344,00',\n",
              "       '25552,00', '28248,00', '28176,00', '31600,00', '34184,00',\n",
              "       '35056,00', '40960,00', '45400,00', '16503,00', '5389,00',\n",
              "       '6189,00', '6669,00', '7689,00', '9959,00', '8499,00', '12629,00',\n",
              "       '14869,00', '14489,00', '6989,00', '8189,00', '9279,00', '5499,00',\n",
              "       '7099,00', '6649,00', '6849,00', '7349,00', '7299,00', '7799,00',\n",
              "       '7499,00', '7999,00', '8249,00', '8949,00', '9549,00', '13499,00',\n",
              "       '14399,00', '17199,00', '19699,00', '18399,00', '11900,00',\n",
              "       '13200,00', '12440,00', '13860,00', '15580,00', '16900,00',\n",
              "       '16695,00', '17075,00', '16630,00', '17950,00', '18150,00',\n",
              "       '12764,00', '22018,00', '32528,00', '34028,00', '37028,00',\n",
              "       '9295,00', '9895,00', '11850,00', '12170,00', '15040,00',\n",
              "       '15510,00', '18620,00', '5118,00', '7053,00', '7603,00', '7126,00',\n",
              "       '7775,00', '9960,00', '9233,00', '11259,00', '7463,00', '10198,00',\n",
              "       '8013,00', '11694,00', '5348,00', '6338,00', '6488,00', '6918,00',\n",
              "       '7898,00', '8778,00', '6938,00', '7198,00', '7788,00', '7738,00',\n",
              "       '8358,00', '9258,00', '8058,00', '8238,00', '9298,00', '9538,00',\n",
              "       '8449,00', '9639,00', '9989,00', '11199,00', '11549,00',\n",
              "       '17669,00', '8948,00', '10698,00', '9988,00', '10898,00',\n",
              "       '11248,00', '16558,00', '15998,00', '15690,00', '15750,00',\n",
              "       '7975,00', '7995,00', '8195,00', '9495,00', '9995,00', '11595,00',\n",
              "       '9980,00', '13295,00', '13845,00', '12290,00', '12940,00',\n",
              "       '13415,00', '15985,00', '16515,00', '18420,00', '18950,00',\n",
              "       '16845,00', '19045,00', '21485,00', '22470,00', '22625,00',\n",
              "       '21105,00', '10945,00'], dtype=object)"
            ]
          },
          "metadata": {},
          "execution_count": 76
        }
      ]
    },
    {
      "cell_type": "code",
      "source": [
        "# Transformação dos dados em float\n",
        "df['Preço'] = df['Preço'].astype('string')\n",
        "df['Preço'] = df['Preço'].str.replace(',', '.')\n",
        "df['Preço'] = df['Preço'].astype('float')"
      ],
      "metadata": {
        "id": "TvfgB1WkQkjk"
      },
      "execution_count": 77,
      "outputs": []
    },
    {
      "cell_type": "code",
      "source": [
        "# Verificação dos dados\n",
        "df['Preço'].unique()"
      ],
      "metadata": {
        "colab": {
          "base_uri": "https://localhost:8080/"
        },
        "id": "VZ3g02-tcep-",
        "outputId": "26bfd8fc-088d-4fdd-deae-5e70e5f7d0f3"
      },
      "execution_count": 78,
      "outputs": [
        {
          "output_type": "execute_result",
          "data": {
            "text/plain": [
              "array([13495.  , 16500.  , 13950.  , 17450.  , 15250.  , 17710.  ,\n",
              "       18920.  , 23875.  , 13207.13, 16430.  , 16925.  , 20970.  ,\n",
              "       24565.  , 30760.  , 41315.  , 36880.  ,  5151.  ,  6295.  ,\n",
              "        6575.  ,  5572.  ,  6377.  ,  7957.  ,  6229.  ,  6692.  ,\n",
              "        7609.  ,  8558.  ,  8921.  , 12964.  ,  6479.  ,  6855.  ,\n",
              "        5399.  ,  6529.  ,  7129.  ,  7295.  ,  7895.  ,  9095.  ,\n",
              "        8845.  , 10295.  , 12945.  , 10345.  ,  6785.  , 11048.  ,\n",
              "       32250.  , 35550.  , 36000.  ,  5195.  ,  6095.  ,  6795.  ,\n",
              "        6695.  ,  7395.  , 11845.  , 13645.  , 15645.  ,  8495.  ,\n",
              "       10595.  , 10245.  , 10795.  , 11245.  , 18280.  , 18344.  ,\n",
              "       25552.  , 28248.  , 28176.  , 31600.  , 34184.  , 35056.  ,\n",
              "       40960.  , 45400.  , 16503.  ,  5389.  ,  6189.  ,  6669.  ,\n",
              "        7689.  ,  9959.  ,  8499.  , 12629.  , 14869.  , 14489.  ,\n",
              "        6989.  ,  8189.  ,  9279.  ,  5499.  ,  7099.  ,  6649.  ,\n",
              "        6849.  ,  7349.  ,  7299.  ,  7799.  ,  7499.  ,  7999.  ,\n",
              "        8249.  ,  8949.  ,  9549.  , 13499.  , 14399.  , 17199.  ,\n",
              "       19699.  , 18399.  , 11900.  , 13200.  , 12440.  , 13860.  ,\n",
              "       15580.  , 16900.  , 16695.  , 17075.  , 16630.  , 17950.  ,\n",
              "       18150.  , 12764.  , 22018.  , 32528.  , 34028.  , 37028.  ,\n",
              "        9295.  ,  9895.  , 11850.  , 12170.  , 15040.  , 15510.  ,\n",
              "       18620.  ,  5118.  ,  7053.  ,  7603.  ,  7126.  ,  7775.  ,\n",
              "        9960.  ,  9233.  , 11259.  ,  7463.  , 10198.  ,  8013.  ,\n",
              "       11694.  ,  5348.  ,  6338.  ,  6488.  ,  6918.  ,  7898.  ,\n",
              "        8778.  ,  6938.  ,  7198.  ,  7788.  ,  7738.  ,  8358.  ,\n",
              "        9258.  ,  8058.  ,  8238.  ,  9298.  ,  9538.  ,  8449.  ,\n",
              "        9639.  ,  9989.  , 11199.  , 11549.  , 17669.  ,  8948.  ,\n",
              "       10698.  ,  9988.  , 10898.  , 11248.  , 16558.  , 15998.  ,\n",
              "       15690.  , 15750.  ,  7975.  ,  7995.  ,  8195.  ,  9495.  ,\n",
              "        9995.  , 11595.  ,  9980.  , 13295.  , 13845.  , 12290.  ,\n",
              "       12940.  , 13415.  , 15985.  , 16515.  , 18420.  , 18950.  ,\n",
              "       16845.  , 19045.  , 21485.  , 22470.  , 22625.  , 21105.  ,\n",
              "       10945.  ])"
            ]
          },
          "metadata": {},
          "execution_count": 78
        }
      ]
    },
    {
      "cell_type": "code",
      "source": [
        "# Visualização do historgrama\n",
        "df.hist(column='Preço', figsize=(9,6), bins=20)"
      ],
      "metadata": {
        "colab": {
          "base_uri": "https://localhost:8080/",
          "height": 0
        },
        "id": "uC9T_MwSQ1hE",
        "outputId": "53ebc5aa-f638-44ca-b550-d52ce2a858d3"
      },
      "execution_count": 79,
      "outputs": [
        {
          "output_type": "execute_result",
          "data": {
            "text/plain": [
              "array([[<matplotlib.axes._subplots.AxesSubplot object at 0x7f65eb578a50>]],\n",
              "      dtype=object)"
            ]
          },
          "metadata": {},
          "execution_count": 79
        },
        {
          "output_type": "display_data",
          "data": {
            "text/plain": [
              "<Figure size 648x432 with 1 Axes>"
            ],
            "image/png": "[encoded data removed]"
          },
          "metadata": {
            "needs_background": "light"
          }
        }
      ]
    },
    {
      "cell_type": "markdown",
      "source": [
        "## Análise final"
      ],
      "metadata": {
        "id": "Ci2nbrQldAbp"
      }
    },
    {
      "cell_type": "markdown",
      "source": [
        "Como os dados omissos e inconsistentes foram poucos, cada atributo foi analisado indivudualmente e, por meio de técnicas de tratamento, foi possível a preparação da base sem necessidade de remoção de campos ou registros."
      ],
      "metadata": {
        "id": "_ZPx7gIbdSvd"
      }
    },
    {
      "cell_type": "code",
      "source": [
        "# Cabeçalho\n",
        "df.head(5)"
      ],
      "metadata": {
        "colab": {
          "base_uri": "https://localhost:8080/",
          "height": 268
        },
        "outputId": "f90ccae5-9d86-4a78-9e5c-f9e29f504420",
        "id": "BNLlPkcpdAbp"
      },
      "execution_count": 80,
      "outputs": [
        {
          "output_type": "execute_result",
          "data": {
            "text/plain": [
              "   Fabricante Combustível Portas Estilo Chassis     Tração  Comprimento  \\\n",
              "0  alfa-romeo         gas      2    conversível   traseira        168.8   \n",
              "1  alfa-romeo         gas      2    conversível   traseira        168.8   \n",
              "2  alfa-romeo         gas      2          hatch   traseira        171.2   \n",
              "3        audi         gas      4          sedan  dianteira        176.6   \n",
              "4        audi         gas      4          sedan        4x4        176.6   \n",
              "\n",
              "   Largura  Altura Tipo de motor  Número de cilindros  Tamanho do motor  \\\n",
              "0     64.1    48.8          dohc                    4             130.0   \n",
              "1     64.1    48.8          dohc                    4             130.0   \n",
              "2     65.5    52.4          ohcv                    6             152.0   \n",
              "3     66.2    54.3           ohc                    4             109.0   \n",
              "4     66.4    54.3           ohc                    5             136.0   \n",
              "\n",
              "  Tipo de injeção  Potência (HP)  Pico RPM    Preço  \n",
              "0            mpfi          111.0    5000.0  13495.0  \n",
              "1            mpfi          111.0    5000.0  16500.0  \n",
              "2            mpfi          154.0    5000.0  16500.0  \n",
              "3            mpfi          102.0    5500.0  13950.0  \n",
              "4            mpfi          115.0    5500.0  17450.0  "
            ],
            "text/html": [
              "\n",
              "  <div id=\"df-89f86047-7589-4747-bf25-f83cc301de29\">\n",
              "    <div class=\"colab-df-container\">\n",
              "      <div>\n",
              "<style scoped>\n",
              "    .dataframe tbody tr th:only-of-type {\n",
              "        vertical-align: middle;\n",
              "    }\n",
              "\n",
              "    .dataframe tbody tr th {\n",
              "        vertical-align: top;\n",
              "    }\n",
              "\n",
              "    .dataframe thead th {\n",
              "        text-align: right;\n",
              "    }\n",
              "</style>\n",
              "<table border=\"1\" class=\"dataframe\">\n",
              "  <thead>\n",
              "    <tr style=\"text-align: right;\">\n",
              "      <th></th>\n",
              "      <th>Fabricante</th>\n",
              "      <th>Combustível</th>\n",
              "      <th>Portas</th>\n",
              "      <th>Estilo Chassis</th>\n",
              "      <th>Tração</th>\n",
              "      <th>Comprimento</th>\n",
              "      <th>Largura</th>\n",
              "      <th>Altura</th>\n",
              "      <th>Tipo de motor</th>\n",
              "      <th>Número de cilindros</th>\n",
              "      <th>Tamanho do motor</th>\n",
              "      <th>Tipo de injeção</th>\n",
              "      <th>Potência (HP)</th>\n",
              "      <th>Pico RPM</th>\n",
              "      <th>Preço</th>\n",
              "    </tr>\n",
              "  </thead>\n",
              "  <tbody>\n",
              "    <tr>\n",
              "      <th>0</th>\n",
              "      <td>alfa-romeo</td>\n",
              "      <td>gas</td>\n",
              "      <td>2</td>\n",
              "      <td>conversível</td>\n",
              "      <td>traseira</td>\n",
              "      <td>168.8</td>\n",
              "      <td>64.1</td>\n",
              "      <td>48.8</td>\n",
              "      <td>dohc</td>\n",
              "      <td>4</td>\n",
              "      <td>130.0</td>\n",
              "      <td>mpfi</td>\n",
              "      <td>111.0</td>\n",
              "      <td>5000.0</td>\n",
              "      <td>13495.0</td>\n",
              "    </tr>\n",
              "    <tr>\n",
              "      <th>1</th>\n",
              "      <td>alfa-romeo</td>\n",
              "      <td>gas</td>\n",
              "      <td>2</td>\n",
              "      <td>conversível</td>\n",
              "      <td>traseira</td>\n",
              "      <td>168.8</td>\n",
              "      <td>64.1</td>\n",
              "      <td>48.8</td>\n",
              "      <td>dohc</td>\n",
              "      <td>4</td>\n",
              "      <td>130.0</td>\n",
              "      <td>mpfi</td>\n",
              "      <td>111.0</td>\n",
              "      <td>5000.0</td>\n",
              "      <td>16500.0</td>\n",
              "    </tr>\n",
              "    <tr>\n",
              "      <th>2</th>\n",
              "      <td>alfa-romeo</td>\n",
              "      <td>gas</td>\n",
              "      <td>2</td>\n",
              "      <td>hatch</td>\n",
              "      <td>traseira</td>\n",
              "      <td>171.2</td>\n",
              "      <td>65.5</td>\n",
              "      <td>52.4</td>\n",
              "      <td>ohcv</td>\n",
              "      <td>6</td>\n",
              "      <td>152.0</td>\n",
              "      <td>mpfi</td>\n",
              "      <td>154.0</td>\n",
              "      <td>5000.0</td>\n",
              "      <td>16500.0</td>\n",
              "    </tr>\n",
              "    <tr>\n",
              "      <th>3</th>\n",
              "      <td>audi</td>\n",
              "      <td>gas</td>\n",
              "      <td>4</td>\n",
              "      <td>sedan</td>\n",
              "      <td>dianteira</td>\n",
              "      <td>176.6</td>\n",
              "      <td>66.2</td>\n",
              "      <td>54.3</td>\n",
              "      <td>ohc</td>\n",
              "      <td>4</td>\n",
              "      <td>109.0</td>\n",
              "      <td>mpfi</td>\n",
              "      <td>102.0</td>\n",
              "      <td>5500.0</td>\n",
              "      <td>13950.0</td>\n",
              "    </tr>\n",
              "    <tr>\n",
              "      <th>4</th>\n",
              "      <td>audi</td>\n",
              "      <td>gas</td>\n",
              "      <td>4</td>\n",
              "      <td>sedan</td>\n",
              "      <td>4x4</td>\n",
              "      <td>176.6</td>\n",
              "      <td>66.4</td>\n",
              "      <td>54.3</td>\n",
              "      <td>ohc</td>\n",
              "      <td>5</td>\n",
              "      <td>136.0</td>\n",
              "      <td>mpfi</td>\n",
              "      <td>115.0</td>\n",
              "      <td>5500.0</td>\n",
              "      <td>17450.0</td>\n",
              "    </tr>\n",
              "  </tbody>\n",
              "</table>\n",
              "</div>\n",
              "      <button class=\"colab-df-convert\" onclick=\"convertToInteractive('df-89f86047-7589-4747-bf25-f83cc301de29')\"\n",
              "              title=\"Convert this dataframe to an interactive table.\"\n",
              "              style=\"display:none;\">\n",
              "        \n",
              "  <svg xmlns=\"http://www.w3.org/2000/svg\" height=\"24px\"viewBox=\"0 0 24 24\"\n",
              "       width=\"24px\">\n",
              "    <path d=\"M0 0h24v24H0V0z\" fill=\"none\"/>\n",
              "    <path d=\"M18.56 5.44l.94 2.06.94-2.06 2.06-.94-2.06-.94-.94-2.06-.94 2.06-2.06.94zm-11 1L8.5 8.5l.94-2.06 2.06-.94-2.06-.94L8.5 2.5l-.94 2.06-2.06.94zm10 10l.94 2.06.94-2.06 2.06-.94-2.06-.94-.94-2.06-.94 2.06-2.06.94z\"/><path d=\"M17.41 7.96l-1.37-1.37c-.4-.4-.92-.59-1.43-.59-.52 0-1.04.2-1.43.59L10.3 9.45l-7.72 7.72c-.78.78-.78 2.05 0 2.83L4 21.41c.39.39.9.59 1.41.59.51 0 1.02-.2 1.41-.59l7.78-7.78 2.81-2.81c.8-.78.8-2.07 0-2.86zM5.41 20L4 18.59l7.72-7.72 1.47 1.35L5.41 20z\"/>\n",
              "  </svg>\n",
              "      </button>\n",
              "      \n",
              "  <style>\n",
              "    .colab-df-container {\n",
              "      display:flex;\n",
              "      flex-wrap:wrap;\n",
              "      gap: 12px;\n",
              "    }\n",
              "\n",
              "    .colab-df-convert {\n",
              "      background-color: #E8F0FE;\n",
              "      border: none;\n",
              "      border-radius: 50%;\n",
              "      cursor: pointer;\n",
              "      display: none;\n",
              "      fill: #1967D2;\n",
              "      height: 32px;\n",
              "      padding: 0 0 0 0;\n",
              "      width: 32px;\n",
              "    }\n",
              "\n",
              "    .colab-df-convert:hover {\n",
              "      background-color: #E2EBFA;\n",
              "      box-shadow: 0px 1px 2px rgba(60, 64, 67, 0.3), 0px 1px 3px 1px rgba(60, 64, 67, 0.15);\n",
              "      fill: #174EA6;\n",
              "    }\n",
              "\n",
              "    [theme=dark] .colab-df-convert {\n",
              "      background-color: #3B4455;\n",
              "      fill: #D2E3FC;\n",
              "    }\n",
              "\n",
              "    [theme=dark] .colab-df-convert:hover {\n",
              "      background-color: #434B5C;\n",
              "      box-shadow: 0px 1px 3px 1px rgba(0, 0, 0, 0.15);\n",
              "      filter: drop-shadow(0px 1px 2px rgba(0, 0, 0, 0.3));\n",
              "      fill: #FFFFFF;\n",
              "    }\n",
              "  </style>\n",
              "\n",
              "      <script>\n",
              "        const buttonEl =\n",
              "          document.querySelector('#df-89f86047-7589-4747-bf25-f83cc301de29 button.colab-df-convert');\n",
              "        buttonEl.style.display =\n",
              "          google.colab.kernel.accessAllowed ? 'block' : 'none';\n",
              "\n",
              "        async function convertToInteractive(key) {\n",
              "          const element = document.querySelector('#df-89f86047-7589-4747-bf25-f83cc301de29');\n",
              "          const dataTable =\n",
              "            await google.colab.kernel.invokeFunction('convertToInteractive',\n",
              "                                                     [key], {});\n",
              "          if (!dataTable) return;\n",
              "\n",
              "          const docLinkHtml = 'Like what you see? Visit the ' +\n",
              "            '<a target=\"_blank\" href=https://colab.research.google.com/notebooks/data_table.ipynb>data table notebook</a>'\n",
              "            + ' to learn more about interactive tables.';\n",
              "          element.innerHTML = '';\n",
              "          dataTable['output_type'] = 'display_data';\n",
              "          await google.colab.output.renderOutput(dataTable, element);\n",
              "          const docLink = document.createElement('div');\n",
              "          docLink.innerHTML = docLinkHtml;\n",
              "          element.appendChild(docLink);\n",
              "        }\n",
              "      </script>\n",
              "    </div>\n",
              "  </div>\n",
              "  "
            ]
          },
          "metadata": {},
          "execution_count": 80
        }
      ]
    },
    {
      "cell_type": "code",
      "source": [
        "# Rodapé\n",
        "df.tail(5)"
      ],
      "metadata": {
        "colab": {
          "base_uri": "https://localhost:8080/",
          "height": 268
        },
        "outputId": "015d21fd-6a97-4a37-bbdc-cb82b4db5c2f",
        "id": "g54fUodqdAbp"
      },
      "execution_count": 81,
      "outputs": [
        {
          "output_type": "execute_result",
          "data": {
            "text/plain": [
              "    Fabricante Combustível Portas Estilo Chassis    Tração  Comprimento  \\\n",
              "200      volvo         gas      4          sedan  traseira        188.8   \n",
              "201      volvo      diesel      4          sedan  traseira        188.8   \n",
              "202      volvo         gas      4          sedan  traseira        188.8   \n",
              "203        bmw         gas      4          sedan  traseira        176.8   \n",
              "204      mazda         gas      2          hatch  traseira        169.0   \n",
              "\n",
              "     Largura  Altura Tipo de motor  Número de cilindros  Tamanho do motor  \\\n",
              "200     68.9    55.5          ohcv                    6             173.0   \n",
              "201     68.9    55.5           ohc                    6             145.0   \n",
              "202     68.9    55.5           ohc                    4             141.0   \n",
              "203     64.8    54.3           ohc                    6             164.0   \n",
              "204     65.7    49.6         rotor                    2              70.0   \n",
              "\n",
              "    Tipo de injeção  Potência (HP)  Pico RPM    Preço  \n",
              "200            mpfi          134.0    5500.0  21485.0  \n",
              "201             idi          106.0    4800.0  22470.0  \n",
              "202            mpfi          114.0    5400.0  22625.0  \n",
              "203            mpfi          121.0    4250.0  21105.0  \n",
              "204            4bbl          101.0    6000.0  10945.0  "
            ],
            "text/html": [
              "\n",
              "  <div id=\"df-a18eb825-1e33-4eb7-ab8d-52342c46daf0\">\n",
              "    <div class=\"colab-df-container\">\n",
              "      <div>\n",
              "<style scoped>\n",
              "    .dataframe tbody tr th:only-of-type {\n",
              "        vertical-align: middle;\n",
              "    }\n",
              "\n",
              "    .dataframe tbody tr th {\n",
              "        vertical-align: top;\n",
              "    }\n",
              "\n",
              "    .dataframe thead th {\n",
              "        text-align: right;\n",
              "    }\n",
              "</style>\n",
              "<table border=\"1\" class=\"dataframe\">\n",
              "  <thead>\n",
              "    <tr style=\"text-align: right;\">\n",
              "      <th></th>\n",
              "      <th>Fabricante</th>\n",
              "      <th>Combustível</th>\n",
              "      <th>Portas</th>\n",
              "      <th>Estilo Chassis</th>\n",
              "      <th>Tração</th>\n",
              "      <th>Comprimento</th>\n",
              "      <th>Largura</th>\n",
              "      <th>Altura</th>\n",
              "      <th>Tipo de motor</th>\n",
              "      <th>Número de cilindros</th>\n",
              "      <th>Tamanho do motor</th>\n",
              "      <th>Tipo de injeção</th>\n",
              "      <th>Potência (HP)</th>\n",
              "      <th>Pico RPM</th>\n",
              "      <th>Preço</th>\n",
              "    </tr>\n",
              "  </thead>\n",
              "  <tbody>\n",
              "    <tr>\n",
              "      <th>200</th>\n",
              "      <td>volvo</td>\n",
              "      <td>gas</td>\n",
              "      <td>4</td>\n",
              "      <td>sedan</td>\n",
              "      <td>traseira</td>\n",
              "      <td>188.8</td>\n",
              "      <td>68.9</td>\n",
              "      <td>55.5</td>\n",
              "      <td>ohcv</td>\n",
              "      <td>6</td>\n",
              "      <td>173.0</td>\n",
              "      <td>mpfi</td>\n",
              "      <td>134.0</td>\n",
              "      <td>5500.0</td>\n",
              "      <td>21485.0</td>\n",
              "    </tr>\n",
              "    <tr>\n",
              "      <th>201</th>\n",
              "      <td>volvo</td>\n",
              "      <td>diesel</td>\n",
              "      <td>4</td>\n",
              "      <td>sedan</td>\n",
              "      <td>traseira</td>\n",
              "      <td>188.8</td>\n",
              "      <td>68.9</td>\n",
              "      <td>55.5</td>\n",
              "      <td>ohc</td>\n",
              "      <td>6</td>\n",
              "      <td>145.0</td>\n",
              "      <td>idi</td>\n",
              "      <td>106.0</td>\n",
              "      <td>4800.0</td>\n",
              "      <td>22470.0</td>\n",
              "    </tr>\n",
              "    <tr>\n",
              "      <th>202</th>\n",
              "      <td>volvo</td>\n",
              "      <td>gas</td>\n",
              "      <td>4</td>\n",
              "      <td>sedan</td>\n",
              "      <td>traseira</td>\n",
              "      <td>188.8</td>\n",
              "      <td>68.9</td>\n",
              "      <td>55.5</td>\n",
              "      <td>ohc</td>\n",
              "      <td>4</td>\n",
              "      <td>141.0</td>\n",
              "      <td>mpfi</td>\n",
              "      <td>114.0</td>\n",
              "      <td>5400.0</td>\n",
              "      <td>22625.0</td>\n",
              "    </tr>\n",
              "    <tr>\n",
              "      <th>203</th>\n",
              "      <td>bmw</td>\n",
              "      <td>gas</td>\n",
              "      <td>4</td>\n",
              "      <td>sedan</td>\n",
              "      <td>traseira</td>\n",
              "      <td>176.8</td>\n",
              "      <td>64.8</td>\n",
              "      <td>54.3</td>\n",
              "      <td>ohc</td>\n",
              "      <td>6</td>\n",
              "      <td>164.0</td>\n",
              "      <td>mpfi</td>\n",
              "      <td>121.0</td>\n",
              "      <td>4250.0</td>\n",
              "      <td>21105.0</td>\n",
              "    </tr>\n",
              "    <tr>\n",
              "      <th>204</th>\n",
              "      <td>mazda</td>\n",
              "      <td>gas</td>\n",
              "      <td>2</td>\n",
              "      <td>hatch</td>\n",
              "      <td>traseira</td>\n",
              "      <td>169.0</td>\n",
              "      <td>65.7</td>\n",
              "      <td>49.6</td>\n",
              "      <td>rotor</td>\n",
              "      <td>2</td>\n",
              "      <td>70.0</td>\n",
              "      <td>4bbl</td>\n",
              "      <td>101.0</td>\n",
              "      <td>6000.0</td>\n",
              "      <td>10945.0</td>\n",
              "    </tr>\n",
              "  </tbody>\n",
              "</table>\n",
              "</div>\n",
              "      <button class=\"colab-df-convert\" onclick=\"convertToInteractive('df-a18eb825-1e33-4eb7-ab8d-52342c46daf0')\"\n",
              "              title=\"Convert this dataframe to an interactive table.\"\n",
              "              style=\"display:none;\">\n",
              "        \n",
              "  <svg xmlns=\"http://www.w3.org/2000/svg\" height=\"24px\"viewBox=\"0 0 24 24\"\n",
              "       width=\"24px\">\n",
              "    <path d=\"M0 0h24v24H0V0z\" fill=\"none\"/>\n",
              "    <path d=\"M18.56 5.44l.94 2.06.94-2.06 2.06-.94-2.06-.94-.94-2.06-.94 2.06-2.06.94zm-11 1L8.5 8.5l.94-2.06 2.06-.94-2.06-.94L8.5 2.5l-.94 2.06-2.06.94zm10 10l.94 2.06.94-2.06 2.06-.94-2.06-.94-.94-2.06-.94 2.06-2.06.94z\"/><path d=\"M17.41 7.96l-1.37-1.37c-.4-.4-.92-.59-1.43-.59-.52 0-1.04.2-1.43.59L10.3 9.45l-7.72 7.72c-.78.78-.78 2.05 0 2.83L4 21.41c.39.39.9.59 1.41.59.51 0 1.02-.2 1.41-.59l7.78-7.78 2.81-2.81c.8-.78.8-2.07 0-2.86zM5.41 20L4 18.59l7.72-7.72 1.47 1.35L5.41 20z\"/>\n",
              "  </svg>\n",
              "      </button>\n",
              "      \n",
              "  <style>\n",
              "    .colab-df-container {\n",
              "      display:flex;\n",
              "      flex-wrap:wrap;\n",
              "      gap: 12px;\n",
              "    }\n",
              "\n",
              "    .colab-df-convert {\n",
              "      background-color: #E8F0FE;\n",
              "      border: none;\n",
              "      border-radius: 50%;\n",
              "      cursor: pointer;\n",
              "      display: none;\n",
              "      fill: #1967D2;\n",
              "      height: 32px;\n",
              "      padding: 0 0 0 0;\n",
              "      width: 32px;\n",
              "    }\n",
              "\n",
              "    .colab-df-convert:hover {\n",
              "      background-color: #E2EBFA;\n",
              "      box-shadow: 0px 1px 2px rgba(60, 64, 67, 0.3), 0px 1px 3px 1px rgba(60, 64, 67, 0.15);\n",
              "      fill: #174EA6;\n",
              "    }\n",
              "\n",
              "    [theme=dark] .colab-df-convert {\n",
              "      background-color: #3B4455;\n",
              "      fill: #D2E3FC;\n",
              "    }\n",
              "\n",
              "    [theme=dark] .colab-df-convert:hover {\n",
              "      background-color: #434B5C;\n",
              "      box-shadow: 0px 1px 3px 1px rgba(0, 0, 0, 0.15);\n",
              "      filter: drop-shadow(0px 1px 2px rgba(0, 0, 0, 0.3));\n",
              "      fill: #FFFFFF;\n",
              "    }\n",
              "  </style>\n",
              "\n",
              "      <script>\n",
              "        const buttonEl =\n",
              "          document.querySelector('#df-a18eb825-1e33-4eb7-ab8d-52342c46daf0 button.colab-df-convert');\n",
              "        buttonEl.style.display =\n",
              "          google.colab.kernel.accessAllowed ? 'block' : 'none';\n",
              "\n",
              "        async function convertToInteractive(key) {\n",
              "          const element = document.querySelector('#df-a18eb825-1e33-4eb7-ab8d-52342c46daf0');\n",
              "          const dataTable =\n",
              "            await google.colab.kernel.invokeFunction('convertToInteractive',\n",
              "                                                     [key], {});\n",
              "          if (!dataTable) return;\n",
              "\n",
              "          const docLinkHtml = 'Like what you see? Visit the ' +\n",
              "            '<a target=\"_blank\" href=https://colab.research.google.com/notebooks/data_table.ipynb>data table notebook</a>'\n",
              "            + ' to learn more about interactive tables.';\n",
              "          element.innerHTML = '';\n",
              "          dataTable['output_type'] = 'display_data';\n",
              "          await google.colab.output.renderOutput(dataTable, element);\n",
              "          const docLink = document.createElement('div');\n",
              "          docLink.innerHTML = docLinkHtml;\n",
              "          element.appendChild(docLink);\n",
              "        }\n",
              "      </script>\n",
              "    </div>\n",
              "  </div>\n",
              "  "
            ]
          },
          "metadata": {},
          "execution_count": 81
        }
      ]
    },
    {
      "cell_type": "code",
      "source": [
        "# Número de linhas e colunas\n",
        "df.shape"
      ],
      "metadata": {
        "colab": {
          "base_uri": "https://localhost:8080/"
        },
        "outputId": "5a553fc1-bbe5-43e2-9621-33d6c5f8a7b6",
        "id": "cg3fzJawdAbq"
      },
      "execution_count": 82,
      "outputs": [
        {
          "output_type": "execute_result",
          "data": {
            "text/plain": [
              "(205, 15)"
            ]
          },
          "metadata": {},
          "execution_count": 82
        }
      ]
    },
    {
      "cell_type": "code",
      "source": [
        "# Informações\n",
        "df.info()"
      ],
      "metadata": {
        "colab": {
          "base_uri": "https://localhost:8080/"
        },
        "outputId": "a6bde366-4c92-445a-bf7c-97849789ecda",
        "id": "W_g4x8J1dAbq"
      },
      "execution_count": 83,
      "outputs": [
        {
          "output_type": "stream",
          "name": "stdout",
          "text": [
            "<class 'pandas.core.frame.DataFrame'>\n",
            "RangeIndex: 205 entries, 0 to 204\n",
            "Data columns (total 15 columns):\n",
            " #   Column               Non-Null Count  Dtype   \n",
            "---  ------               --------------  -----   \n",
            " 0   Fabricante           205 non-null    object  \n",
            " 1   Combustível          205 non-null    object  \n",
            " 2   Portas               205 non-null    category\n",
            " 3   Estilo Chassis       205 non-null    object  \n",
            " 4   Tração               205 non-null    object  \n",
            " 5   Comprimento          205 non-null    float64 \n",
            " 6   Largura              205 non-null    float64 \n",
            " 7   Altura               205 non-null    float64 \n",
            " 8   Tipo de motor        205 non-null    object  \n",
            " 9   Número de cilindros  205 non-null    int64   \n",
            " 10  Tamanho do motor     205 non-null    float64 \n",
            " 11  Tipo de injeção      205 non-null    object  \n",
            " 12  Potência (HP)        205 non-null    float64 \n",
            " 13  Pico RPM             205 non-null    float64 \n",
            " 14  Preço                205 non-null    float64 \n",
            "dtypes: category(1), float64(7), int64(1), object(6)\n",
            "memory usage: 22.9+ KB\n"
          ]
        }
      ]
    },
    {
      "cell_type": "code",
      "source": [
        "# Dados faltantes\n",
        "df.isnull().sum()"
      ],
      "metadata": {
        "colab": {
          "base_uri": "https://localhost:8080/"
        },
        "outputId": "c152789d-7a44-4243-8449-b814b9909886",
        "id": "wKYmCLeFdAbq"
      },
      "execution_count": 84,
      "outputs": [
        {
          "output_type": "execute_result",
          "data": {
            "text/plain": [
              "Fabricante             0\n",
              "Combustível            0\n",
              "Portas                 0\n",
              "Estilo Chassis         0\n",
              "Tração                 0\n",
              "Comprimento            0\n",
              "Largura                0\n",
              "Altura                 0\n",
              "Tipo de motor          0\n",
              "Número de cilindros    0\n",
              "Tamanho do motor       0\n",
              "Tipo de injeção        0\n",
              "Potência (HP)          0\n",
              "Pico RPM               0\n",
              "Preço                  0\n",
              "dtype: int64"
            ]
          },
          "metadata": {},
          "execution_count": 84
        }
      ]
    }
  ]
}